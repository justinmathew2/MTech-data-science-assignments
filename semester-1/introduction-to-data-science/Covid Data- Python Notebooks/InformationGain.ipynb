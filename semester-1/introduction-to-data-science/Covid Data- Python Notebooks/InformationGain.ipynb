{
 "cells": [
  {
   "cell_type": "code",
   "execution_count": 1,
   "id": "b6a00a25",
   "metadata": {},
   "outputs": [],
   "source": [
    "import pandas as pd\n",
    "import numpy as np"
   ]
  },
  {
   "cell_type": "code",
   "execution_count": 2,
   "id": "84204940",
   "metadata": {},
   "outputs": [
    {
     "name": "stdout",
     "output_type": "stream",
     "text": [
      "     Gender  Age  Co_Morbid  Admit_date Discharge_date  Remdesivir_Given  \\\n",
      "0         M   46          1  01-09-2021     15-09-2021                 0   \n",
      "1         M   51          1  03-09-2021     15-09-2021                 1   \n",
      "2         F   82          1  06-09-2021     15-09-2021                 1   \n",
      "3         M   51          1  08-09-2021     15-09-2021                 0   \n",
      "4         M   66          1  09-09-2021     15-09-2021                 0   \n",
      "...     ...  ...        ...         ...            ...               ...   \n",
      "1227      F   76          1  25-04-2021     26-04-2021                 0   \n",
      "1228      F   27          0  16-04-2021     26-04-2021                 0   \n",
      "1229      M   65          1  14-04-2021     25-04-2021                 0   \n",
      "1230      F   76          1  15-04-2021     24-04-2021                 0   \n",
      "1231      F   32          0  19-04-2021     24-04-2021                 1   \n",
      "\n",
      "      DaysOfStay  DischargeType  Covid_Severity Covid_SeverityDescription  \\\n",
      "0             14              1               3                    Severe   \n",
      "1             12              2               3                    Severe   \n",
      "2              9              2               3                    Severe   \n",
      "3              7              1               2                  Moderate   \n",
      "4              6              1               1                      Mild   \n",
      "...          ...            ...             ...                       ...   \n",
      "1227           1              2               2                  Moderate   \n",
      "1228          10              2               1                      Mild   \n",
      "1229          11              2               4              Undetermined   \n",
      "1230           9              1               3                    Severe   \n",
      "1231           5              1               2                  Moderate   \n",
      "\n",
      "     DischargeTypeCategorical  \n",
      "0                   Recovered  \n",
      "1                     Expired  \n",
      "2                     Expired  \n",
      "3                   Recovered  \n",
      "4                   Recovered  \n",
      "...                       ...  \n",
      "1227                  Expired  \n",
      "1228                  Expired  \n",
      "1229                  Expired  \n",
      "1230                Recovered  \n",
      "1231                Recovered  \n",
      "\n",
      "[1232 rows x 11 columns]\n"
     ]
    }
   ],
   "source": [
    "df = pd.read_csv(\"Covid_data.csv\")\n",
    "print(df)"
   ]
  },
  {
   "cell_type": "code",
   "execution_count": 3,
   "id": "6e611b4a",
   "metadata": {},
   "outputs": [],
   "source": [
    "# Information Gain - Filter Method\n",
    "# It can be used for feature selection by evaluating the Information gain of each variable in the context of the target variable.\n",
    "from sklearn import preprocessing\n",
    "from sklearn.feature_selection import mutual_info_classif\n",
    "import matplotlib.pyplot as plt"
   ]
  },
  {
   "cell_type": "code",
   "execution_count": 4,
   "id": "3cc759c8",
   "metadata": {},
   "outputs": [],
   "source": [
    "# Encode the Categorical data of Gender - using Dummy Column - Creates a new column called Gender_M\n",
    "# Use Dummy Variables\n",
    "df = pd.get_dummies(df, columns=['Gender'], drop_first=True)"
   ]
  },
  {
   "cell_type": "code",
   "execution_count": 5,
   "id": "ab7da534",
   "metadata": {},
   "outputs": [
    {
     "name": "stdout",
     "output_type": "stream",
     "text": [
      "Index(['Age', 'Co_Morbid', 'Admit_date', 'Discharge_date', 'Remdesivir_Given',\n",
      "       'DaysOfStay', 'DischargeType', 'Covid_Severity',\n",
      "       'Covid_SeverityDescription', 'DischargeTypeCategorical', 'Gender_M'],\n",
      "      dtype='object')\n",
      "Age\n"
     ]
    }
   ],
   "source": [
    "print(df.columns)\n",
    "print(df.columns[0])\n",
    "# Columns - Age [0], Co_Morbid [1], Admit_date [2], Discharge_date [3], Remdesevir_given [4], \n",
    "# DaysofStay [5], DischargeType [6], Covid_Severity [7], \n",
    "# Covid_SeverityDescription [8], DischargeTypeCategorical [9], Gender_M [10]"
   ]
  },
  {
   "cell_type": "code",
   "execution_count": 6,
   "id": "38589310",
   "metadata": {},
   "outputs": [
    {
     "data": {
      "text/html": [
       "<div>\n",
       "<style scoped>\n",
       "    .dataframe tbody tr th:only-of-type {\n",
       "        vertical-align: middle;\n",
       "    }\n",
       "\n",
       "    .dataframe tbody tr th {\n",
       "        vertical-align: top;\n",
       "    }\n",
       "\n",
       "    .dataframe thead th {\n",
       "        text-align: right;\n",
       "    }\n",
       "</style>\n",
       "<table border=\"1\" class=\"dataframe\">\n",
       "  <thead>\n",
       "    <tr style=\"text-align: right;\">\n",
       "      <th></th>\n",
       "      <th>Age</th>\n",
       "      <th>Co_Morbid</th>\n",
       "      <th>Remdesivir_Given</th>\n",
       "      <th>DaysOfStay</th>\n",
       "      <th>Covid_Severity</th>\n",
       "      <th>Gender_M</th>\n",
       "    </tr>\n",
       "  </thead>\n",
       "  <tbody>\n",
       "    <tr>\n",
       "      <th>0</th>\n",
       "      <td>46</td>\n",
       "      <td>1</td>\n",
       "      <td>0</td>\n",
       "      <td>14</td>\n",
       "      <td>3</td>\n",
       "      <td>1</td>\n",
       "    </tr>\n",
       "    <tr>\n",
       "      <th>1</th>\n",
       "      <td>51</td>\n",
       "      <td>1</td>\n",
       "      <td>1</td>\n",
       "      <td>12</td>\n",
       "      <td>3</td>\n",
       "      <td>1</td>\n",
       "    </tr>\n",
       "    <tr>\n",
       "      <th>2</th>\n",
       "      <td>82</td>\n",
       "      <td>1</td>\n",
       "      <td>1</td>\n",
       "      <td>9</td>\n",
       "      <td>3</td>\n",
       "      <td>0</td>\n",
       "    </tr>\n",
       "    <tr>\n",
       "      <th>3</th>\n",
       "      <td>51</td>\n",
       "      <td>1</td>\n",
       "      <td>0</td>\n",
       "      <td>7</td>\n",
       "      <td>2</td>\n",
       "      <td>1</td>\n",
       "    </tr>\n",
       "    <tr>\n",
       "      <th>4</th>\n",
       "      <td>66</td>\n",
       "      <td>1</td>\n",
       "      <td>0</td>\n",
       "      <td>6</td>\n",
       "      <td>1</td>\n",
       "      <td>1</td>\n",
       "    </tr>\n",
       "    <tr>\n",
       "      <th>...</th>\n",
       "      <td>...</td>\n",
       "      <td>...</td>\n",
       "      <td>...</td>\n",
       "      <td>...</td>\n",
       "      <td>...</td>\n",
       "      <td>...</td>\n",
       "    </tr>\n",
       "    <tr>\n",
       "      <th>1227</th>\n",
       "      <td>76</td>\n",
       "      <td>1</td>\n",
       "      <td>0</td>\n",
       "      <td>1</td>\n",
       "      <td>2</td>\n",
       "      <td>0</td>\n",
       "    </tr>\n",
       "    <tr>\n",
       "      <th>1228</th>\n",
       "      <td>27</td>\n",
       "      <td>0</td>\n",
       "      <td>0</td>\n",
       "      <td>10</td>\n",
       "      <td>1</td>\n",
       "      <td>0</td>\n",
       "    </tr>\n",
       "    <tr>\n",
       "      <th>1229</th>\n",
       "      <td>65</td>\n",
       "      <td>1</td>\n",
       "      <td>0</td>\n",
       "      <td>11</td>\n",
       "      <td>4</td>\n",
       "      <td>1</td>\n",
       "    </tr>\n",
       "    <tr>\n",
       "      <th>1230</th>\n",
       "      <td>76</td>\n",
       "      <td>1</td>\n",
       "      <td>0</td>\n",
       "      <td>9</td>\n",
       "      <td>3</td>\n",
       "      <td>0</td>\n",
       "    </tr>\n",
       "    <tr>\n",
       "      <th>1231</th>\n",
       "      <td>32</td>\n",
       "      <td>0</td>\n",
       "      <td>1</td>\n",
       "      <td>5</td>\n",
       "      <td>2</td>\n",
       "      <td>0</td>\n",
       "    </tr>\n",
       "  </tbody>\n",
       "</table>\n",
       "<p>1232 rows × 6 columns</p>\n",
       "</div>"
      ],
      "text/plain": [
       "      Age  Co_Morbid  Remdesivir_Given  DaysOfStay  Covid_Severity  Gender_M\n",
       "0      46          1                 0          14               3         1\n",
       "1      51          1                 1          12               3         1\n",
       "2      82          1                 1           9               3         0\n",
       "3      51          1                 0           7               2         1\n",
       "4      66          1                 0           6               1         1\n",
       "...   ...        ...               ...         ...             ...       ...\n",
       "1227   76          1                 0           1               2         0\n",
       "1228   27          0                 0          10               1         0\n",
       "1229   65          1                 0          11               4         1\n",
       "1230   76          1                 0           9               3         0\n",
       "1231   32          0                 1           5               2         0\n",
       "\n",
       "[1232 rows x 6 columns]"
      ]
     },
     "execution_count": 6,
     "metadata": {},
     "output_type": "execute_result"
    }
   ],
   "source": [
    "X = df.iloc[:,[0,1,4,5,7,10]]   #Age,Co_Morbid, Remdesevir_given, DaysofStay, Covid_Severity,Gender_M\n",
    "Y = df.iloc[:,[6]]  #DischargeType\n",
    "X"
   ]
  },
  {
   "cell_type": "code",
   "execution_count": 7,
   "id": "18964bba",
   "metadata": {},
   "outputs": [
    {
     "data": {
      "image/png": "[encoded data removed]",
      "text/plain": [
       "<Figure size 432x288 with 1 Axes>"
      ]
     },
     "metadata": {
      "needs_background": "light"
     },
     "output_type": "display_data"
    }
   ],
   "source": [
    "importances = mutual_info_classif(X,Y.values.ravel())\n",
    "feat_importances = pd.Series(importances,index=[0,1,4,5,7,10])\n",
    "feat_importances.plot(kind='bar')\n",
    "plt.show()"
   ]
  },
  {
   "cell_type": "code",
   "execution_count": null,
   "id": "266a3071",
   "metadata": {},
   "outputs": [],
   "source": []
  },
  {
   "cell_type": "code",
   "execution_count": null,
   "id": "7e8a00c7",
   "metadata": {},
   "outputs": [],
   "source": []
  },
  {
   "cell_type": "code",
   "execution_count": null,
   "id": "b7887c15",
   "metadata": {},
   "outputs": [],
   "source": []
  },
  {
   "cell_type": "code",
   "execution_count": null,
   "id": "2aea6c1c",
   "metadata": {},
   "outputs": [],
   "source": []
  },
  {
   "cell_type": "code",
   "execution_count": null,
   "id": "08d1a59c",
   "metadata": {},
   "outputs": [],
   "source": []
  }
 ],
 "metadata": {
  "jupytext": {
   "cell_metadata_filter": "-all",
   "main_language": "python",
   "notebook_metadata_filter": "-all"
  },
  "kernelspec": {
   "display_name": "Python 3",
   "language": "python",
   "name": "python3"
  },
  "language_info": {
   "codemirror_mode": {
    "name": "ipython",
    "version": 3
   },
   "file_extension": ".py",
   "mimetype": "text/x-python",
   "name": "python",
   "nbconvert_exporter": "python",
   "pygments_lexer": "ipython3",
   "version": "3.7.3"
  }
 },
 "nbformat": 4,
 "nbformat_minor": 5
}
