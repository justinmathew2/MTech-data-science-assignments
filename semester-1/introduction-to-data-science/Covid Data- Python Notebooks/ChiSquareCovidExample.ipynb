{
 "cells": [
  {
   "cell_type": "code",
   "execution_count": 11,
   "id": "92382f7c",
   "metadata": {},
   "outputs": [],
   "source": [
    "# Code to demonstrate ChiSquare for the Covid Dataset\n",
    "import pandas as pd\n",
    "import numpy as np"
   ]
  },
  {
   "cell_type": "code",
   "execution_count": 12,
   "id": "7ea0e715",
   "metadata": {},
   "outputs": [
    {
     "name": "stdout",
     "output_type": "stream",
     "text": [
      "     Gender  Age  Co_Morbid  Admit_date Discharge_date  Remdesivir_Given  \\\n",
      "0         M   46          1  01-09-2021     15-09-2021                 0   \n",
      "1         M   51          1  03-09-2021     15-09-2021                 1   \n",
      "2         F   82          1  06-09-2021     15-09-2021                 1   \n",
      "3         M   51          1  08-09-2021     15-09-2021                 0   \n",
      "4         M   66          1  09-09-2021     15-09-2021                 0   \n",
      "...     ...  ...        ...         ...            ...               ...   \n",
      "1227      F   76          1  25-04-2021     26-04-2021                 0   \n",
      "1228      F   27          0  16-04-2021     26-04-2021                 0   \n",
      "1229      M   65          1  14-04-2021     25-04-2021                 0   \n",
      "1230      F   76          1  15-04-2021     24-04-2021                 0   \n",
      "1231      F   32          0  19-04-2021     24-04-2021                 1   \n",
      "\n",
      "      DaysOfStay  DischargeType  Covid_Severity Covid_SeverityDescription  \\\n",
      "0             14              1               3                    Severe   \n",
      "1             12              2               3                    Severe   \n",
      "2              9              2               3                    Severe   \n",
      "3              7              1               2                  Moderate   \n",
      "4              6              1               1                      Mild   \n",
      "...          ...            ...             ...                       ...   \n",
      "1227           1              2               2                  Moderate   \n",
      "1228          10              2               1                      Mild   \n",
      "1229          11              2               4              Undetermined   \n",
      "1230           9              1               3                    Severe   \n",
      "1231           5              1               2                  Moderate   \n",
      "\n",
      "     DischargeTypeCategorical  \n",
      "0                   Recovered  \n",
      "1                     Expired  \n",
      "2                     Expired  \n",
      "3                   Recovered  \n",
      "4                   Recovered  \n",
      "...                       ...  \n",
      "1227                  Expired  \n",
      "1228                  Expired  \n",
      "1229                  Expired  \n",
      "1230                Recovered  \n",
      "1231                Recovered  \n",
      "\n",
      "[1232 rows x 11 columns]\n"
     ]
    }
   ],
   "source": [
    "df = pd.read_csv(\"Covid_data.csv\")\n",
    "print(df)"
   ]
  },
  {
   "cell_type": "code",
   "execution_count": 13,
   "id": "8646c449",
   "metadata": {},
   "outputs": [
    {
     "name": "stdout",
     "output_type": "stream",
     "text": [
      "Covid_SeverityDescription  Gender\n",
      "Mild                       F         101\n",
      "                           M         149\n",
      "Moderate                   F          72\n",
      "                           M         124\n",
      "Severe                     F         145\n",
      "                           M         251\n",
      "Undetermined               F         175\n",
      "                           M         215\n",
      "dtype: int64\n"
     ]
    }
   ],
   "source": [
    "# To explore the correlation between Gender and Covid_SeverityDescription in the dataset \n",
    "new = df.groupby(['Covid_SeverityDescription','Gender']).size()\n",
    "print(new)\n",
    "# mild - 101 [female], 149 [male] \n",
    "# moderate - 72 [female],124 [male]\n",
    "# severe - 145 [female], 251 [male]\n",
    "# undetermined - 175 [female], 215 [male]"
   ]
  },
  {
   "cell_type": "code",
   "execution_count": 14,
   "id": "1f303b0f",
   "metadata": {},
   "outputs": [],
   "source": [
    "from scipy.stats import chi2_contingency\n",
    "data = [101,72,145,175], [149,124,251,215]\n",
    "stat, p, dof, expected = chi2_contingency(data)"
   ]
  },
  {
   "cell_type": "code",
   "execution_count": 15,
   "id": "6ea66115",
   "metadata": {},
   "outputs": [
    {
     "name": "stdout",
     "output_type": "stream",
     "text": [
      "p value is 0.08457983032957361\n",
      "Independent (H0 holds true)\n"
     ]
    }
   ],
   "source": [
    "## interpret p-value\n",
    "alpha = 0.05\n",
    "print(\"p value is \" + str(p))\n",
    "if p <= alpha:\n",
    "\tprint('Dependent (reject H0)')\n",
    "else:\n",
    "\tprint('Independent (H0 holds true)')"
   ]
  },
  {
   "cell_type": "markdown",
   "id": "6a318f29",
   "metadata": {
    "lines_to_next_cell": 2
   },
   "source": [
    "Output: p value is 0.0845; Independent (H0 holds True)\n",
    "alpha of 0.05 < 0.0845"
   ]
  }
 ],
 "metadata": {
  "jupytext": {
   "cell_metadata_filter": "-all",
   "main_language": "python",
   "notebook_metadata_filter": "-all"
  },
  "kernelspec": {
   "display_name": "Python 3 (ipykernel)",
   "language": "python",
   "name": "python3"
  },
  "language_info": {
   "codemirror_mode": {
    "name": "ipython",
    "version": 3
   },
   "file_extension": ".py",
   "mimetype": "text/x-python",
   "name": "python",
   "nbconvert_exporter": "python",
   "pygments_lexer": "ipython3",
   "version": "3.9.13"
  }
 },
 "nbformat": 4,
 "nbformat_minor": 5
}
