{
 "cells": [
  {
   "cell_type": "markdown",
   "metadata": {
    "id": "q3UrlGMOMLrC"
   },
   "source": [
    "# Exercise\n",
    "\n",
    "Modify the code as per the below instructions\n",
    "- Use a different dataset.\n",
    "- Choose a different embedding like word2vec or gensim, if applicable.\n",
    "- Modify the architecture, as below\n",
    "    - Single layer of GRU and FC\n",
    "    - Two layers of GRU and FC\n",
    "- Change the number of GRU units in each layer.\n"
   ]
  },
  {
   "cell_type": "markdown",
   "metadata": {
    "id": "lfG_fyaiMLq8"
   },
   "source": [
    "# Multivariate Time Series Forecasting"
   ]
  },
  {
   "cell_type": "code",
   "execution_count": null,
   "metadata": {
    "id": "uvBYSHNzMLq-"
   },
   "outputs": [],
   "source": [
    "import numpy as np\n",
    "import matplotlib.pyplot as plt\n",
    "import pandas as pd\n",
    "import tensorflow as tf\n",
    "from tensorflow.keras.preprocessing.sequence import pad_sequences\n",
    "from tensorflow.keras.models import Sequential\n",
    "from tensorflow.keras.layers import Embedding, GRU, Dense, Flatten\n",
    "from tensorflow.keras.datasets import imdb\n",
    "from sklearn.model_selection import train_test_split\n",
    "from gensim.models import Word2Vec"
   ]
  },
  {
   "cell_type": "markdown",
   "metadata": {
    "id": "Q94jb-fcMLq_"
   },
   "source": [
    "## Dataset preparation"
   ]
  },
  {
   "cell_type": "code",
   "execution_count": null,
   "metadata": {
    "id": "DdZerukQMLq_"
   },
   "outputs": [],
   "source": [
    "# Load IMDb dataset\n",
    "vocab_size = 20000\n",
    "(Xtrain, ytrain), (Xtest, ytest) = imdb.load_data(num_words=vocab_size)\n",
    "\n",
    "# Combine train and test data for splitting\n",
    "X = np.concatenate((Xtrain, Xtest), axis=0)\n",
    "y = np.concatenate((ytrain, ytest), axis=0)\n",
    "\n",
    "# Split the data into train and test sets\n",
    "Xtrain, Xtest, ytrain, ytest = train_test_split(X, y, test_size=0.2, random_state=42)\n",
    "\n",
    "# Pad sequences to a maximum review length\n",
    "maxlen = 200\n",
    "Xtrain = pad_sequences(Xtrain, padding='post', maxlen=maxlen)\n",
    "Xtest = pad_sequences(Xtest, padding='post', maxlen=maxlen)"
   ]
  },
  {
   "cell_type": "code",
   "execution_count": null,
   "metadata": {
    "colab": {
     "base_uri": "https://localhost:8080/"
    },
    "executionInfo": {
     "elapsed": 644,
     "status": "ok",
     "timestamp": 1709388586616,
     "user": {
      "displayName": "KAJA SAI MANOJ",
      "userId": "14700601486028732329"
     },
     "user_tz": -330
    },
    "id": "vTOFU05MMLrA",
    "outputId": "d6d9b361-2037-46b3-80bd-23a48bd899e9"
   },
   "outputs": [
    {
     "name": "stdout",
     "output_type": "stream",
     "text": [
      "(40000, 200) (40000,) (10000, 200) (10000,)\n"
     ]
    }
   ],
   "source": [
    "print(Xtrain.shape, ytrain.shape, Xtest.shape, ytest.shape)"
   ]
  },
  {
   "cell_type": "code",
   "execution_count": null,
   "metadata": {
    "id": "x6fUipSRfI32"
   },
   "outputs": [],
   "source": [
    "# Train Word2Vec model\n",
    "word2vec_model = Word2Vec(sentences=Xtrain.tolist(), vector_size=100, window=5, min_count=1, workers=4)\n",
    "\n",
    "# Create word index\n",
    "word_index = imdb.get_word_index()\n",
    "\n",
    "# Retrieve word embeddings\n",
    "embedding_matrix = np.zeros((vocab_size, 100))\n",
    "for word, i in word_index.items():\n",
    "    if i < vocab_size:\n",
    "        try:\n",
    "            embedding_vector = word2vec_model.wv[word]\n",
    "            if embedding_vector is not None:\n",
    "                embedding_matrix[i] = embedding_vector\n",
    "        except KeyError:\n",
    "            # Word not found in Word2Vec model vocabulary, leave the embedding as zeros\n",
    "            pass"
   ]
  },
  {
   "cell_type": "markdown",
   "metadata": {
    "id": "IImPkW_OMLrB"
   },
   "source": [
    "## GRU RNN"
   ]
  },
  {
   "cell_type": "code",
   "execution_count": null,
   "metadata": {
    "colab": {
     "base_uri": "https://localhost:8080/"
    },
    "executionInfo": {
     "elapsed": 1141,
     "status": "ok",
     "timestamp": 1709388691627,
     "user": {
      "displayName": "KAJA SAI MANOJ",
      "userId": "14700601486028732329"
     },
     "user_tz": -330
    },
    "id": "W80MXPxlMLrB",
    "outputId": "331597f0-a469-4eb8-d6f7-bc1647c80479"
   },
   "outputs": [
    {
     "name": "stdout",
     "output_type": "stream",
     "text": [
      "Model: \"sequential_1\"\n",
      "_________________________________________________________________\n",
      " Layer (type)                Output Shape              Param #   \n",
      "=================================================================\n",
      " embedding (Embedding)       (None, 200, 100)          2000000   \n",
      "                                                                 \n",
      " gru (GRU)                   (None, 64)                31872     \n",
      "                                                                 \n",
      " dense (Dense)               (None, 1)                 65        \n",
      "                                                                 \n",
      "=================================================================\n",
      "Total params: 2031937 (7.75 MB)\n",
      "Trainable params: 31937 (124.75 KB)\n",
      "Non-trainable params: 2000000 (7.63 MB)\n",
      "_________________________________________________________________\n",
      "None\n"
     ]
    }
   ],
   "source": [
    "# Define model architecture - Single layer of GRU and FC layer\n",
    "model_single_layer = Sequential()\n",
    "model_single_layer.add(Embedding(input_dim=vocab_size, output_dim=100, weights=[embedding_matrix], input_length=maxlen, trainable=False))\n",
    "model_single_layer.add(GRU(units=64))\n",
    "model_single_layer.add(Dense(units=1, activation='sigmoid'))\n",
    "model_single_layer.compile(optimizer='adam', loss='binary_crossentropy', metrics=['accuracy'])\n",
    "print(model_single_layer.summary())"
   ]
  },
  {
   "cell_type": "code",
   "execution_count": null,
   "metadata": {
    "id": "ZHVco-ktMLrB"
   },
   "outputs": [],
   "source": [
    "# Configure  the model for training, by using appropriate optimizers and regularizations\n",
    "# Available optimizer: adam, rmsprop, adagrad, sgd\n",
    "# loss:  objective that the model will try to minimize.\n",
    "# Available loss: categorical_crossentropy, binary_crossentropy, mean_squared_error\n",
    "# metrics: List of metrics to be evaluated by the model during training and testing.\n",
    "\n",
    "model_single_layer.compile(loss='mae', optimizer='adam', metrics=['mae'])"
   ]
  },
  {
   "cell_type": "code",
   "execution_count": null,
   "metadata": {
    "colab": {
     "base_uri": "https://localhost:8080/"
    },
    "executionInfo": {
     "elapsed": 384623,
     "status": "ok",
     "timestamp": 1709389158794,
     "user": {
      "displayName": "KAJA SAI MANOJ",
      "userId": "14700601486028732329"
     },
     "user_tz": -330
    },
    "id": "y8LK3F4-MLrC",
    "outputId": "69354529-d7fd-46b6-a743-b6064d118044"
   },
   "outputs": [
    {
     "name": "stdout",
     "output_type": "stream",
     "text": [
      "Epoch 1/5\n",
      "250/250 [==============================] - 76s 292ms/step - loss: 0.5001 - mae: 0.5001 - val_loss: 0.4996 - val_mae: 0.4996\n",
      "Epoch 2/5\n",
      "250/250 [==============================] - 70s 279ms/step - loss: 0.5001 - mae: 0.5001 - val_loss: 0.4996 - val_mae: 0.4996\n",
      "Epoch 3/5\n",
      "250/250 [==============================] - 76s 305ms/step - loss: 0.5001 - mae: 0.5001 - val_loss: 0.4996 - val_mae: 0.4996\n",
      "Epoch 4/5\n",
      "250/250 [==============================] - 70s 280ms/step - loss: 0.5000 - mae: 0.5000 - val_loss: 0.4995 - val_mae: 0.4995\n",
      "Epoch 5/5\n",
      "250/250 [==============================] - 71s 286ms/step - loss: 0.5000 - mae: 0.5000 - val_loss: 0.4992 - val_mae: 0.4992\n"
     ]
    }
   ],
   "source": [
    "# Train the model\n",
    "history_single_layer = model_single_layer.fit(Xtrain, ytrain, epochs=5, batch_size=128, validation_split=0.2)\n"
   ]
  },
  {
   "cell_type": "code",
   "execution_count": null,
   "metadata": {
    "colab": {
     "base_uri": "https://localhost:8080/",
     "height": 472
    },
    "executionInfo": {
     "elapsed": 902,
     "status": "ok",
     "timestamp": 1709389202579,
     "user": {
      "displayName": "KAJA SAI MANOJ",
      "userId": "14700601486028732329"
     },
     "user_tz": -330
    },
    "id": "iIb0hEZ9MLrC",
    "outputId": "a97c8f00-2695-467f-88cd-01a61a7d08e3"
   },
   "outputs": [
    {
     "data": {
      "image/png": "[encoded data removed]",
      "text/plain": [
       "<Figure size 640x480 with 1 Axes>"
      ]
     },
     "metadata": {},
     "output_type": "display_data"
    }
   ],
   "source": [
    "# Plotting training and validation loss\n",
    "plt.plot(history_single_layer.history['loss'], label='Training Loss')\n",
    "plt.plot(history_single_layer.history['val_loss'], label='Validation Loss')\n",
    "plt.xlabel('Epochs')\n",
    "plt.ylabel('Loss')\n",
    "plt.title('Training and Validation Loss (Single Layer)')\n",
    "plt.legend()\n",
    "plt.show()\n"
   ]
  },
  {
   "cell_type": "code",
   "execution_count": null,
   "metadata": {
    "colab": {
     "base_uri": "https://localhost:8080/"
    },
    "executionInfo": {
     "elapsed": 14276,
     "status": "ok",
     "timestamp": 1709389247297,
     "user": {
      "displayName": "KAJA SAI MANOJ",
      "userId": "14700601486028732329"
     },
     "user_tz": -330
    },
    "id": "ZnYEbA3_MLrC",
    "outputId": "3f61f9e8-8daa-4fb5-a813-c18da76bec2c"
   },
   "outputs": [
    {
     "name": "stdout",
     "output_type": "stream",
     "text": [
      "313/313 [==============================] - 14s 43ms/step - loss: 0.5012 - mae: 0.5012\n",
      "Test Loss: 0.5011729598045349, Test Accuracy: 0.5011729598045349\n"
     ]
    }
   ],
   "source": [
    "# Evaluate the model\n",
    "loss, accuracy = model_single_layer.evaluate(Xtest, ytest)\n",
    "print(f'Test Loss: {loss}, Test Accuracy: {accuracy}')"
   ]
  },
  {
   "cell_type": "code",
   "execution_count": null,
   "metadata": {
    "colab": {
     "base_uri": "https://localhost:8080/"
    },
    "executionInfo": {
     "elapsed": 1242,
     "status": "ok",
     "timestamp": 1709389518794,
     "user": {
      "displayName": "KAJA SAI MANOJ",
      "userId": "14700601486028732329"
     },
     "user_tz": -330
    },
    "id": "tW6J6Wfzjeaf",
    "outputId": "e07ef5a9-34a6-4a45-ad9f-c1c88c944f5a"
   },
   "outputs": [
    {
     "name": "stdout",
     "output_type": "stream",
     "text": [
      "Model: \"sequential_2\"\n",
      "_________________________________________________________________\n",
      " Layer (type)                Output Shape              Param #   \n",
      "=================================================================\n",
      " embedding_1 (Embedding)     (None, 200, 100)          2000000   \n",
      "                                                                 \n",
      " gru_1 (GRU)                 (None, 200, 64)           31872     \n",
      "                                                                 \n",
      " gru_2 (GRU)                 (None, 64)                24960     \n",
      "                                                                 \n",
      " dense_1 (Dense)             (None, 1)                 65        \n",
      "                                                                 \n",
      "=================================================================\n",
      "Total params: 2056897 (7.85 MB)\n",
      "Trainable params: 2056897 (7.85 MB)\n",
      "Non-trainable params: 0 (0.00 Byte)\n",
      "_________________________________________________________________\n",
      "None\n"
     ]
    }
   ],
   "source": [
    "# Define model architecture - Two layers of GRU and FC layer\n",
    "model_two_layers = Sequential()\n",
    "model_two_layers.add(Embedding(input_dim=vocab_size, output_dim=100, input_length=maxlen))\n",
    "model_two_layers.add(GRU(units=64, return_sequences=True))\n",
    "model_two_layers.add(GRU(units=64))\n",
    "model_two_layers.add(Dense(units=1, activation='sigmoid'))\n",
    "model_two_layers.compile(optimizer='adam', loss='binary_crossentropy', metrics=['accuracy'])\n",
    "print(model_two_layers.summary())"
   ]
  },
  {
   "cell_type": "code",
   "execution_count": null,
   "metadata": {
    "colab": {
     "base_uri": "https://localhost:8080/"
    },
    "executionInfo": {
     "elapsed": 848825,
     "status": "ok",
     "timestamp": 1709390395370,
     "user": {
      "displayName": "KAJA SAI MANOJ",
      "userId": "14700601486028732329"
     },
     "user_tz": -330
    },
    "id": "J9ZCP8-ejiB5",
    "outputId": "bd106280-c1e6-43c7-ac5b-c7cf1d35f842"
   },
   "outputs": [
    {
     "name": "stdout",
     "output_type": "stream",
     "text": [
      "Epoch 1/5\n",
      "250/250 [==============================] - 176s 689ms/step - loss: 0.5629 - accuracy: 0.6682 - val_loss: 0.3423 - val_accuracy: 0.8624\n",
      "Epoch 2/5\n",
      "250/250 [==============================] - 161s 643ms/step - loss: 0.2706 - accuracy: 0.8976 - val_loss: 0.3059 - val_accuracy: 0.8817\n",
      "Epoch 3/5\n",
      "250/250 [==============================] - 170s 678ms/step - loss: 0.1662 - accuracy: 0.9436 - val_loss: 0.2994 - val_accuracy: 0.8864\n",
      "Epoch 4/5\n",
      "250/250 [==============================] - 171s 685ms/step - loss: 0.1045 - accuracy: 0.9676 - val_loss: 0.3414 - val_accuracy: 0.8860\n",
      "Epoch 5/5\n",
      "250/250 [==============================] - 170s 681ms/step - loss: 0.0629 - accuracy: 0.9832 - val_loss: 0.4004 - val_accuracy: 0.8758\n"
     ]
    }
   ],
   "source": [
    "# Train the model\n",
    "history_two_layers = model_two_layers.fit(Xtrain, ytrain, epochs=5, batch_size=128, validation_split=0.2)\n"
   ]
  },
  {
   "cell_type": "code",
   "execution_count": null,
   "metadata": {
    "colab": {
     "base_uri": "https://localhost:8080/",
     "height": 472
    },
    "executionInfo": {
     "elapsed": 1348,
     "status": "ok",
     "timestamp": 1709390414225,
     "user": {
      "displayName": "KAJA SAI MANOJ",
      "userId": "14700601486028732329"
     },
     "user_tz": -330
    },
    "id": "IvMbVC-Pm4_W",
    "outputId": "f45855c2-2531-4e6d-89b9-9d5fd19ef7e4"
   },
   "outputs": [
    {
     "data": {
      "image/png": "[encoded data removed]",
      "text/plain": [
       "<Figure size 640x480 with 1 Axes>"
      ]
     },
     "metadata": {},
     "output_type": "display_data"
    }
   ],
   "source": [
    "# Plotting training and validation loss\n",
    "plt.plot(history_two_layers.history['loss'], label='Training Loss')\n",
    "plt.plot(history_two_layers.history['val_loss'], label='Validation Loss')\n",
    "plt.xlabel('Epochs')\n",
    "plt.ylabel('Loss')\n",
    "plt.title('Training and Validation Loss (Two Layers)')\n",
    "plt.legend()\n",
    "plt.show()"
   ]
  },
  {
   "cell_type": "code",
   "execution_count": null,
   "metadata": {
    "colab": {
     "base_uri": "https://localhost:8080/"
    },
    "executionInfo": {
     "elapsed": 16948,
     "status": "ok",
     "timestamp": 1709390458546,
     "user": {
      "displayName": "KAJA SAI MANOJ",
      "userId": "14700601486028732329"
     },
     "user_tz": -330
    },
    "id": "gmQ8Cppmm9AP",
    "outputId": "e0e29e7c-8b77-4f45-e082-57bc92cb0f32"
   },
   "outputs": [
    {
     "name": "stdout",
     "output_type": "stream",
     "text": [
      "313/313 [==============================] - 16s 50ms/step - loss: 0.3715 - accuracy: 0.8883\n",
      "Test Loss: 0.37145930528640747, Test Accuracy: 0.8883000016212463\n"
     ]
    }
   ],
   "source": [
    "# Evaluate the model\n",
    "loss, accuracy = model_two_layers.evaluate(Xtest, ytest)\n",
    "print(f'Test Loss: {loss}, Test Accuracy: {accuracy}')"
   ]
  },
  {
   "cell_type": "markdown",
   "metadata": {
    "id": "YE65yXSZnLQ-"
   },
   "source": [
    "# CONCLUSION\n",
    "\n",
    "Using Single Layer\n",
    "\n",
    "\n",
    "> Test Loss: 0.5011729598045349, Test Accuracy: 0.5011729598045349\n",
    "\n",
    "\n",
    "Using Two Layers\n",
    "\n",
    "\n",
    "\n",
    "> Test Loss: 0.37145930528640747, Test Accuracy: 0.8883000016212463\n",
    "\n",
    "Accuracy improved drastically using one more layer\n",
    "\n",
    "\n",
    "\n"
   ]
  }
 ],
 "metadata": {
  "colab": {
   "provenance": []
  },
  "kernelspec": {
   "display_name": "Python 3 (ipykernel)",
   "language": "python",
   "name": "python3"
  },
  "language_info": {
   "codemirror_mode": {
    "name": "ipython",
    "version": 3
   },
   "file_extension": ".py",
   "mimetype": "text/x-python",
   "name": "python",
   "nbconvert_exporter": "python",
   "pygments_lexer": "ipython3",
   "version": "3.9.13"
  }
 },
 "nbformat": 4,
 "nbformat_minor": 1
}
