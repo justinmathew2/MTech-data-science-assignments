{
 "cells": [
  {
   "cell_type": "markdown",
   "metadata": {
    "id": "kuYjEmS-x1CF"
   },
   "source": [
    "<h1><center> M.Tech (Data Science and Engineering) </center></h1>\n",
    "<h2><center>Information Retrieval</center></h2>\n",
    "<h2><center>Assignment 1 - Skip List Implementation</center></h2>"
   ]
  },
  {
   "cell_type": "markdown",
   "metadata": {
    "id": "cDkWCCdsxya9"
   },
   "source": [
    "# Question\n",
    "## A) Explore open-source datasets or document collections where efficient searching is crucial for constructing an inverted index using a skip list. \n",
    "\n",
    "There are many datasets and document collections where efficient searching is crucial for constructing an inverted index using a skip list. Few of them are listed below\n",
    "\n",
    "### DBpedia:\n",
    "\n",
    "DBpedia is a structured dataset extracted from Wikipedia, providing information in a machine-readable format. Constructing an inverted index can aid in efficient retrieval of facts and relationships.\n",
    "\n",
    "### The Movie Database (TMDb):\n",
    "\n",
    "TMDb is a community-driven movie and TV database. Efficient searching can enhance the retrieval of movie-related information for analysis, recommendation systems, and other applications.\n",
    "\n",
    "### Stack Exchange Datasets:\n",
    "\n",
    "Stack Exchange provides datasets for various Q&A communities. Constructing an inverted index can enhance the searchability of programming-related questions and answers.\n",
    "\n",
    "### U.S. Congressional Bills and Resolutions:\n",
    "\n",
    "The U.S. Congress provides datasets containing bills and resolutions. Constructing an inverted index is essential for efficient searching and analysis of legislative documents.\n",
    "\n",
    "### Social Media Datasets (e.g., Twitter, Reddit):\n",
    "\n",
    "Datasets from social media platforms contain a wealth of user-generated content. Efficient searching is crucial for constructing an inverted index to facilitate analysis, sentiment mining, and information retrieval."
   ]
  },
  {
   "cell_type": "markdown",
   "metadata": {
    "id": "oHFTn9qK0x9t"
   },
   "source": [
    "## B a) Implement a basic skip list data structure in Python. Explain how a skip list facilitates efficient searching compared to traditional data structures.\n"
   ]
  },
  {
   "cell_type": "markdown",
   "metadata": {
    "id": "kH7XIy2t6c2O"
   },
   "source": [
    "A skip list facilitates efficient searching compared to traditional data structures, such as linked lists or binary search trees, by introducing a hierarchical structure with multiple levels of linked lists. The primary advantage of skip lists is that they provide a compromise between the simplicity of linked lists and the efficiency of balanced trees.\n",
    "\n",
    "Here's how a skip list achieves efficient searching:\n",
    "\n",
    "**Multiple Levels:**\n",
    "\n",
    "In a skip list, each element is present in multiple levels of linked lists, with the bottom level containing all elements and higher levels containing a subset of the elements.\n",
    "Higher levels skip over elements in the lower levels, reducing the number of nodes that need to be traversed during a search.\n",
    "\n",
    "**Randomization:**\n",
    "\n",
    "Skip lists use a probabilistic approach to determine the levels at which nodes should appear. This randomization helps balance the tree and prevents worst-case scenarios.\n",
    "Randomization ensures that the average height of the skip list is logarithmic, leading to an average-case time complexity of O(log n) for search operations.\n",
    "\n",
    "**Efficient Traversal:**\n",
    "\n",
    "During a search, the algorithm starts at the top-left corner and moves down and to the right. It only moves down to lower levels when the key in the current node is greater than the target key.\n",
    "This skipping of nodes at higher levels makes the traversal more efficient, as it eliminates unnecessary comparisons and reduces the number of steps required to find the desired element.\n",
    "\n",
    "**Balanced Structure:**\n",
    "\n",
    "Skip lists maintain a balanced structure similar to balanced trees. The randomization of levels ensures that, on average, the number of nodes at each level is limited, preventing skewed structures that could lead to poor performance.\n",
    "\n",
    "**Dynamic Operations:**\n",
    "\n",
    "Skip lists support dynamic operations, including insertions and deletions, without requiring a rebalancing process as in some other tree structures.\n",
    "Dynamic operations can be performed efficiently by adjusting the levels of nodes as needed, maintaining the logarithmic average-case complexity.\n",
    "\n",
    "**Simple Implementation:**\n",
    "\n",
    "Compared to balanced trees like AVL or Red-Black trees, skip lists are simpler to implement. They require fewer complex operations during insertion, deletion, and search, making them an attractive choice for scenarios where simplicity is crucial.\n",
    "\n",
    "**Adaptability:**\n",
    "\n",
    "Skip lists are adaptable to various data distributions and access patterns. The randomization used in determining levels allows them to perform well across a wide range of scenarios.\n",
    "\n",
    "\n",
    "#Summary\n",
    "\n",
    "A skip list facilitates efficient searching by combining a hierarchical structure with randomization. This design reduces the number of comparisons needed during a search, resulting in an average-case time complexity that is logarithmic and comparable to more complex tree structures. The skip list's simplicity and dynamic nature make it a practical choice for scenarios where efficient searching is required without the overhead of complex tree balancing operations.\n",
    "\n",
    "Skip list is impletemented below from a movie data set from Kaggle\n",
    "\n",
    "Dataset reference: https://www.kaggle.com/datasets/tmdb/tmdb-movie-metadata?resource=download"
   ]
  },
  {
   "cell_type": "code",
   "execution_count": 1,
   "metadata": {
    "id": "SaMKN5It6uVL"
   },
   "outputs": [],
   "source": [
    "# Basic Skip List Implementation\n",
    "import random\n",
    "import pandas as pd\n"
   ]
  },
  {
   "cell_type": "code",
   "execution_count": 2,
   "metadata": {
    "id": "90SZ7epj6-N9"
   },
   "outputs": [],
   "source": [
    "# Node class representing elements in the skip list\n",
    "class Node:\n",
    "    def __init__(self, key, level):\n",
    "        self.key = key\n",
    "        self.forward = [None] * (level + 1)"
   ]
  },
  {
   "cell_type": "code",
   "execution_count": 3,
   "metadata": {
    "id": "h9-_sqqn7A6V"
   },
   "outputs": [],
   "source": [
    "# MovieNode class, a subclass of Node, representing movie data nodes\n",
    "class MovieNode(Node):\n",
    "    def __init__(self, key, level, movie_data):\n",
    "        super().__init__(key, level)\n",
    "        self.movie_data = movie_data"
   ]
  },
  {
   "cell_type": "code",
   "execution_count": 4,
   "metadata": {
    "id": "jCyIjrlx7C0c"
   },
   "outputs": [],
   "source": [
    "# SkipList class representing the entire skip list\n",
    "class SkipList:\n",
    "    def __init__(self, max_level):\n",
    "        self.max_level = max_level\n",
    "        self.header = self.create_node(\"\", max_level)  # Header with an empty string as a key\n",
    "        self.level = 0\n",
    "\n",
    "    # Method to create a new node\n",
    "    def create_node(self, key, level, movie_data=None):\n",
    "        new_node = MovieNode(key, level, movie_data)\n",
    "        return new_node\n",
    "\n",
    "    # Method to generate a random level for a new node\n",
    "    def random_level(self):\n",
    "        level = 0\n",
    "        while random.random() < 0.5 and level < self.max_level:\n",
    "            level += 1\n",
    "        return level\n",
    "\n",
    "    # Method to insert a new node into the skip list\n",
    "    def insert(self, key, movie_data):\n",
    "        update = [None] * (self.max_level + 1)\n",
    "        current = self.header\n",
    "\n",
    "\t# Traverse the levels and find the right position for the new node\n",
    "        for i in range(self.level, -1, -1):\n",
    "            while current.forward[i] and current.forward[i].key < key:\n",
    "                current = current.forward[i]\n",
    "            update[i] = current\n",
    "\n",
    "\t# Generate a random level for the new node\n",
    "        new_level = self.random_level()\n",
    "\n",
    "\t# Update the skip list level if needed\n",
    "        if new_level > self.level:\n",
    "            for i in range(self.level + 1, new_level + 1):\n",
    "                update[i] = self.header\n",
    "            self.level = new_level\n",
    "\n",
    "\n",
    "\t# Create the new node\n",
    "        new_node = self.create_node(key, new_level, movie_data)\n",
    "\n",
    "\t# Update pointers to include the new node\n",
    "        for i in range(new_level + 1):\n",
    "            new_node.forward[i] = update[i].forward[i]\n",
    "            update[i].forward[i] = new_node\n",
    "\n",
    "    # Method to search for nodes containing a given keyword\n",
    "    def search(self, key):\n",
    "        current = self.header\n",
    "        matching_movies = []\n",
    "\n",
    "        # Determine the number of levels to search, limited to 3 or the current skip list level\n",
    "        num_levels = min(3, self.level + 1)\n",
    "\n",
    "\t# Iterate through the levels\n",
    "        for i in range(num_levels):\n",
    "            while i < len(current.forward) and current.forward[i] is not None:\n",
    "\t\t# Check if the keyword is present in the current node's key\n",
    "                if key.lower() in current.forward[i].key.lower():\n",
    "                    matching_movies.append(current.forward[i].movie_data)\n",
    "                current = current.forward[i]\n",
    "\n",
    "\t    # Move to the next level if available\n",
    "            if i + 1 < len(current.forward) and current.forward[i + 1] is not None:\n",
    "                current = current.forward[i + 1]\n",
    "\n",
    "        return matching_movies\n"
   ]
  },
  {
   "cell_type": "code",
   "execution_count": 5,
   "metadata": {
    "id": "9pub-UV37Fi8"
   },
   "outputs": [],
   "source": [
    "# Create a SkipList instance with a maximum level of 4\n",
    "movie_title_skip_list = SkipList(max_level=4)"
   ]
  },
  {
   "cell_type": "code",
   "execution_count": 6,
   "metadata": {
    "colab": {
     "base_uri": "https://localhost:8080/",
     "height": 73
    },
    "id": "MDaWXpuE7HNT",
    "outputId": "06d33a5d-3cbe-4f15-d054-29843807fee7"
   },
   "outputs": [],
   "source": [
    "# Read the dataset and convert it into a list of movie dictionaries\n",
    "df = pd.read_csv('tmdb_5000_movies.csv')\n",
    "movies = [{\"id\": row['id'], \"title\": row['original_title'], \"genres\": row['genres'], \"overview\": row['overview']} for _, row in df.iterrows()]"
   ]
  },
  {
   "cell_type": "code",
   "execution_count": 7,
   "metadata": {
    "id": "tiAFc9-H7JOL"
   },
   "outputs": [],
   "source": [
    "# Build the skip list for movie titles\n",
    "for movie in movies:\n",
    "    movie_title_skip_list.insert(movie[\"title\"], movie)"
   ]
  },
  {
   "cell_type": "code",
   "execution_count": 8,
   "metadata": {
    "colab": {
     "base_uri": "https://localhost:8080/"
    },
    "id": "vC2SwH3R7Lwd",
    "outputId": "b04475f1-52ba-4377-f274-9d2a9e92c802"
   },
   "outputs": [
    {
     "name": "stdout",
     "output_type": "stream",
     "text": [
      "Enter keyword to search for movies or type 'exit' to stop search: Action\n",
      "Total 8 movies are found.\n",
      "Movies containing 'Action':\n",
      "1. Movie Title: Fatal Attraction,\n",
      "Overview: A married man's one night stand comes back to haunt him when that lover begins to stalk him and his family.\n",
      "\n",
      "2. Movie Title: The Rules of Attraction,\n",
      "Overview: The incredibly spoiled and overprivileged students of Camden College are a backdrop for an unusual love triangle between a drug dealer, a virgin and a bisexual classmate.\n",
      "\n",
      "3. Movie Title: Chain Reaction,\n",
      "Overview: Two researchers in a green alternative energy project are put on the run when they are framed for murder and treason.\n",
      "\n",
      "4. Movie Title: Laws of Attraction,\n",
      "Overview: Amidst a sea of litigation, two New York City divorce lawyers find love.\n",
      "\n",
      "5. Movie Title: Looney Tunes: Back in Action,\n",
      "Overview: Bugs Bunny and Daffy Duck are up to their feuding ways again. Tired of playing second fiddle to Bugs, Daffy has decided to leave the Studio for good. He is aided by Warner Bros.' humor impaired Vice President of Comedy, Kate Houghton, who releases him from his contract and instructs WB security guard/aspiring stunt man DJ Drake to capture and \"escort\" Daffy off the studio lot.\n",
      "\n",
      "6. Movie Title: A Civil Action,\n",
      "Overview: Jan Schlickmann is a cynical lawyer who goes out to \"get rid of\" a case, only to find out it is potentially worth millions. The case becomes his obsession, to the extent that he is willing to give up everything - including his career and his clients' goals, in order to continue the case against all odds.\n",
      "\n",
      "7. Movie Title: Last Action Hero,\n",
      "Overview: Danny is obsessed with a fictional movie character action hero Jack Slater. When a magical ticket transports him into Jack's latest adventure, Danny finds himself in a world where movie magic and reality collide. Now it's up to Danny to save the life of his hero and new friend.\n",
      "\n",
      "8. Movie Title: Action Jackson,\n",
      "Overview: Vengence drives a tough Detroit cop to stay on the trail of a power hungry auto magnate who's systematically eliminating his competition.\n",
      "\n",
      "Enter keyword to search for movies or type 'exit' to stop search: exit\n"
     ]
    }
   ],
   "source": [
    "while True:\n",
    "    # Example: Search for movies containing the keyword entered by the user\n",
    "    search_keyword = input(\"Enter keyword to search for movies or type 'exit' to stop search: \")\n",
    "\n",
    "    if search_keyword.lower() == 'exit':\n",
    "        break\n",
    "\n",
    "    matching_titles = set(movie[\"title\"] for movie in movie_title_skip_list.search(search_keyword))\n",
    "\n",
    "    # Print the matching movies\n",
    "    if matching_titles:\n",
    "        count = len(matching_titles)\n",
    "        print(f\"Total {count} movies are found.\")\n",
    "        print(f\"Movies containing '{search_keyword}':\")\n",
    "        count = 0\n",
    "        for title in matching_titles:\n",
    "            matching_movies = [movie for movie in movies if movie[\"title\"] == title]\n",
    "            for matching_movie in matching_movies:\n",
    "                print(f\"{count + 1}. Movie Title: {matching_movie['title']},\\nOverview: {matching_movie['overview']}\\n\")\n",
    "                count += 1\n",
    "    else:\n",
    "        print(f\"No movies were found containing '{search_keyword}' .\")"
   ]
  },
  {
   "cell_type": "markdown",
   "metadata": {
    "id": "JGkgDEM-ydmz"
   },
   "source": [
    "### B b) Modify the skip list implementation to store inverted index entries efficiently. Discuss the advantages and potential challenges of using skip lists for inverted index construction. (4 marks)\n",
    "\n",
    "Skip lists have both advantages and potential challenges when used for inverted index construction. Here are some key points to consider:\n",
    "\n",
    "# Advantages:\n",
    "\n",
    "**Efficient Search Operations:**\n",
    "Skip lists provide efficient search operations with an average time complexity of O(log n), making them suitable for quickly retrieving information from an inverted index.\n",
    "\n",
    "**Balanced Structure:**\n",
    "Skip lists maintain a balanced structure, which ensures that search operations are evenly distributed across levels. This balance contributes to the efficiency of the search process.\n",
    "\n",
    "**Dynamic Structure:**\n",
    "Skip lists are dynamic data structures, allowing for easy insertion and deletion of elements. This dynamic nature is particularly beneficial when the inverted index needs to be updated frequently, such as when new documents are added or existing ones are modified.\n",
    "\n",
    "**Simplicity of Implementation:**\n",
    "Skip lists are relatively simple to implement compared to other data structures like balanced trees. The simplicity of implementation can be an advantage, especially in scenarios where ease of development is a priority.\n",
    "\n",
    "**Probabilistic Structure:**\n",
    "Skip lists use a probabilistic approach to determine the levels of nodes, making them adaptable to various datasets. The randomization involved in determining node levels helps prevent the occurrence of worst-case scenarios.\n",
    "\n",
    "# Potential Challenges:\n",
    "\n",
    "**Memory Overhead:**\n",
    "Skip lists may have higher memory overhead compared to other data structures, such as hash tables. Each node in the skip list requires additional pointers for forward traversal, which can increase the overall memory consumption.\n",
    "\n",
    "**Complexity of Implementation:**\n",
    "While skip lists are simpler than some other data structures, they still require careful implementation to ensure correctness. The logic for insertion, deletion, and search operations can be error-prone if not implemented correctly.\n",
    "\n",
    "**Deterministic Nature of Probabilities:**\n",
    "The use of randomization in determining node levels is based on probabilities. In certain cases, the deterministic nature of these probabilities might lead to suboptimal performance or even unintended patterns in the skip list structure.\n",
    "\n",
    "**Limited Performance Guarantees:**\n",
    "Skip lists offer probabilistic performance guarantees. While they provide average-case time complexity advantages, there is no strict guarantee on the worst-case time complexity. In specific situations, other data structures might provide more predictable performance.\n",
    "\n",
    "**Limited to Sorted Keys:**\n",
    "Skip lists are effective when keys are sorted. For inverted index construction, where terms are often sorted, this is an advantage. However, if sorting is not a requirement, other data structures like hash tables might be more appropriate.\n",
    "\n",
    "#Conclusion\n",
    "Skip lists offer a good balance between efficiency and simplicity, but application's characteristics and needs should be properly considered before selecting skip lists as the underlying data structure.\n",
    "\n",
    "Below implementation stores inverted index entries"
   ]
  },
  {
   "cell_type": "code",
   "execution_count": 9,
   "metadata": {
    "id": "HP-42_xRtQm7"
   },
   "outputs": [],
   "source": [
    "# Define a basic node structure for the SkipList\n",
    "class Node:\n",
    "    def __init__(self, key, level, data=None):\n",
    "        self.key = key\n",
    "        self.data = data\n",
    "        self.forward = [None] * (level + 1)"
   ]
  },
  {
   "cell_type": "code",
   "execution_count": 10,
   "metadata": {
    "id": "Vdbi3F3ItUJE"
   },
   "outputs": [],
   "source": [
    "# Define a specialized node for the Inverted Index SkipList, inheriting from the basic Node\n",
    "class InvertedIndexNode(Node):\n",
    "    def __init__(self, key, level, movie_data):\n",
    "        super().__init__(key, level, movie_data)"
   ]
  },
  {
   "cell_type": "code",
   "execution_count": 11,
   "metadata": {
    "id": "GzqNoe8rtX1c"
   },
   "outputs": [],
   "source": [
    "# Define the SkipList class with methods for insertion and search\n",
    "class SkipList:\n",
    "    def __init__(self, max_level):\n",
    "        self.max_level = max_level\n",
    "        self.header = self.create_node(\"\", max_level)  # Header with an empty string as a key\n",
    "        self.level = 0\n",
    "\n",
    "    def create_node(self, key, level, movie_data=None):\n",
    "        new_node = InvertedIndexNode(key, level, movie_data)\n",
    "        return new_node\n",
    "\n",
    "    def random_level(self):\n",
    "        # Randomly determine the level of a new node based on a probability\n",
    "        # Used for adjusting the level of the SkipList during insertion\n",
    "        level = 0\n",
    "        while random.random() < 0.5 and level < self.max_level:\n",
    "            level += 1\n",
    "        return level\n",
    "\n",
    "    def insert(self, key, movie_data):\n",
    "        # Insert a new node with the provided key and movie_data into the SkipList\n",
    "        # Adjusts the level of the SkipList as needed and connects the new node\n",
    "        update = [None] * (self.max_level + 1)\n",
    "        current = self.header\n",
    "\n",
    "        for i in range(self.level, -1, -1):\n",
    "            while current.forward[i] and current.forward[i].key < key:\n",
    "                current = current.forward[i]\n",
    "            update[i] = current\n",
    "\n",
    "        new_level = self.random_level()\n",
    "        if new_level > self.level:\n",
    "            for i in range(self.level + 1, new_level + 1):\n",
    "                update[i] = self.header\n",
    "            self.level = new_level\n",
    "\n",
    "        new_node = self.create_node(key, new_level, movie_data)\n",
    "\n",
    "        for i in range(new_level + 1):\n",
    "            new_node.forward[i] = update[i].forward[i]\n",
    "            update[i].forward[i] = new_node\n",
    "\n",
    "    def search(self, key):\n",
    "        # Search for nodes containing the specified key in the SkipList\n",
    "        # Returns a list of matching keys\n",
    "        current = self.header\n",
    "        matching_data = set()\n",
    "\n",
    "        while any(current.forward[i] for i in range(len(current.forward))):\n",
    "            for i in range(len(current.forward)):\n",
    "                if current.forward[i] and key.lower() in current.forward[i].key.lower():\n",
    "                    matching_data.add(current.forward[i].key)\n",
    "            current = current.forward[0]\n",
    "\n",
    "        return list(matching_data)"
   ]
  },
  {
   "cell_type": "code",
   "execution_count": 12,
   "metadata": {
    "id": "IreVzXeNteWR"
   },
   "outputs": [],
   "source": [
    "# Create a SkipList instance\n",
    "inverted_index_skip_list = SkipList(max_level=4)\n"
   ]
  },
  {
   "cell_type": "code",
   "execution_count": 13,
   "metadata": {
    "id": "BD5Bu_0Nt6Tr"
   },
   "outputs": [],
   "source": [
    "# Build the Inverted Index SkipList for movie titles\n",
    "for movie in movies:\n",
    "    inverted_index_skip_list.insert(movie[\"title\"], movie)"
   ]
  },
  {
   "cell_type": "code",
   "execution_count": 14,
   "metadata": {
    "colab": {
     "base_uri": "https://localhost:8080/"
    },
    "id": "wbKt96DVv9Hk",
    "outputId": "d73f2ceb-5f13-478a-9126-f4f22a5d8648"
   },
   "outputs": [
    {
     "name": "stdout",
     "output_type": "stream",
     "text": [
      "Enter the keyword to search for movies or 'exit' to stop search: Crime\n",
      "Total 2 movies found.\n",
      "Movies containing 'Crime':\n",
      "1. Title: High Crimes,\n",
      "Overview: High powered lawyer Claire Kubik finds her world turned upside down when her husband, who she thought was Tom Kubik, is arrested and is revealed to be Ron Chapman. Chapman is on trial for a murder of Latin American villagers while he was in the Marines. Claire soon learns that to navigate the military justice system, she'll need help from the somewhat unconventional Charlie Grimes.\n",
      "\n",
      "2. Title: El Crimen del Padre Amaro,\n",
      "Overview: The young Father Amaro is put to the test. He is sent to Mexico to help take care of aging Father Benito when he meets a 16-year-old girl that he begins and affair with. It turns out the girls mother had been having an affair with Father Benito. Father Amaro must soon choose between the holy or the sinful life.\n",
      "\n",
      "Enter the keyword to search for movies or 'exit' to stop search: exit\n"
     ]
    }
   ],
   "source": [
    "# Continuously prompt the user for keywords and display matching movies\n",
    "while True:\n",
    "    # Example: Search for movies containing the keyword entered by the user\n",
    "    search_keyword = input(\"Enter the keyword to search for movies or 'exit' to stop search: \")\n",
    "\n",
    "    if search_keyword.lower() == 'exit':\n",
    "        break\n",
    "\n",
    "    matching_titles = inverted_index_skip_list.search(search_keyword)\n",
    "\n",
    "    # Print the matching movies\n",
    "    if matching_titles:\n",
    "        count = len(matching_titles)\n",
    "        print(f\"Total {count} movies found.\")\n",
    "        print(f\"Movies containing '{search_keyword}':\")\n",
    "        count = 0\n",
    "        for title in matching_titles:\n",
    "            matching_movie = next(movie for movie in movies if movie[\"title\"] == title)\n",
    "            print(f\"{count + 1}. Title: {matching_movie['title']},\\nOverview: {matching_movie['overview']}\\n\")\n",
    "            count += 1\n",
    "    else:\n",
    "        print(f\"No movies containing '{search_keyword}' found.\")"
   ]
  }
 ],
 "metadata": {
  "colab": {
   "provenance": [],
   "toc_visible": true
  },
  "kernelspec": {
   "display_name": "Python 3 (ipykernel)",
   "language": "python",
   "name": "python3"
  },
  "language_info": {
   "codemirror_mode": {
    "name": "ipython",
    "version": 3
   },
   "file_extension": ".py",
   "mimetype": "text/x-python",
   "name": "python",
   "nbconvert_exporter": "python",
   "pygments_lexer": "ipython3",
   "version": "3.9.13"
  }
 },
 "nbformat": 4,
 "nbformat_minor": 1
}
