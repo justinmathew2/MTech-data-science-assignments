{
 "cells": [
  {
   "cell_type": "markdown",
   "metadata": {
    "cell_id": "c6a386a7ff3f4966b3f8d56fc8f53670",
    "deepnote_cell_height": 133.59375,
    "deepnote_cell_type": "markdown",
    "tags": []
   },
   "source": [
    "What is Python?\n",
    "\n",
    "Python is easy to use, powerful, and versatile, making it a great choice  for beginners and experts alike.\"  - codeschool.com\n",
    "Python is a cross platform programming language created in 1991 by Guido Van Rossum. It is freely usable even for commercial use."
   ]
  },
  {
   "cell_type": "code",
   "execution_count": 1,
   "metadata": {
    "cell_id": "d093cf824ccb4a60ba4f4422cc0e4ea6",
    "deepnote_cell_height": 107,
    "deepnote_cell_type": "code",
    "deepnote_to_be_reexecuted": false,
    "execution_millis": 565268,
    "execution_start": 1669611379422,
    "source_hash": "86b69222",
    "tags": []
   },
   "outputs": [
    {
     "name": "stdout",
     "output_type": "stream",
     "text": [
      "Python is cool!\n"
     ]
    }
   ],
   "source": [
    "print(\"Python\" + \" is \" + \"cool!\")"
   ]
  },
  {
   "cell_type": "markdown",
   "metadata": {
    "cell_id": "fdfbf2bf734743338eec3bc599d76a79",
    "deepnote_cell_height": 201.390625,
    "deepnote_cell_type": "markdown",
    "tags": []
   },
   "source": [
    "Variables and data types in Python :\n",
    "*  Variables store and give names to data values\n",
    "*  Data values can be of various types: Text,Numeric, Sequence, Mapping, Set, Boolean and Binary\n",
    "* In Python variables do NOT have types, meaning python variables do not need explicit declaration, it happens when value is assigned to a variable.\n",
    "* Data Values are assigned to variables using \"=\"   \n",
    "\n"
   ]
  },
  {
   "cell_type": "markdown",
   "metadata": {
    "cell_id": "cacf9418032743c8bf779196b75c7c20",
    "deepnote_cell_height": 255.1875,
    "deepnote_cell_type": "markdown",
    "tags": []
   },
   "source": [
    "Python Data types\n",
    "*  Text Type:\tstr\n",
    "*  Numeric Types:\tint, float, complex\n",
    "*  Sequence Types:\tlist, tuple, range\n",
    "*  Mapping Type:\tdict\n",
    "*  Set Types:\tset, frozenset\n",
    "*  Boolean Type:\tbool\n",
    "*  Binary Types:\tbytes, bytearray, memoryview\n",
    "\n"
   ]
  },
  {
   "cell_type": "code",
   "execution_count": 2,
   "metadata": {
    "cell_id": "689a8859087745d8bf528a9f57d7a4fa",
    "deepnote_cell_height": 181,
    "deepnote_cell_type": "code",
    "deepnote_to_be_reexecuted": false,
    "execution_millis": 2,
    "execution_start": 1669611379423,
    "source_hash": "e29010e7",
    "tags": []
   },
   "outputs": [
    {
     "name": "stdout",
     "output_type": "stream",
     "text": [
      "<class 'str'>\n",
      "<class 'str'>\n"
     ]
    }
   ],
   "source": [
    "y = \"Hello World\"\t\n",
    "x = str(\"Hello World\")\t#str\n",
    "print(type(x))\t\n",
    "print(type(y))"
   ]
  },
  {
   "cell_type": "code",
   "execution_count": 3,
   "metadata": {
    "cell_id": "02721b81b14f44cd80753f911cc9f5e9",
    "deepnote_cell_height": 161,
    "deepnote_cell_type": "code",
    "deepnote_to_be_reexecuted": false,
    "execution_millis": 565250,
    "execution_start": 1669611379426,
    "source_hash": "7a7ab949",
    "tags": []
   },
   "outputs": [
    {
     "name": "stdout",
     "output_type": "stream",
     "text": [
      "<class 'int'>\n"
     ]
    }
   ],
   "source": [
    "\t\n",
    "x = 20\t\t\n",
    "x = int(20)\t#int\t\n",
    "print(type(x))"
   ]
  },
  {
   "cell_type": "code",
   "execution_count": 4,
   "metadata": {
    "cell_id": "cac9e8e7c8f44c0bace98562c1ca224a",
    "deepnote_cell_height": 94,
    "deepnote_cell_type": "code",
    "deepnote_to_be_reexecuted": false,
    "execution_millis": 6,
    "execution_start": 1669611379435,
    "source_hash": "d8bcba9e",
    "tags": []
   },
   "outputs": [],
   "source": [
    "x = 20.5\t\t\n",
    "x = float(20.5)\t#float\t"
   ]
  },
  {
   "cell_type": "code",
   "execution_count": 5,
   "metadata": {
    "cell_id": "97b9995788a64de8aecb8e84020e0f03",
    "deepnote_cell_height": 107,
    "deepnote_cell_type": "code",
    "deepnote_to_be_reexecuted": false,
    "execution_millis": 797,
    "execution_start": 1669611379484,
    "source_hash": "19618a48",
    "tags": []
   },
   "outputs": [
    {
     "name": "stdout",
     "output_type": "stream",
     "text": [
      "20.5\n"
     ]
    }
   ],
   "source": [
    "print(x)"
   ]
  },
  {
   "cell_type": "code",
   "execution_count": 6,
   "metadata": {
    "cell_id": "2d69a9662e9a444b8830d284da855fed",
    "deepnote_cell_height": 94,
    "deepnote_cell_type": "code",
    "deepnote_to_be_reexecuted": false,
    "execution_millis": 0,
    "execution_start": 1669611379515,
    "source_hash": "977abacd",
    "tags": []
   },
   "outputs": [],
   "source": [
    "x = 1j\t\t\n",
    "x = complex(1j)\t#complex\t"
   ]
  },
  {
   "cell_type": "code",
   "execution_count": 7,
   "metadata": {
    "cell_id": "f2fe9b48ca764a8688d2b5e0b9562b8e",
    "deepnote_cell_height": 94,
    "deepnote_cell_type": "code",
    "deepnote_to_be_reexecuted": false,
    "execution_millis": 0,
    "execution_start": 1669611379516,
    "source_hash": "c387133",
    "tags": []
   },
   "outputs": [],
   "source": [
    "x = [\"apple\", \"banana\", \"cherry\"]\t\t\n",
    "x = list((\"apple\", \"banana\", \"cherry\"))\t#list\t"
   ]
  },
  {
   "cell_type": "code",
   "execution_count": 8,
   "metadata": {
    "cell_id": "cff8fe4ce1224c4e96b4500257f90994",
    "deepnote_cell_height": 94,
    "deepnote_cell_type": "code",
    "deepnote_to_be_reexecuted": false,
    "execution_millis": 1,
    "execution_start": 1669611379516,
    "source_hash": "d1c661c",
    "tags": []
   },
   "outputs": [],
   "source": [
    "x = (\"apple\", \"banana\", \"cherry\")\t\t\n",
    "x = tuple((\"apple\", \"banana\", \"cherry\"))\t#tuple\t"
   ]
  },
  {
   "cell_type": "code",
   "execution_count": 9,
   "metadata": {
    "cell_id": "697f37c276c147dbb090ea7c912b1cb3",
    "deepnote_cell_height": 186,
    "deepnote_cell_type": "code",
    "deepnote_to_be_reexecuted": false,
    "execution_millis": 1007,
    "execution_start": 1669611379517,
    "source_hash": "221eb402",
    "tags": []
   },
   "outputs": [
    {
     "name": "stdout",
     "output_type": "stream",
     "text": [
      "range(0, 6)\n",
      "range(1, 6, -1)\n"
     ]
    }
   ],
   "source": [
    "x = range(6)\t\t\n",
    "y = range(1,6, -1)\t#range([start (default 0),] stop (default excluded) [, step (default 1)]) -> range object\n",
    "print(x)\n",
    "print(y)"
   ]
  },
  {
   "cell_type": "code",
   "execution_count": 10,
   "metadata": {
    "cell_id": "0573df0ac27f49f78c6cd22301fd975a",
    "deepnote_cell_height": 94,
    "deepnote_cell_type": "code",
    "deepnote_to_be_reexecuted": false,
    "execution_millis": 5,
    "execution_start": 1669611379520,
    "source_hash": "d991a03a",
    "tags": []
   },
   "outputs": [],
   "source": [
    "x = {\"name\" : \"John\", \"age\" : 36}\t\t\n",
    "x = dict(name=\"John\", age=36)\t#dict\t"
   ]
  },
  {
   "cell_type": "code",
   "execution_count": 11,
   "metadata": {
    "cell_id": "1aa58bb2253f47a194dbcefcb4d0cbab",
    "deepnote_cell_height": 94,
    "deepnote_cell_type": "code",
    "deepnote_to_be_reexecuted": false,
    "execution_millis": 2,
    "execution_start": 1669611379528,
    "source_hash": "f960520d",
    "tags": []
   },
   "outputs": [],
   "source": [
    "x = {\"apple\", \"banana\", \"cherry\"}\t\t\n",
    "x = set((\"apple\", \"banana\", \"cherry\"))\t#set\t"
   ]
  },
  {
   "cell_type": "code",
   "execution_count": 12,
   "metadata": {
    "cell_id": "614c16ec1a7c4521b2ef3fbbc6e7116d",
    "deepnote_cell_height": 94,
    "deepnote_cell_type": "code",
    "deepnote_to_be_reexecuted": false,
    "execution_millis": 6,
    "execution_start": 1669611379534,
    "source_hash": "bc6aebf8",
    "tags": []
   },
   "outputs": [],
   "source": [
    "x = frozenset({\"apple\", \"banana\", \"cherry\"})\t\t\n",
    "x = frozenset((\"apple\", \"banana\", \"cherry\"))\t#frozenset\t"
   ]
  },
  {
   "cell_type": "code",
   "execution_count": 13,
   "metadata": {
    "cell_id": "1ee6eea51e154d7db0de1b8c3ce894cf",
    "deepnote_cell_height": 199,
    "deepnote_cell_type": "code",
    "deepnote_to_be_reexecuted": false,
    "execution_millis": 943,
    "execution_start": 1669611379589,
    "source_hash": "8a775145",
    "tags": []
   },
   "outputs": [
    {
     "name": "stdout",
     "output_type": "stream",
     "text": [
      "True\n",
      "False\n"
     ]
    }
   ],
   "source": [
    "x = True\t\t\n",
    "x = bool(5)\t#bool\n",
    "y= bool() # If no parameter is passed, then by default it returns False\n",
    "print(x)\n",
    "print(y)\t"
   ]
  },
  {
   "cell_type": "code",
   "execution_count": 14,
   "metadata": {
    "cell_id": "117e3dd5ad7f45db8adefb332429fdda",
    "deepnote_cell_height": 143,
    "deepnote_cell_type": "code",
    "deepnote_to_be_reexecuted": false,
    "execution_millis": 918,
    "execution_start": 1669611379620,
    "source_hash": "7911c263",
    "tags": []
   },
   "outputs": [
    {
     "name": "stdout",
     "output_type": "stream",
     "text": [
      "b'\\x00\\x00\\x00\\x00\\x00'\n"
     ]
    }
   ],
   "source": [
    "x = b\"Hello\"\t\t\n",
    "x = bytes(5)\t#bytes\n",
    "print(x)\t"
   ]
  },
  {
   "cell_type": "code",
   "execution_count": 15,
   "metadata": {
    "cell_id": "9cd49f37d5bc49ffa33645a4f62f56ae",
    "deepnote_cell_height": 143,
    "deepnote_cell_type": "code",
    "deepnote_to_be_reexecuted": false,
    "execution_millis": 918,
    "execution_start": 1669611379620,
    "source_hash": "b02dead0",
    "tags": []
   },
   "outputs": [
    {
     "name": "stdout",
     "output_type": "stream",
     "text": [
      "bytearray(b'\\x00\\x00\\x00\\x00\\x00')\n"
     ]
    }
   ],
   "source": [
    "x = bytearray(5)\t\t\n",
    "x = bytearray(5)\t#bytearray\t\n",
    "print(x)"
   ]
  },
  {
   "cell_type": "code",
   "execution_count": 16,
   "metadata": {
    "cell_id": "94483066d5bf42fca700a2e1ae3bcc8b",
    "deepnote_cell_height": 143,
    "deepnote_cell_type": "code",
    "deepnote_to_be_reexecuted": false,
    "execution_millis": 917,
    "execution_start": 1669611379621,
    "source_hash": "709cb2ee",
    "tags": []
   },
   "outputs": [
    {
     "name": "stdout",
     "output_type": "stream",
     "text": [
      "<memory at 0x0000022F6B4FFA00>\n"
     ]
    }
   ],
   "source": [
    "x = memoryview(bytes(5))\t\n",
    "x = memoryview(bytes(5))\t#memoryview\n",
    "print(x)"
   ]
  },
  {
   "cell_type": "markdown",
   "metadata": {
    "cell_id": "ea74bd782b25482281220c3e171addc9",
    "deepnote_cell_height": 153.59375,
    "deepnote_cell_type": "markdown",
    "tags": []
   },
   "source": [
    "Conditions and Loops\n",
    "* Core of Programming\n",
    "* Rely on boolean expressions which either return TRUE or FALSE\n",
    "* Boolean Expressions can be combined with : AND, OR, NOT"
   ]
  },
  {
   "cell_type": "markdown",
   "metadata": {
    "cell_id": "6c6b4e0f22ed4ed8a262253896c323d4",
    "deepnote_cell_height": 380,
    "deepnote_cell_type": "markdown",
    "tags": []
   },
   "source": [
    "Python Operators\n",
    "\n",
    "Operators are used to perform operations on variables and values.\n",
    "\n",
    "Python divides the operators in the following groups:\n",
    "\n",
    "Arithmetic operators  +, -, * , /, %, **, //\n",
    "\n",
    "Assignment operators  =, +=, -=, *=,%=, //=,^=, &=\n",
    "\n",
    "Comparison operators  ==, !=, >,<, >=,<=\n",
    "\n",
    "Logical operators     AND, OR, NOT\n",
    "\n",
    "Identity operators    IS, IS NOT\n",
    "\n",
    "Membership operators  IN, NOT IN\n",
    "\n",
    "Bitwise operators     & (AND), | (OR), ^ (XOR), ~ (NOT) \n"
   ]
  },
  {
   "cell_type": "code",
   "execution_count": 17,
   "metadata": {
    "cell_id": "1cc60ebf53dc4306851bc46899ea9c1c",
    "deepnote_cell_height": 197,
    "deepnote_cell_type": "code",
    "deepnote_to_be_reexecuted": false,
    "execution_millis": 921,
    "execution_start": 1669611379623,
    "source_hash": "1da57e2f",
    "tags": []
   },
   "outputs": [
    {
     "name": "stdout",
     "output_type": "stream",
     "text": [
      "OK, can have a DL.\n"
     ]
    }
   ],
   "source": [
    "# Conditionals :Driving License Age\n",
    "age = 20\n",
    "if age < 17:\n",
    "  print(\"Can't have a DL yet!!\")\n",
    "else:\n",
    "    print(\"OK, can have a DL.\")"
   ]
  },
  {
   "cell_type": "code",
   "execution_count": 18,
   "metadata": {
    "cell_id": "ae963140a6ab4ed8b6da9d129124a3e3",
    "deepnote_cell_height": 197,
    "deepnote_cell_type": "code",
    "deepnote_to_be_reexecuted": false,
    "execution_millis": 109548,
    "execution_start": 1669611379627,
    "source_hash": "8d789464",
    "tags": []
   },
   "outputs": [
    {
     "name": "stdout",
     "output_type": "stream",
     "text": [
      "User age:20\n",
      "OK, can have a DL.\n"
     ]
    }
   ],
   "source": [
    "# Conditionals :User Input\n",
    "age = int(input(\"User age:\"))\n",
    "if age < 17:\n",
    "  print(\"Can't have a DL yet!!\")\n",
    "else:\n",
    "    print(\"OK, can have a DL.\")"
   ]
  },
  {
   "cell_type": "code",
   "execution_count": 19,
   "metadata": {
    "cell_id": "f61b93380b0447d38c23f1e7cbcbad28",
    "deepnote_cell_height": 287,
    "deepnote_cell_type": "code",
    "deepnote_to_be_reexecuted": false,
    "execution_millis": 7003,
    "execution_start": 1669611489174,
    "source_hash": "4e9e94ea",
    "tags": []
   },
   "outputs": [
    {
     "name": "stdout",
     "output_type": "stream",
     "text": [
      "Numeric grade: 93\n",
      "A\n"
     ]
    }
   ],
   "source": [
    "# Conditionals: Grading\n",
    "grade = int(input(\"Numeric grade: \"))  \n",
    "if grade >= 80:\n",
    "    print(\"A\")\n",
    "elif grade >= 65: \n",
    "    print(\"B\")\n",
    "elif grade >= 55:  \n",
    "    print(\"C\")\n",
    "else:\n",
    "    print(\"E\")\n"
   ]
  },
  {
   "cell_type": "markdown",
   "metadata": {
    "cell_id": "5db5409dad9e40db8feabdda2004766a",
    "deepnote_cell_height": 173,
    "deepnote_cell_type": "markdown",
    "tags": []
   },
   "source": [
    "Loops in Python\n",
    "Loops are useful for repeating code blocks over multiple times based on required conditions.There are two kinds of loops in Python:\n",
    "* FOR\n",
    "* WHILE"
   ]
  },
  {
   "cell_type": "markdown",
   "metadata": {
    "cell_id": "48faea58f5134591841d7b9699e9cbca",
    "deepnote_cell_height": 119.59375,
    "deepnote_cell_type": "markdown",
    "tags": []
   },
   "source": [
    "A \"FOR\" python loop is used for iterating over a sequence (that is either a list, a tuple, a dictionary, a set, or a string).\n",
    "This is less like the \"FOR\" keyword in other programming languages, and works more like an iterator method as found in other object-orientated programming languages.\n",
    "With the \"FOR\" loop we can execute a set of statements, once for each item in a list, tuple, set etc.\n"
   ]
  },
  {
   "cell_type": "markdown",
   "metadata": {
    "cell_id": "f332496723b24842bb24d7b28924935e",
    "deepnote_cell_height": 52.390625,
    "deepnote_cell_type": "markdown",
    "tags": []
   },
   "source": [
    "With the python \"WHILE\" loop we can execute a set of statements as long as a condition is true."
   ]
  },
  {
   "cell_type": "code",
   "execution_count": 20,
   "metadata": {
    "cell_id": "b44f425d99ad4a119da2420498432303",
    "deepnote_cell_height": 203,
    "deepnote_cell_type": "code",
    "deepnote_to_be_reexecuted": false,
    "execution_millis": 34682,
    "execution_start": 1669611496221,
    "source_hash": "1227d3d3",
    "tags": []
   },
   "outputs": [
    {
     "name": "stdout",
     "output_type": "stream",
     "text": [
      "Which is your favorite flower?Rose\n",
      "Of course it is !\n"
     ]
    }
   ],
   "source": [
    "while input(\"Which is your favorite flower?\") != \"Rose\":\n",
    "  print(\"Try again !\")\n",
    "print(\"Of course it is !\")  "
   ]
  },
  {
   "cell_type": "code",
   "execution_count": 21,
   "metadata": {
    "cell_id": "d6e310868b6c49b0a1cce5dd4ee289a6",
    "deepnote_cell_height": 489,
    "deepnote_cell_type": "code",
    "deepnote_to_be_reexecuted": false,
    "execution_millis": 67,
    "execution_start": 1669611530862,
    "source_hash": "1098a5c3",
    "tags": []
   },
   "outputs": [
    {
     "name": "stdout",
     "output_type": "stream",
     "text": [
      "apple\n",
      "banana\n",
      "cherry\n",
      "s\n",
      "t\n",
      "r\n",
      "i\n",
      "n\n",
      "g\n",
      "1\n",
      "4\n",
      "5\n"
     ]
    }
   ],
   "source": [
    "fruits = [\"apple\", \"banana\", \"cherry\"]\n",
    "for x in fruits:\n",
    "  print(x)\n",
    "\n",
    "for chr in \"string\" :\n",
    "  print(chr)\n",
    "\n",
    "for elem in [1,4,5]:\n",
    "  print(elem)\n"
   ]
  },
  {
   "cell_type": "markdown",
   "metadata": {
    "cell_id": "d57899f5827e4c13ae2039ae2d52977c",
    "deepnote_cell_height": 161.59375,
    "deepnote_cell_type": "markdown",
    "tags": []
   },
   "source": [
    "FUNCTIONS in Python\n",
    "\n",
    "A function is a block of code which only runs when it is called.\n",
    "\n",
    " You can pass data, known as parameters, into a function.A function can return data as a result.\n",
    "\n",
    " \n",
    "In Python Function is created using \"def\" keyword."
   ]
  },
  {
   "cell_type": "markdown",
   "metadata": {
    "cell_id": "65a67bc570524846859ad98533e1fc03",
    "deepnote_cell_height": 119.59375,
    "deepnote_cell_type": "markdown",
    "tags": []
   },
   "source": [
    "Generic form:\n",
    "def function-name(parameters):\n",
    "     code block\n",
    "     return value"
   ]
  },
  {
   "cell_type": "code",
   "execution_count": 22,
   "metadata": {
    "cell_id": "c3ed75eb34d44ded82e61359a3742743",
    "deepnote_cell_height": 202.1875,
    "deepnote_cell_type": "code",
    "deepnote_output_heights": [
     20.1875
    ],
    "deepnote_to_be_reexecuted": false,
    "execution_millis": 59,
    "execution_start": 1669611530874,
    "source_hash": "3536f7f5",
    "tags": []
   },
   "outputs": [
    {
     "data": {
      "text/plain": [
       "50.0"
      ]
     },
     "execution_count": 22,
     "metadata": {},
     "output_type": "execute_result"
    }
   ],
   "source": [
    "# Function :Celsius to Fahrenheit\n",
    "def celsius_to_fahrenheit(celsius):\n",
    "  fahrenheit = celsius * 1.8 +32.0\n",
    "  return fahrenheit\n",
    "  print(fahrenheit)\n",
    "celsius_to_fahrenheit(10)  "
   ]
  },
  {
   "cell_type": "code",
   "execution_count": 23,
   "metadata": {
    "cell_id": "3722f24b6ddd4bec8ece0f2c1239b7d0",
    "deepnote_cell_height": 237,
    "deepnote_cell_type": "code",
    "deepnote_to_be_reexecuted": false,
    "execution_millis": 54,
    "execution_start": 1669611530881,
    "source_hash": "fca5e946",
    "tags": []
   },
   "outputs": [
    {
     "name": "stdout",
     "output_type": "stream",
     "text": [
      "hello, Bro & lady!\n",
      "hello, Bro & Sis!\n",
      "hello, John & Mary!\n"
     ]
    }
   ],
   "source": [
    "#Functions: Default and Named Parameters\n",
    "def hello(name_man = \"Bro\", name_woman =\"lady\"):\n",
    " print(\"hello, \" + name_man + \" & \" +name_woman + \"!\")\n",
    "hello()\n",
    "hello(name_woman= \"Sis\")\n",
    "hello(name_man= \"John\", name_woman= \"Mary\")"
   ]
  },
  {
   "cell_type": "markdown",
   "metadata": {
    "cell_id": "fe4ac9f0138e4e328eef0dd663c5605e",
    "deepnote_cell_height": 228.796875,
    "deepnote_cell_type": "markdown",
    "tags": []
   },
   "source": [
    "Import in Python\n",
    "Import in python is similar to #include header_file in C/C++. Python modules can get access to code from another module by importing the file/function using import. \n",
    "The import statement is the most common way of invoking the import machinery.\n",
    "\n",
    "import module_name\n",
    "\n",
    "\n",
    "from module_name import function_name\n",
    "\n",
    "These are the two ways to import in Python."
   ]
  },
  {
   "cell_type": "code",
   "execution_count": 24,
   "metadata": {
    "cell_id": "1b31d25d12a84835a6a8cf18be96feb1",
    "deepnote_cell_height": 125,
    "deepnote_cell_type": "code",
    "deepnote_to_be_reexecuted": false,
    "execution_millis": 48,
    "execution_start": 1669611530887,
    "source_hash": "28216f4b",
    "tags": []
   },
   "outputs": [
    {
     "name": "stdout",
     "output_type": "stream",
     "text": [
      "2.0\n"
     ]
    }
   ],
   "source": [
    "import math\n",
    "print(math.sqrt(4))"
   ]
  },
  {
   "cell_type": "code",
   "execution_count": 25,
   "metadata": {
    "cell_id": "1cba19e02b6d412b83c71c83bca3fdf3",
    "deepnote_cell_height": 125,
    "deepnote_cell_type": "code",
    "deepnote_to_be_reexecuted": false,
    "execution_millis": 41,
    "execution_start": 1669611530894,
    "source_hash": "56e19aa5",
    "tags": []
   },
   "outputs": [
    {
     "name": "stdout",
     "output_type": "stream",
     "text": [
      "2.0\n"
     ]
    }
   ],
   "source": [
    "from math import sqrt\n",
    "print(sqrt(4))"
   ]
  },
  {
   "cell_type": "markdown",
   "metadata": {
    "cell_id": "6894bd92b9d741aaa5ac6979fa1ba412",
    "deepnote_cell_height": 170,
    "deepnote_cell_type": "markdown",
    "tags": []
   },
   "source": [
    "Strings in Python\n",
    "String is a sequence of characters, like \"Python is cool\".\n",
    "String literals in python are surrounded by either single quotation marks, or double quotation marks.\n",
    "\n",
    "'hello' is the same as \"hello\".\n",
    "\n",
    "Each character of a string has an index."
   ]
  },
  {
   "cell_type": "code",
   "execution_count": 26,
   "metadata": {
    "cell_id": "fdf97a2c9b97455f9c85880d39b8d070",
    "deepnote_cell_height": 559,
    "deepnote_cell_type": "code",
    "deepnote_to_be_reexecuted": false,
    "execution_millis": 47,
    "execution_start": 1669611530905,
    "source_hash": "ec01af70",
    "tags": []
   },
   "outputs": [
    {
     "name": "stdout",
     "output_type": "stream",
     "text": [
      "c\n",
      "thon\n",
      "cool\n",
      "14\n",
      "Python is cool?\n",
      "PYTHON IS COOL\n",
      "Python is kool\n",
      "['Python', 'is', 'cool']\n",
      "Python,is,cool\n",
      "['Pyth', 'n is c', '', 'l']\n",
      "Pyth,n is c,,l\n"
     ]
    }
   ],
   "source": [
    "#String Operations\n",
    "x = \"Python is cool\"\n",
    "print(x[10])  #access a character\n",
    "print(x[2:6]) #substring\n",
    "print(x[10:14]) #Substring\n",
    "print(len(x)) #Lenght of String\n",
    "print(x + \"?\")  #Concatenation\n",
    "print(x.upper()) #Change to UPPERCASE\n",
    "print(x.replace(\"c\", \"k\")) #replace\n",
    "z = x.split(\" \") #Split String\n",
    "print(z)\n",
    "print(\",\".join(z)) #Join\n",
    "y= x.split(\"o\")\n",
    "print(y)\n",
    "print(\",\".join(y))"
   ]
  },
  {
   "cell_type": "markdown",
   "metadata": {
    "cell_id": "3caa26127f6543eb999ca655b86dd1ed",
    "deepnote_cell_height": 489.1875,
    "deepnote_cell_type": "markdown",
    "tags": []
   },
   "source": [
    "File Handling in Python\n",
    "\n",
    "File handling is an important part of any web application.\n",
    "\n",
    "Python has several functions for creating, reading, updating, and deleting files.\n",
    "\n",
    "The key function for working with files in Python is the open() function.\n",
    "\n",
    "The open() function takes two parameters; filename, and mode.\n",
    "\n",
    "There are four different methods (modes) for opening a file:\n",
    "\n",
    "\"r\" - Read - Default value. Opens a file for reading, error if the file does not exist\n",
    "\n",
    "\"a\" - Append - Opens a file for appending, creates the file if it does not exist\n",
    "\n",
    "\"w\" - Write - Opens a file for writing, creates the file if it does not exist\n",
    "\n",
    "\"x\" - Create - Creates the specified file, returns an error if the file exists\n",
    "\n",
    "In addition you can specify if the file should be handled as binary or text mode\n",
    "\n",
    "\"t\" - Text - Default value. Text mode\n",
    "\n",
    "\"b\" - Binary - Binary mode (e.g. images)"
   ]
  },
  {
   "cell_type": "code",
   "execution_count": 28,
   "metadata": {
    "cell_id": "bf5853366bda474b836fd315703de942",
    "deepnote_cell_height": 317,
    "deepnote_cell_type": "code",
    "deepnote_to_be_reexecuted": false,
    "execution_millis": 5,
    "execution_start": 1669624824248,
    "source_hash": "bcda4370",
    "tags": []
   },
   "outputs": [
    {
     "name": "stdout",
     "output_type": "stream",
     "text": [
      "Python is all about cool stuff !!carpe\n",
      "diem\n",
      "carpe\n",
      "diem\n",
      "\n",
      "False\n",
      "True\n"
     ]
    }
   ],
   "source": [
    "x = open(\"cool.txt\", \"r\")\n",
    "y = x.read()\n",
    "print(y)\n",
    "print(x.closed)\n",
    "x.close()\n",
    "print(x.closed)"
   ]
  },
  {
   "cell_type": "code",
   "execution_count": 29,
   "metadata": {
    "cell_id": "18fc8a8ba6a54dbb9372ec4c0b9a3efe",
    "deepnote_cell_height": 389,
    "deepnote_cell_type": "code",
    "deepnote_to_be_reexecuted": false,
    "execution_millis": 9,
    "execution_start": 1669624828445,
    "source_hash": "4c1951b6",
    "tags": []
   },
   "outputs": [
    {
     "name": "stdout",
     "output_type": "stream",
     "text": [
      "Python is all about cool stuff !!carpe\n",
      "diem\n",
      "carpe\n",
      "diem\n",
      "\n",
      "False\n",
      "True\n"
     ]
    }
   ],
   "source": [
    "x = open(\"cool.txt\", \"r\")\n",
    "y = x.read()\n",
    "print(y)\n",
    "print(x.closed)\n",
    "#read line by line\n",
    "for line in x:\n",
    "    line = line.replace(\"\\n\",\" \")\n",
    "    print(line)\n",
    "x.close()\n",
    "print(x.closed)"
   ]
  },
  {
   "cell_type": "code",
   "execution_count": 30,
   "metadata": {
    "cell_id": "c1faeb24bd204458b697000a83acd79c",
    "deepnote_cell_height": 313,
    "deepnote_cell_type": "code",
    "deepnote_to_be_reexecuted": false,
    "execution_millis": 597,
    "execution_start": 1669624832692,
    "source_hash": "ab8e9833",
    "tags": []
   },
   "outputs": [
    {
     "name": "stdout",
     "output_type": "stream",
     "text": [
      "carpe\n",
      "diem\n",
      "\n",
      "False\n",
      "True\n"
     ]
    }
   ],
   "source": [
    "x = open(\"write.txt\", \"w\")\n",
    "x.write(\"carpe\\ndiem\\n\")\n",
    "x = open(\"write.txt\", \"r\")\n",
    "y = x.read()\n",
    "print(y)\n",
    "print(x.closed)\n",
    "x.close()\n",
    "print(x.closed)"
   ]
  },
  {
   "cell_type": "code",
   "execution_count": 31,
   "metadata": {
    "cell_id": "074bf843c8a44c59ac2e0038ddbe5e20",
    "deepnote_cell_height": 353,
    "deepnote_cell_type": "code",
    "deepnote_to_be_reexecuted": true,
    "source_hash": "189dabd8",
    "tags": []
   },
   "outputs": [
    {
     "name": "stdout",
     "output_type": "stream",
     "text": [
      "Python is all about cool stuff !!carpe\n",
      "diem\n",
      "carpe\n",
      "diem\n",
      "carpe\n",
      "diem\n",
      "\n",
      "False\n",
      "True\n"
     ]
    }
   ],
   "source": [
    "x = open(\"cool.txt\", \"a\")\n",
    "x.write(\"carpe\\ndiem\\n\")\n",
    "x = open(\"cool.txt\", \"r\")\n",
    "y = x.read()\n",
    "print(y)\n",
    "print(x.closed)\n",
    "x.close()\n",
    "print(x.closed)"
   ]
  },
  {
   "cell_type": "markdown",
   "metadata": {
    "cell_id": "94a5c427698d4b0ba4f0dc9b8576b3a2",
    "deepnote_cell_height": 256.796875,
    "deepnote_cell_type": "markdown",
    "tags": []
   },
   "source": [
    "Python Collections (Arrays):\n",
    "\n",
    "There are four collection data types in the Python programming language:\n",
    "\n",
    "List is a collection which is ordered and changeable. Allows duplicate members. Written with square brackets.\n",
    "\n",
    "Tuple is a collection which is ordered and unchangeable. Allows duplicate members. Written with round brackets.\n",
    "\n",
    "Set is a collection which is unordered and unindexed. No duplicate members. Written with curly brackets.\n",
    "\n",
    "Dictionary is a collection which is unordered, changeable and indexed. No duplicate members.Written with curly brackets having key-value pairs."
   ]
  },
  {
   "cell_type": "code",
   "execution_count": 32,
   "metadata": {
    "cell_id": "21eb18172c0c4997bdf4e8c63e644cf3",
    "deepnote_cell_height": 687,
    "deepnote_cell_type": "code",
    "deepnote_to_be_reexecuted": true,
    "source_hash": "8d8a6620",
    "tags": []
   },
   "outputs": [
    {
     "name": "stdout",
     "output_type": "stream",
     "text": [
      "['Python', 'is', 'cool']\n",
      "['Python', 'cool', 'is']\n",
      "['cool']\n",
      "3\n",
      "['Python', 'cool', 'is', '?', 'Please', 'Think', 'Python']\n",
      "['Python', 'cool', 'is']\n",
      "is\n",
      "['Python', 'Hot', 'is']\n",
      "['Python', 'cool', 'is', '?', 'Please', 'Think', 'Python']\n",
      "['cool', 'is', '?', 'Please', 'Think', 'Python']\n",
      "['Python', 'Hot', 'is']\n",
      "['Python', 'is']\n"
     ]
    }
   ],
   "source": [
    "#LIST Operations\n",
    "x = [\"Python\", \"is\", \"cool\"]\n",
    "print(x)\n",
    "x.sort()\n",
    "print(x)\n",
    "y = x[1:2]\n",
    "print(y)\n",
    "z = len(x)\n",
    "print(z)\n",
    "a = x + [\"?\", \"Please\", \"Think\", \"Python\"]\n",
    "print(a)\n",
    "print(x)\n",
    "print(x[2])\n",
    "x[1] = \"Hot\"\n",
    "print(x)\n",
    "print(a)\n",
    "a.remove(\"Python\")\n",
    "print(a)\n",
    "print(x)\n",
    "x.pop(1)\n",
    "print(x)"
   ]
  },
  {
   "cell_type": "code",
   "execution_count": 33,
   "metadata": {
    "cell_id": "9fb901b002ef4c808124df252f365409",
    "deepnote_cell_height": 130.1875,
    "deepnote_cell_type": "code",
    "deepnote_output_heights": [
     20.1875
    ],
    "deepnote_to_be_reexecuted": true,
    "source_hash": "6d6c76af",
    "tags": []
   },
   "outputs": [
    {
     "data": {
      "text/plain": [
       "['pythin', 'ciil']"
      ]
     },
     "execution_count": 33,
     "metadata": {},
     "output_type": "execute_result"
    }
   ],
   "source": [
    "#List Comprehension\n",
    "[i.replace(\"o\", \"i\") for i in [\"python\", \"is\",\"cool\"] if len(i)>=3]"
   ]
  },
  {
   "cell_type": "code",
   "execution_count": 34,
   "metadata": {
    "cell_id": "00487513b1584fd9a3b9e67124d6e5dd",
    "deepnote_cell_height": 130.1875,
    "deepnote_cell_type": "code",
    "deepnote_output_heights": [
     20.1875
    ],
    "deepnote_to_be_reexecuted": true,
    "source_hash": "e2216bf2",
    "tags": []
   },
   "outputs": [
    {
     "data": {
      "text/plain": [
       "[0, 4, 8]"
      ]
     },
     "execution_count": 34,
     "metadata": {},
     "output_type": "execute_result"
    }
   ],
   "source": [
    "#List Comprehension\n",
    "[j*2 for j in [0,1,2,3,4] if j%2 == 0]"
   ]
  },
  {
   "cell_type": "code",
   "execution_count": 35,
   "metadata": {
    "cell_id": "2ead7a07478f41718103953d19030f85",
    "deepnote_cell_height": 217,
    "deepnote_cell_type": "code",
    "deepnote_to_be_reexecuted": true,
    "source_hash": "96e43592",
    "tags": []
   },
   "outputs": [
    {
     "name": "stdout",
     "output_type": "stream",
     "text": [
      "(0, 1, 2, 'tuples', ' ')\n",
      "(0, 1, 2, 'tuples', ' ')\n"
     ]
    }
   ],
   "source": [
    "#TUPLES Operations\n",
    "x = (0,1,2, \"tuples\",\" \")\n",
    "print(x)\n",
    "y = 0,1,2, \"tuples\", \" \"\n",
    "print(y)\n",
    "# x[0] = 8 #will give error"
   ]
  },
  {
   "cell_type": "code",
   "execution_count": 36,
   "metadata": {
    "cell_id": "f0fcd1fdd7c94cbb856ee97fee27e626",
    "deepnote_cell_height": 313,
    "deepnote_cell_type": "code",
    "deepnote_to_be_reexecuted": true,
    "source_hash": "c5a26897",
    "tags": []
   },
   "outputs": [
    {
     "name": "stdout",
     "output_type": "stream",
     "text": [
      "[0, 1, 2, 0, 0, 1, 2, 2]\n",
      "{0, 1, 2}\n",
      "{1, 2}\n",
      "{0, 1, 2, 3}\n",
      "{0}\n"
     ]
    }
   ],
   "source": [
    "#SETS Operation\n",
    "x = [0,1,2,0,0,1,2,2] #list\n",
    "y = {0,1,2,0,0,1,2,2} #set (removes duplicates)\n",
    "print(x)\n",
    "print(y)\n",
    "print(y & {1,2,3}) #intersection\n",
    "print(y | {1,2,3}) #union\n",
    "print(y - {1,2,3}) #difference"
   ]
  },
  {
   "cell_type": "code",
   "execution_count": 37,
   "metadata": {
    "cell_id": "b66a30d9bf0644a8ad6f493ae06e5cef",
    "deepnote_cell_height": 237,
    "deepnote_cell_type": "code",
    "deepnote_to_be_reexecuted": true,
    "source_hash": "e3d183e8",
    "tags": []
   },
   "outputs": [
    {
     "name": "stdout",
     "output_type": "stream",
     "text": [
      "{'India': 'New Delhi', 'Germany': 'Berlin', 'Italy': 'Rome'}\n",
      "New Delhi\n",
      "{'India': 'New Delhi', 'Germany': 'Berlin', 'Italy': 'Rome', 'Japan': 'Tokyo'}\n"
     ]
    }
   ],
   "source": [
    "#DICTIONARY Operations\n",
    "x = {\"India\": \"New Delhi\", \"Germany\": \"Berlin\", \"Italy\": \"Rome\"}\n",
    "print(x)\n",
    "print(x[\"India\"])\n",
    "x[\"Japan\"] = \"Tokyo\"\n",
    "print(x)"
   ]
  },
  {
   "cell_type": "markdown",
   "metadata": {
    "cell_id": "938d6f18a5944ee790d7b6761f382639",
    "deepnote_cell_height": 256.796875,
    "deepnote_cell_type": "markdown",
    "tags": []
   },
   "source": [
    "Python Classes/Objects\n",
    "Python is an object oriented programming language.\n",
    "\n",
    "\n",
    "Almost everything in Python is an object, with its properties and methods.\n",
    "\n",
    "\n",
    "A Class is like an object constructor, or a \"blueprint\" for creating objects.\n",
    "\n",
    "\n",
    "To create a class, use the keyword \"CLASS\".\n",
    "\n",
    "While in functions we encapsulate a set of instructions,  in classes we encapsulate object's methods and atributes!\n",
    "\n",
    "A class can use other classes as BASE.\n"
   ]
  },
  {
   "cell_type": "code",
   "execution_count": 38,
   "metadata": {
    "cell_id": "6795be7c6bc14c258f27dc7aad9b0895",
    "deepnote_cell_height": 269,
    "deepnote_cell_type": "code",
    "deepnote_to_be_reexecuted": false,
    "execution_millis": 1,
    "execution_start": 1669625544073,
    "source_hash": "4425b83a",
    "tags": []
   },
   "outputs": [
    {
     "name": "stdout",
     "output_type": "stream",
     "text": [
      "Guido Van Rossum\n"
     ]
    }
   ],
   "source": [
    "#CLASS : PERSON\n",
    "class Person :\n",
    "  def __init__(self,first,last): \n",
    "    self.firstname = first\n",
    "    self.lastname  = last \n",
    "  def describe(self):\n",
    "    return self.firstname +  \" \" + self.lastname\n",
    "\n",
    "P1 = Person(\"Guido\", \"Van Rossum\")\n",
    "print(P1.describe() )"
   ]
  },
  {
   "cell_type": "code",
   "execution_count": 39,
   "metadata": {
    "cell_id": "e6c7f23641fa4ad2b73adb12ff9d1a3d",
    "deepnote_cell_height": 395,
    "deepnote_cell_type": "code",
    "deepnote_to_be_reexecuted": false,
    "execution_millis": 7,
    "execution_start": 1669625547799,
    "source_hash": "31c3de17",
    "tags": []
   },
   "outputs": [
    {
     "name": "stdout",
     "output_type": "stream",
     "text": [
      "Van Rossum, 123456\n"
     ]
    }
   ],
   "source": [
    "#CLASS : PERSON & EMPLOYEE\n",
    "class Person :\n",
    "  def __init__(self,first,last): \n",
    "    self.firstname = first\n",
    "    self.lastname  = last \n",
    "  def describe(self):\n",
    "    return self.firstname +  \" \" + self.lastname\n",
    "\n",
    "class Employee(Person) :\n",
    "    def __init__(self,first,last, staffnum):\n",
    "      Person.__init__(self, first, last)\n",
    "      self.staffnum = staffnum\n",
    "    def describe(self):\n",
    "      return self.lastname +  \", \" + str(self.staffnum)  \n",
    "\n",
    "P1 = Employee(\"Guido\", \"Van Rossum\", 123456)   \n",
    "print(P1.describe() )"
   ]
  },
  {
   "cell_type": "markdown",
   "metadata": {
    "cell_id": "d7d6d679bddd469e8d4e97e2b826897b",
    "deepnote_cell_height": 147.59375,
    "deepnote_cell_type": "markdown",
    "tags": []
   },
   "source": [
    "To understand the meaning of classes we have to understand the built-in __init__() function.\n",
    "\n",
    "\n",
    "All classes have a function called __init__(), which is always executed when the class is being initiated.\n",
    "\n",
    "\n",
    "The __init__() function is used to assign values to object properties, or other operations that are necessary to do when the object is being created.\n"
   ]
  },
  {
   "cell_type": "markdown",
   "metadata": {
    "cell_id": "7534309f12d94eee99db445002737970",
    "deepnote_cell_height": 125.1875,
    "deepnote_cell_type": "markdown",
    "tags": []
   },
   "source": [
    "Python LAMBDA\n",
    "\n",
    "A lambda function is a small anonymous function.\n",
    "\n",
    "A lambda function can take any number of arguments, but can only have one expression."
   ]
  },
  {
   "cell_type": "code",
   "execution_count": 40,
   "metadata": {
    "cell_id": "3d3a244e4b9e4a5692752e4407e9ac8b",
    "deepnote_cell_height": 161,
    "deepnote_cell_type": "code",
    "deepnote_to_be_reexecuted": false,
    "execution_millis": 1,
    "execution_start": 1669625552193,
    "source_hash": "a9308199",
    "tags": []
   },
   "outputs": [
    {
     "name": "stdout",
     "output_type": "stream",
     "text": [
      "15\n"
     ]
    }
   ],
   "source": [
    "# A lambda function that adds 10 to the number passed in as an argument, and print the result:\n",
    "x = lambda a : a + 10\n",
    "print(x(5))\n"
   ]
  },
  {
   "cell_type": "code",
   "execution_count": 41,
   "metadata": {
    "cell_id": "2351da8180274f22b0fcf0e363302ede",
    "deepnote_cell_height": 179,
    "deepnote_cell_type": "code",
    "deepnote_to_be_reexecuted": false,
    "execution_millis": 12,
    "execution_start": 1669625554826,
    "source_hash": "447b58cc",
    "tags": []
   },
   "outputs": [
    {
     "name": "stdout",
     "output_type": "stream",
     "text": [
      "30\n"
     ]
    }
   ],
   "source": [
    "#A lambda function that multiplies argument a with argument b and print the result:\n",
    "x = lambda a, b : a * b\n",
    "print(x(5, 6))\n",
    "\n"
   ]
  },
  {
   "cell_type": "markdown",
   "metadata": {
    "cell_id": "a5f85f5db67240569d62471f39cf5c6c",
    "deepnote_cell_height": 259.59375,
    "deepnote_cell_type": "markdown",
    "tags": []
   },
   "source": [
    "NUMPY\n",
    "\n",
    "NumPy is a python library used for working with arrays.\n",
    "It also has functions for working in domain of linear algebra, fourier transform, and matrices.\n",
    "NumPy was created in 2005 by Travis Oliphant. It is an open source project and you can use it freely.\n",
    "NumPy arrays are stored at one continuous place in memory unlike lists, so processes can access and manipulate them very efficiently.\n",
    "\n",
    "NumPy is a Python library and is written partially in Python, but most of the parts that require fast computation are written in C or C++.\n",
    "NumPy stands for Numerical Python."
   ]
  },
  {
   "cell_type": "markdown",
   "metadata": {
    "cell_id": "07ccf152af674fa2a07d76fafbd28f23",
    "deepnote_cell_height": 133.59375,
    "deepnote_cell_type": "markdown",
    "tags": []
   },
   "source": [
    "PANDAS\n",
    "\n",
    "pandas is a Python package providing fast, flexible, and expressive data structures designed to make working with 'relationa' or 'labeled' data both easy and intuitive. It aims to be the fundamental high-level building block for doing practical, real world data analysis in Python."
   ]
  },
  {
   "cell_type": "markdown",
   "metadata": {
    "cell_id": "b6a278e4481b413d88fa483facfd0e4c",
    "deepnote_cell_height": 133.59375,
    "deepnote_cell_type": "markdown",
    "tags": []
   },
   "source": [
    "MATPLOTLIB\n",
    "\n",
    "Matplotlib is a plotting library for the Python programming language and its numerical mathematics extension NumPy. It provides an object-oriented API for embedding plots into applications using general-purpose GUI toolkits like Tkinter, wxPython, Qt, or GTK+.\n"
   ]
  },
  {
   "cell_type": "markdown",
   "metadata": {
    "cell_id": "5e1ea44659724044b5e365cc9a632789",
    "deepnote_cell_height": 111.1875,
    "deepnote_cell_type": "markdown",
    "tags": []
   },
   "source": [
    "SEABORN\n",
    "\n",
    "Seaborn is a Python data visualization library based on matplotlib. It provides a high-level interface for drawing attractive and informative statistical graphics"
   ]
  }
 ],
 "metadata": {
  "deepnote": {},
  "deepnote_execution_queue": [],
  "deepnote_notebook_id": "50a365dee6da4f5caabcb1464921af13",
  "deepnote_persisted_session": {
   "createdAt": "2022-11-28T05:17:32.275Z"
  },
  "kernelspec": {
   "display_name": "Python 3 (ipykernel)",
   "language": "python",
   "name": "python3"
  },
  "language_info": {
   "codemirror_mode": {
    "name": "ipython",
    "version": 3
   },
   "file_extension": ".py",
   "mimetype": "text/x-python",
   "name": "python",
   "nbconvert_exporter": "python",
   "pygments_lexer": "ipython3",
   "version": "3.9.13"
  }
 },
 "nbformat": 4,
 "nbformat_minor": 1
}
