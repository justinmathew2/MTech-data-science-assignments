{
 "cells": [
  {
   "cell_type": "markdown",
   "metadata": {
    "id": "Ogk8gMi6ExgS"
   },
   "source": [
    "# <center>        **Machine Learning-ASSIGNMENT**</center>"
   ]
  },
  {
   "cell_type": "markdown",
   "metadata": {
    "id": "7z0In7FNfA41"
   },
   "source": [
    "# **PART A**"
   ]
  },
  {
   "cell_type": "markdown",
   "metadata": {
    "id": "kAASoXwJF6md"
   },
   "source": [
    "# 1. Import Libraries/Dataset\n",
    "\n",
    "a. Download the Dataset                              \n",
    "\n",
    "b. Import the required libraries"
   ]
  },
  {
   "cell_type": "code",
   "execution_count": 1,
   "metadata": {
    "id": "ID-P7ESrKBzw"
   },
   "outputs": [],
   "source": [
    "# Importing Required Libraries\n",
    "import requests\n",
    "import numpy as np\n",
    "import pandas as pd\n",
    "import seaborn as sns\n",
    "import matplotlib.pyplot as plt\n",
    "\n",
    "\n",
    "from sklearn.svm import SVC\n",
    "from sklearn.linear_model import LogisticRegression\n",
    "from sklearn.ensemble import RandomForestClassifier\n",
    "from sklearn.model_selection import train_test_split\n",
    "from sklearn.feature_selection import VarianceThreshold\n",
    "from sklearn.preprocessing import StandardScaler, MinMaxScaler\n",
    "from sklearn.metrics import accuracy_score, log_loss, confusion_matrix, classification_report\n",
    "\n",
    "# Download DataSet\n",
    "google_drive_link = 'https://drive.google.com/file/d/1g5uDcFd22cmiSU0spwgidiMcywW7Yryj/view?usp=sharing'\n",
    "\n",
    "# Get the file ID from the Google Drive link\n",
    "file_id = google_drive_link.split('/')[-2]\n",
    "\n",
    "# Download the XLSX file\n",
    "url = f'https://drive.google.com/uc?id={file_id}'\n",
    "response = requests.get(url)\n",
    "\n",
    "# Save the file locally\n",
    "file_name = 'Plant_Tree_data.xlsx'\n",
    "with open(file_name, 'wb') as f:\n",
    "    f.write(response.content)\n",
    "\n",
    "# Read the XLSX file into a Pandas DataFrame\n",
    "df = pd.read_excel(file_name)"
   ]
  },
  {
   "cell_type": "markdown",
   "metadata": {
    "id": "MK-LPuhDGuQF"
   },
   "source": [
    "# 2. Data Visualization and Exploration\n",
    "\n",
    "a. Print at least 5 rows for sanity check to identify all the features present in the dataset and if the target matches with them.                                 \n",
    "   \n",
    "b. Print the description and shape of the dataset.\n",
    "    \n",
    "c. Provide appropriate visualization to get an insight about the dataset.\n",
    "    \n",
    "d. Try exploring the data and see what insights can be drawn from the dataset."
   ]
  },
  {
   "cell_type": "code",
   "execution_count": 2,
   "metadata": {
    "colab": {
     "base_uri": "https://localhost:8080/",
     "height": 206
    },
    "id": "RzPdmB-INNZM",
    "outputId": "75a4ee2d-9aab-4b1a-83f8-3adfd2d27d38"
   },
   "outputs": [
    {
     "data": {
      "text/html": [
       "<div>\n",
       "<style scoped>\n",
       "    .dataframe tbody tr th:only-of-type {\n",
       "        vertical-align: middle;\n",
       "    }\n",
       "\n",
       "    .dataframe tbody tr th {\n",
       "        vertical-align: top;\n",
       "    }\n",
       "\n",
       "    .dataframe thead th {\n",
       "        text-align: right;\n",
       "    }\n",
       "</style>\n",
       "<table border=\"1\" class=\"dataframe\">\n",
       "  <thead>\n",
       "    <tr style=\"text-align: right;\">\n",
       "      <th></th>\n",
       "      <th>LeafLength</th>\n",
       "      <th>LeafBreadth</th>\n",
       "      <th>ErrorLeafLength</th>\n",
       "      <th>ErrorLeafBreadth</th>\n",
       "      <th>LeafCurveAngle</th>\n",
       "      <th>EdgeCurvatureAngle</th>\n",
       "      <th>ErrorLeafCurvature</th>\n",
       "      <th>TreeLength</th>\n",
       "      <th>TreeType</th>\n",
       "    </tr>\n",
       "  </thead>\n",
       "  <tbody>\n",
       "    <tr>\n",
       "      <th>0</th>\n",
       "      <td>140.562500</td>\n",
       "      <td>55.683782</td>\n",
       "      <td>-0.234571</td>\n",
       "      <td>-0.699648</td>\n",
       "      <td>3.199833</td>\n",
       "      <td>19.110426</td>\n",
       "      <td>7.975532</td>\n",
       "      <td>74.242225</td>\n",
       "      <td>0</td>\n",
       "    </tr>\n",
       "    <tr>\n",
       "      <th>1</th>\n",
       "      <td>102.507812</td>\n",
       "      <td>58.882430</td>\n",
       "      <td>0.465318</td>\n",
       "      <td>-0.515088</td>\n",
       "      <td>1.677258</td>\n",
       "      <td>14.860146</td>\n",
       "      <td>10.576487</td>\n",
       "      <td>127.393580</td>\n",
       "      <td>0</td>\n",
       "    </tr>\n",
       "    <tr>\n",
       "      <th>2</th>\n",
       "      <td>103.015625</td>\n",
       "      <td>39.341649</td>\n",
       "      <td>0.323328</td>\n",
       "      <td>1.051164</td>\n",
       "      <td>3.121237</td>\n",
       "      <td>21.744669</td>\n",
       "      <td>7.735822</td>\n",
       "      <td>63.171909</td>\n",
       "      <td>0</td>\n",
       "    </tr>\n",
       "    <tr>\n",
       "      <th>3</th>\n",
       "      <td>136.750000</td>\n",
       "      <td>57.178449</td>\n",
       "      <td>-0.068415</td>\n",
       "      <td>-0.636238</td>\n",
       "      <td>3.642977</td>\n",
       "      <td>20.959280</td>\n",
       "      <td>6.896499</td>\n",
       "      <td>53.593661</td>\n",
       "      <td>0</td>\n",
       "    </tr>\n",
       "    <tr>\n",
       "      <th>4</th>\n",
       "      <td>88.726562</td>\n",
       "      <td>40.672225</td>\n",
       "      <td>0.600866</td>\n",
       "      <td>1.123492</td>\n",
       "      <td>1.178930</td>\n",
       "      <td>11.468720</td>\n",
       "      <td>14.269573</td>\n",
       "      <td>252.567306</td>\n",
       "      <td>0</td>\n",
       "    </tr>\n",
       "  </tbody>\n",
       "</table>\n",
       "</div>"
      ],
      "text/plain": [
       "   LeafLength  LeafBreadth  ErrorLeafLength  ErrorLeafBreadth  LeafCurveAngle  \\\n",
       "0  140.562500    55.683782        -0.234571         -0.699648        3.199833   \n",
       "1  102.507812    58.882430         0.465318         -0.515088        1.677258   \n",
       "2  103.015625    39.341649         0.323328          1.051164        3.121237   \n",
       "3  136.750000    57.178449        -0.068415         -0.636238        3.642977   \n",
       "4   88.726562    40.672225         0.600866          1.123492        1.178930   \n",
       "\n",
       "   EdgeCurvatureAngle  ErrorLeafCurvature  TreeLength  TreeType  \n",
       "0           19.110426            7.975532   74.242225         0  \n",
       "1           14.860146           10.576487  127.393580         0  \n",
       "2           21.744669            7.735822   63.171909         0  \n",
       "3           20.959280            6.896499   53.593661         0  \n",
       "4           11.468720           14.269573  252.567306         0  "
      ]
     },
     "execution_count": 2,
     "metadata": {},
     "output_type": "execute_result"
    }
   ],
   "source": [
    "# Print first 5 rows to identify all the features present in the dataset\n",
    "df.head()"
   ]
  },
  {
   "cell_type": "code",
   "execution_count": 3,
   "metadata": {
    "colab": {
     "base_uri": "https://localhost:8080/"
    },
    "id": "kI1NhWoJPrCF",
    "outputId": "5dc3abd4-a8ae-4acc-df2f-d0b3ebccd324"
   },
   "outputs": [
    {
     "name": "stdout",
     "output_type": "stream",
     "text": [
      "         LeafLength   LeafBreadth  ErrorLeafLength  ErrorLeafBreadth  \\\n",
      "count  17898.000000  17898.000000     17898.000000      17898.000000   \n",
      "mean     111.079968     46.549532         0.477857          1.770279   \n",
      "std       25.652935      6.843189         1.064040          6.167913   \n",
      "min        5.812500     24.772042        -1.876011         -1.791886   \n",
      "25%      100.929688     42.376018         0.027098         -0.188572   \n",
      "50%      115.078125     46.947479         0.223240          0.198710   \n",
      "75%      127.085938     51.023202         0.473325          0.927783   \n",
      "max      192.617188     98.778911         8.069522         68.101622   \n",
      "\n",
      "       LeafCurveAngle  EdgeCurvatureAngle  ErrorLeafCurvature    TreeLength  \\\n",
      "count    17898.000000        17898.000000        17898.000000  17898.000000   \n",
      "mean        12.614400           26.326515            8.303556    104.857709   \n",
      "std         29.472897           19.470572            4.506092    106.514540   \n",
      "min          0.213211            7.370432           -3.139270     -1.976976   \n",
      "25%          1.923077           14.437332            5.781506     34.960504   \n",
      "50%          2.801839           18.461316            8.433515     83.064556   \n",
      "75%          5.464256           28.428104           10.702959    139.309330   \n",
      "max        223.392141          110.642211           34.539844   1191.000837   \n",
      "\n",
      "           TreeType  \n",
      "count  17898.000000  \n",
      "mean       0.091574  \n",
      "std        0.288432  \n",
      "min        0.000000  \n",
      "25%        0.000000  \n",
      "50%        0.000000  \n",
      "75%        0.000000  \n",
      "max        1.000000  \n"
     ]
    },
    {
     "data": {
      "text/plain": [
       "(17898, 9)"
      ]
     },
     "execution_count": 3,
     "metadata": {},
     "output_type": "execute_result"
    }
   ],
   "source": [
    "# Description and shape of the dataset\n",
    "print(df.describe())\n",
    "df.shape"
   ]
  },
  {
   "cell_type": "code",
   "execution_count": 4,
   "metadata": {
    "colab": {
     "base_uri": "https://localhost:8080/",
     "height": 472
    },
    "id": "T1ckMHSbTRny",
    "outputId": "711adb12-c1d8-458b-97a2-60823857035f"
   },
   "outputs": [
    {
     "data": {
      "image/png": "[encoded data removed]",
      "text/plain": [
       "<Figure size 640x480 with 1 Axes>"
      ]
     },
     "metadata": {},
     "output_type": "display_data"
    }
   ],
   "source": [
    "# Visualization to get an insight about the dataset\n",
    "\n",
    "# Count Plot to visualize distribution of each class in the dataset.\n",
    "import seaborn as sns\n",
    "import matplotlib.pyplot as plt\n",
    "\n",
    "sns.countplot(x='TreeType', data=df)\n",
    "plt.title('Distribution of Flower Classes')\n",
    "plt.show()"
   ]
  },
  {
   "cell_type": "code",
   "execution_count": null,
   "metadata": {
    "colab": {
     "base_uri": "https://localhost:8080/",
     "height": 1000
    },
    "id": "9q-YNh6DT1hb",
    "outputId": "e77ba450-20a6-4621-d7b3-8147e9ccc921"
   },
   "outputs": [],
   "source": [
    "# Pair Plot to visualize relationships between multiple features\n",
    "sns.pairplot(df, hue='TreeType')\n",
    "plt.title('Pair Plot of Features')\n",
    "plt.show()"
   ]
  },
  {
   "cell_type": "code",
   "execution_count": null,
   "metadata": {
    "colab": {
     "base_uri": "https://localhost:8080/",
     "height": 582
    },
    "id": "pSlZrCRnVGpd",
    "outputId": "3f1d41c4-e048-4e39-ae79-8d50d76571b2"
   },
   "outputs": [],
   "source": [
    "# Correlation Heatmap to visualize the relationships between these features.\n",
    "correlation_matrix = df.corr()\n",
    "sns.heatmap(correlation_matrix, annot=True, cmap='coolwarm')\n",
    "plt.title('Correlation Heatmap')\n",
    "plt.show()"
   ]
  },
  {
   "cell_type": "code",
   "execution_count": null,
   "metadata": {
    "colab": {
     "base_uri": "https://localhost:8080/"
    },
    "id": "l6tSPfGaYR6x",
    "outputId": "2a6be67b-3fca-4166-aa6b-4c62af30665b"
   },
   "outputs": [],
   "source": [
    "# Data Exploration\n",
    "\n",
    "# Display column headings\n",
    "print(df.columns)\n",
    "\n",
    "# Data types and non-null counts\n",
    "df.info()"
   ]
  },
  {
   "cell_type": "code",
   "execution_count": null,
   "metadata": {
    "colab": {
     "base_uri": "https://localhost:8080/",
     "height": 607
    },
    "id": "M0ghS1BdY4B_",
    "outputId": "71e5bea1-a97a-4b55-deba-4c9e6f678985"
   },
   "outputs": [],
   "source": [
    "# Feature vs. Target Analysis (Box plots)\n",
    "plt.figure(figsize=(12, 6))\n",
    "for i, feature in enumerate(['LeafLength', 'LeafBreadth', 'ErrorLeafLength', 'ErrorLeafBreadth', 'LeafCurveAngle', 'EdgeCurvatureAngle', 'ErrorLeafCurvature', 'TreeLength']):\n",
    "    plt.subplot(2, 4, i+1)\n",
    "    sns.boxplot(x='TreeType', y=feature, data=df)\n",
    "    plt.title(f'{feature} vs. TreeType')\n",
    "plt.tight_layout()\n",
    "plt.show()"
   ]
  },
  {
   "cell_type": "markdown",
   "metadata": {
    "id": "f4Eflv27JVsB"
   },
   "source": [
    "We are able to visualize how the distribution of each feature varies across different classes of the target variable by performing a Feature vs. Target Analysis using box plots. This analysis provides insights into the relationship between individual features and the target, which can help us understand features which are potentially significant for predicting the target classes. This gives us insights on Outliers and Variability, Feature importance, Skewness, Potential Data imbalance."
   ]
  },
  {
   "cell_type": "markdown",
   "metadata": {
    "id": "-oEGd6lgLKD_"
   },
   "source": [
    "# 3. Data Pre-processing and cleaning\n",
    "\n",
    "a. Do the appropriate preprocessing of the data like identifying NULL or Missing Values if any, handling of outliers if present in the dataset, skewed data etc. Apply appropriate feature engineering techniques for them.\n",
    "    \n",
    "b. Apply the feature transformation techniques like Standardization, Normalization, etc. You are free to apply the appropriate transformations depending upon the structure and the complexity of your dataset. [Done in 4(b)]\n",
    "    \n",
    "c. Do the correlational analysis on the dataset. Provide a visualization for the same."
   ]
  },
  {
   "cell_type": "code",
   "execution_count": null,
   "metadata": {
    "colab": {
     "base_uri": "https://localhost:8080/"
    },
    "id": "LdHhqmC8Z8P9",
    "outputId": "9d56d7bb-1dc4-4fbd-eb80-5def69a19067"
   },
   "outputs": [],
   "source": [
    "# Check for duplicate data\n",
    "duplicate_data = df[df.duplicated()]\n",
    "if duplicate_data.empty:\n",
    "    print('No duplicate data found')\n",
    "else:\n",
    "    print('Duplicate data:\\n', duplicate_data)"
   ]
  },
  {
   "cell_type": "code",
   "execution_count": null,
   "metadata": {
    "colab": {
     "base_uri": "https://localhost:8080/"
    },
    "id": "it_8G-QgIMB5",
    "outputId": "4e0d7d81-fe37-4e86-a54b-0917f94e18ef"
   },
   "outputs": [],
   "source": [
    "# Check for missing data\n",
    "missing_data = df.isnull().sum().sum()\n",
    "if missing_data == 0:\n",
    "    print('No missing data found')\n",
    "else:\n",
    "    print('Missing data count:', missing_data)"
   ]
  },
  {
   "cell_type": "code",
   "execution_count": null,
   "metadata": {
    "id": "_JpzpVRlR0sR"
   },
   "outputs": [],
   "source": [
    "# Columns to check for Outliers\n",
    "numeric_columns = ['LeafLength', 'LeafBreadth', 'ErrorLeafLength', 'ErrorLeafBreadth', 'LeafCurveAngle', 'EdgeCurvatureAngle', 'ErrorLeafCurvature', 'TreeLength']"
   ]
  },
  {
   "cell_type": "code",
   "execution_count": null,
   "metadata": {
    "colab": {
     "base_uri": "https://localhost:8080/"
    },
    "id": "3iSTA-v9R8jS",
    "outputId": "003c33a8-ba1b-4be1-ebef-2c5d9852bc2c"
   },
   "outputs": [],
   "source": [
    "# Use the Interquartile Range (IQR) method to find outliers\n",
    "def find_outliers_iqr(data, column, multiplier=1.5):\n",
    "    Q1 = data[column].quantile(0.25)\n",
    "    Q3 = data[column].quantile(0.75)\n",
    "    IQR = Q3 - Q1\n",
    "    lower_bound = Q1 - multiplier * IQR\n",
    "    upper_bound = Q3 + multiplier * IQR\n",
    "    outliers = data[(data[column] < lower_bound) | (data[column] > upper_bound)]\n",
    "    return outliers\n",
    "\n",
    "# Finding outliers for each numeric column\n",
    "outliers_dict = {}\n",
    "for col in numeric_columns:\n",
    "    outliers_dict[col] = find_outliers_iqr(df, col)\n",
    "\n",
    "# Print the outliers for each column\n",
    "for col, outliers in outliers_dict.items():\n",
    "    if outliers.empty:\n",
    "        print(f\"No outliers found in {col}.\")\n",
    "    else:\n",
    "        print(f\"Outliers in {col}:\")\n",
    "        print(outliers)"
   ]
  },
  {
   "cell_type": "code",
   "execution_count": null,
   "metadata": {
    "colab": {
     "base_uri": "https://localhost:8080/",
     "height": 806
    },
    "id": "l50TaJmdVJyO",
    "outputId": "a91b2139-c74c-40e2-f054-3f275479b526"
   },
   "outputs": [],
   "source": [
    "# Use box plots to visualize potential outliers\n",
    "plt.figure(figsize=(12, 8))\n",
    "for i, col in enumerate(numeric_columns):\n",
    "    plt.subplot(2, 4, i+1)\n",
    "    sns.boxplot(data=df, x=col)\n",
    "    plt.title(f'Box Plot for {col}')\n",
    "plt.suptitle('Box Plot Before Handling Outliers', fontsize=16)\n",
    "plt.tight_layout()\n",
    "plt.show()"
   ]
  },
  {
   "cell_type": "code",
   "execution_count": null,
   "metadata": {
    "id": "m0wN0An6T0Ba"
   },
   "outputs": [],
   "source": [
    "# Handle outliers using feature engineering techniques\n",
    "def handle_outliers(data, column):\n",
    "    Q1 = data[column].quantile(0.25)\n",
    "    Q3 = data[column].quantile(0.75)\n",
    "    IQR = Q3 - Q1\n",
    "    lower_bound = Q1 - 1.5 * IQR\n",
    "    upper_bound = Q3 + 1.5 * IQR\n",
    "\n",
    "    # Reduce impact of extreme values using winsorize method\n",
    "    threshold = 0.05\n",
    "    data[column] = np.where(data[column] < data[column].quantile(threshold), data[column].quantile(threshold), data[column])\n",
    "    data[column] = np.where(data[column] > data[column].quantile(1 - threshold), data[column].quantile(1 - threshold), data[column])\n",
    "    return data\n",
    "\n",
    "# Apply outlier handling for each column\n",
    "for col in numeric_columns:\n",
    "    df = handle_outliers(df, col)"
   ]
  },
  {
   "cell_type": "code",
   "execution_count": null,
   "metadata": {
    "colab": {
     "base_uri": "https://localhost:8080/",
     "height": 806
    },
    "id": "oYyAcOvnSC7a",
    "outputId": "a4fb56f1-bfed-455a-df0b-021678505be5"
   },
   "outputs": [],
   "source": [
    "# Visualize the distributions after handling outliers\n",
    "plt.figure(figsize=(12, 8))\n",
    "for i, col in enumerate(numeric_columns):\n",
    "    plt.subplot(2, 4, i+1)\n",
    "    sns.boxplot(data=df, x=col)\n",
    "    plt.title(f'Box Plot for {col}')\n",
    "plt.suptitle('Box Plot After Handling Outliers', fontsize=16)\n",
    "plt.tight_layout()\n",
    "plt.show()"
   ]
  },
  {
   "cell_type": "code",
   "execution_count": null,
   "metadata": {
    "colab": {
     "base_uri": "https://localhost:8080/",
     "height": 805
    },
    "id": "4Nj2zmvOGP_B",
    "outputId": "0cf2c372-16b0-43d8-e2f7-93467c404088"
   },
   "outputs": [],
   "source": [
    "# Calculate skewness for each numeric column\n",
    "skewness = df[numeric_columns].skew()\n",
    "\n",
    "# Visualize the distributions of numeric columns\n",
    "plt.figure(figsize=(12, 8))\n",
    "for i, col in enumerate(numeric_columns):\n",
    "    plt.subplot(2, 4, i+1)\n",
    "    sns.histplot(data=df, x=col, kde=True)\n",
    "    plt.title(f'{col}\\nSkewness: {skewness[col]:.2f}')\n",
    "plt.suptitle('Histogram Before Handling Skewness', fontsize=16)\n",
    "plt.tight_layout()\n",
    "plt.show()"
   ]
  },
  {
   "cell_type": "code",
   "execution_count": null,
   "metadata": {
    "id": "Engbd1ifHnIO"
   },
   "outputs": [],
   "source": [
    "# Handle skewness using log feature transformation\n",
    "def handle_skewness(data, column):\n",
    "    data[column] = np.log1p(data[column])\n",
    "    return data\n",
    "\n",
    "skew_columns=['ErrorLeafLength', 'ErrorLeafBreadth', 'LeafCurveAngle', 'EdgeCurvatureAngle']\n",
    "# Apply skewness handling for each column\n",
    "for col in skew_columns:\n",
    "    df = handle_skewness(df, col)"
   ]
  },
  {
   "cell_type": "code",
   "execution_count": null,
   "metadata": {
    "colab": {
     "base_uri": "https://localhost:8080/",
     "height": 805
    },
    "id": "FS3zidiKID-3",
    "outputId": "f2aec960-66b7-4688-e02a-278dbe397d36"
   },
   "outputs": [],
   "source": [
    "# Visualize the distributions after handling skewness\n",
    "plt.figure(figsize=(12, 8))\n",
    "for i, col in enumerate(numeric_columns):\n",
    "    plt.subplot(2, 4, i+1)\n",
    "    sns.histplot(data=df, x=col, kde=True)\n",
    "    plt.title(f'{col}\\nSkewness: {df[col].skew():.2f}')\n",
    "plt.suptitle('Histogram After Handling Skewness', fontsize=16)\n",
    "plt.tight_layout()\n",
    "plt.show()"
   ]
  },
  {
   "cell_type": "code",
   "execution_count": null,
   "metadata": {
    "colab": {
     "base_uri": "https://localhost:8080/",
     "height": 828
    },
    "id": "dFLvTYPTsO9j",
    "outputId": "b05b7831-9466-4a47-d7d0-672c116fa293"
   },
   "outputs": [],
   "source": [
    "# Correlational analysis on the dataset\n",
    "\n",
    "# Compute the correlation matrix\n",
    "correlation_matrix = df.corr()\n",
    "\n",
    "# Create a heatmap for visualization\n",
    "plt.figure(figsize=(10, 8))\n",
    "sns.heatmap(correlation_matrix, annot=True, cmap='coolwarm', fmt=\".2f\", linewidths=0.5)\n",
    "plt.title('Correlation Heatmap')\n",
    "plt.show()"
   ]
  },
  {
   "cell_type": "markdown",
   "metadata": {
    "id": "rMAofh0ztLza"
   },
   "source": [
    "# 4. Data Preparation\n",
    "\n",
    "a. Do the final feature selection and extract them into Column X and the class label into Column into Y.\n",
    "\n",
    "b. Split the dataset into training and test sets."
   ]
  },
  {
   "cell_type": "code",
   "execution_count": null,
   "metadata": {
    "colab": {
     "base_uri": "https://localhost:8080/"
    },
    "id": "K1Yg6Yt7s88Q",
    "outputId": "4f7c6e1a-5009-4272-be09-c021b8bd391b"
   },
   "outputs": [],
   "source": [
    "# Final Feature Selection\n",
    "\n",
    "# Correlation-based feature selection\n",
    "correlation_threshold = 0.5\n",
    "\n",
    "# Correlation matrix Calculation\n",
    "correlation_matrix = df.corr()\n",
    "\n",
    "# Features that have high correlation with the target ('TreeType')\n",
    "target_correlations = correlation_matrix['TreeType'].abs().sort_values(ascending=False)\n",
    "selected_features = target_correlations[target_correlations >= correlation_threshold].index.tolist()\n",
    "selected_features.remove('TreeType')\n",
    "\n",
    "# Removing features with low variance\n",
    "variance_threshold = 0\n",
    "\n",
    "# Initializing the VarianceThreshold object\n",
    "variance_selector = VarianceThreshold(threshold=variance_threshold)\n",
    "\n",
    "# Fit and transform the data to remove low-variance features\n",
    "X_high_variance = variance_selector.fit_transform(df[selected_features])\n",
    "\n",
    "# Get the selected feature names after variance thresholding\n",
    "selected_features = [feature for idx, feature in enumerate(selected_features) if variance_selector.get_support()[idx]]\n",
    "\n",
    "# Extract selected features into 'X' and the target class label into 'Y'\n",
    "X = df[selected_features]\n",
    "Y = df['TreeType']\n",
    "\n",
    "# Display the list of selected features\n",
    "print(\"Selected Features:\", selected_features)"
   ]
  },
  {
   "cell_type": "code",
   "execution_count": null,
   "metadata": {
    "colab": {
     "base_uri": "https://localhost:8080/"
    },
    "id": "k0flGX6Tv_IM",
    "outputId": "82b54cfe-6290-4688-a816-b2fb664087be"
   },
   "outputs": [],
   "source": [
    "# Split the dataset into 80% training and 20% test set\n",
    "X_train, X_test, Y_train, Y_test = train_test_split(X, Y, test_size=0.2, random_state=42)\n",
    "\n",
    "# Applying the feature transformation techniques like Standardization, Normalization\n",
    "\n",
    "# Applying Standardization (Z-score normalization)\n",
    "scaler = StandardScaler()\n",
    "X_train = scaler.fit_transform(X_train)\n",
    "X_test = scaler.fit_transform(X_test)\n",
    "\n",
    "# Applying Min-Max Normalization and defining the range\n",
    "min_max_scaler = MinMaxScaler(feature_range=(0, 1))\n",
    "X_train = min_max_scaler.fit_transform(X_train)\n",
    "X_test = min_max_scaler.fit_transform(X_test)\n",
    "\n",
    "# Verifying the shape of the datasets\n",
    "print(\"X_train shape:\", X_train.shape)\n",
    "print(\"X_test shape:\", X_test.shape)\n",
    "print(\"Y_train shape:\", Y_train.shape)\n",
    "print(\"Y_test shape:\", Y_test.shape)"
   ]
  },
  {
   "cell_type": "markdown",
   "metadata": {
    "id": "sSnnZG4Zfvyu"
   },
   "source": [
    "# **PART B**"
   ]
  },
  {
   "cell_type": "markdown",
   "metadata": {
    "id": "hdgAhk0lf3mZ"
   },
   "source": [
    "# 1. Model Building\n",
    "    \n",
    "a. Perform Model Development using at least three models, separately. You are free to apply any Machine Learning Models on the dataset. Deep Learning Models are strictly not allowed.\n",
    "\n",
    "b. Train the model and print the training accuracy and loss values."
   ]
  },
  {
   "cell_type": "code",
   "execution_count": null,
   "metadata": {
    "id": "WI_2qMz91Rec"
   },
   "outputs": [],
   "source": [
    "# Model Development and Training\n",
    "\n",
    "# Logistic Regression\n",
    "logreg_model = LogisticRegression()\n",
    "logreg_model.fit(X_train, Y_train)\n",
    "Y_pred_logreg = logreg_model.predict(X_test)\n",
    "accuracy_logreg = accuracy_score(Y_test, Y_pred_logreg)\n",
    "loss_logreg = log_loss(Y_test, logreg_model.predict_proba(X_test))\n",
    "\n",
    "# Random Forest\n",
    "rf_model = RandomForestClassifier()\n",
    "rf_model.fit(X_train, Y_train)\n",
    "Y_pred_rf = rf_model.predict(X_test)\n",
    "accuracy_rf = accuracy_score(Y_test, Y_pred_rf)\n",
    "loss_rf = log_loss(Y_test, rf_model.predict_proba(X_test))\n",
    "\n",
    "# Support Vector Machine (SVM)\n",
    "svm_model = SVC(probability=True)\n",
    "svm_model.fit(X_train, Y_train)\n",
    "Y_pred_svm = svm_model.predict(X_test)\n",
    "accuracy_svm = accuracy_score(Y_test, Y_pred_svm)\n",
    "loss_svm = log_loss(Y_test, svm_model.predict_proba(X_test))"
   ]
  },
  {
   "cell_type": "code",
   "execution_count": null,
   "metadata": {
    "colab": {
     "base_uri": "https://localhost:8080/"
    },
    "id": "HyVPFyQekDNo",
    "outputId": "f526a64e-be04-446e-b2b3-7040d9a52113"
   },
   "outputs": [],
   "source": [
    "# Printing the training accuracy and loss values for each model\n",
    "print(\"Model 1: Logistic Regression\")\n",
    "print(\"Training Accuracy:\", accuracy_logreg)\n",
    "print(\"Training Log Loss:\", loss_logreg)\n",
    "print()\n",
    "\n",
    "print(\"Model 2: Random Forest\")\n",
    "print(\"Training Accuracy:\", accuracy_rf)\n",
    "print(\"Training Log Loss:\", loss_rf)\n",
    "print()\n",
    "\n",
    "print(\"Model 3: Support Vector Machine (SVM)\")\n",
    "print(\"Training Accuracy:\", accuracy_svm)\n",
    "print(\"Training Log Loss:\", loss_svm)\n",
    "print()\n"
   ]
  },
  {
   "cell_type": "markdown",
   "metadata": {
    "id": "tWHLu2gbE_WG"
   },
   "source": [
    "# 2. Performance Evaluation\n",
    "\n",
    "a. Print the confusion matrix. Provide appropriate analysis for the same.\n",
    "\n",
    "b. Do the prediction for the test data and display the results for the inference.\n"
   ]
  },
  {
   "cell_type": "code",
   "execution_count": null,
   "metadata": {
    "colab": {
     "base_uri": "https://localhost:8080/"
    },
    "id": "f9385DcTFI_i",
    "outputId": "eef41505-d187-43a2-aa1e-36384eaf47af"
   },
   "outputs": [],
   "source": [
    "# Printing the confusion matrix and analysis\n",
    "def print_confusion_matrix(model, X_test, Y_test):\n",
    "    Y_pred = model.predict(X_test)\n",
    "    cm = confusion_matrix(Y_test, Y_pred)\n",
    "    print(\"Confusion Matrix:\")\n",
    "    print(cm)\n",
    "    print()\n",
    "\n",
    "    print(\"Classification Report:\")\n",
    "    print(classification_report(Y_test, Y_pred))\n",
    "    print()\n",
    "\n",
    "print(\"Model 1: Logistic Regression\")\n",
    "print_confusion_matrix(logreg_model, X_test, Y_test)\n",
    "\n",
    "print(\"Model 2: Random Forest\")\n",
    "print_confusion_matrix(rf_model, X_test, Y_test)\n",
    "\n",
    "print(\"Model 3: Support Vector Machine (SVM)\")\n",
    "print_confusion_matrix(svm_model, X_test, Y_test)"
   ]
  },
  {
   "cell_type": "code",
   "execution_count": null,
   "metadata": {
    "colab": {
     "base_uri": "https://localhost:8080/"
    },
    "id": "T80UCZpzF2Qb",
    "outputId": "c45aa4a2-32eb-454d-ac75-7991326d43da"
   },
   "outputs": [],
   "source": [
    " # Perform predictions on the test data and display the results\n",
    "def perform_inference(model, data):\n",
    "    inference_results = model.predict(data)\n",
    "    return inference_results\n",
    "\n",
    "inference_results = perform_inference(logreg_model, X_test)\n",
    "\n",
    "print(\"Inference Results:\")\n",
    "print(inference_results)\n"
   ]
  }
 ],
 "metadata": {
  "colab": {
   "provenance": []
  },
  "kernelspec": {
   "display_name": "Python 3 (ipykernel)",
   "language": "python",
   "name": "python3"
  },
  "language_info": {
   "codemirror_mode": {
    "name": "ipython",
    "version": 3
   },
   "file_extension": ".py",
   "mimetype": "text/x-python",
   "name": "python",
   "nbconvert_exporter": "python",
   "pygments_lexer": "ipython3",
   "version": "3.9.13"
  }
 },
 "nbformat": 4,
 "nbformat_minor": 1
}
