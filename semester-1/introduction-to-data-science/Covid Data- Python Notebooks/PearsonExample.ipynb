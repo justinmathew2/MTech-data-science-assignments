{
 "cells": [
  {
   "cell_type": "code",
   "execution_count": 1,
   "id": "b019d93b",
   "metadata": {},
   "outputs": [],
   "source": [
    "# Compute the Pearson Correlation \n",
    "import pandas as pd\n",
    "from scipy.stats import pearsonr"
   ]
  },
  {
   "cell_type": "code",
   "execution_count": 2,
   "id": "d5124396",
   "metadata": {},
   "outputs": [],
   "source": [
    "# Convert dataframe into series\n",
    "list1 = [40,21,25,31,38,47]\n",
    "list2 = [78,70,60,55,80,66]"
   ]
  },
  {
   "cell_type": "code",
   "execution_count": 3,
   "id": "a988bd3f",
   "metadata": {},
   "outputs": [
    {
     "name": "stdout",
     "output_type": "stream",
     "text": [
      "Pearson correlation: 0.347\n"
     ]
    }
   ],
   "source": [
    "# Apply the pearsonr()\n",
    "corr, _ = pearsonr(list1, list2)\n",
    "print('Pearson correlation: %.3f' % corr)"
   ]
  },
  {
   "cell_type": "markdown",
   "id": "a3ac30f0",
   "metadata": {},
   "source": [
    "Pearson correlation: 0.347 (Moderate Positive correlation)\n",
    "Interpretaton:\n",
    "As the Age increases, Weight increases "
   ]
  },
  {
   "cell_type": "code",
   "execution_count": 4,
   "id": "6303ef81",
   "metadata": {},
   "outputs": [
    {
     "name": "stdout",
     "output_type": "stream",
     "text": [
      "Pearson correlation: 0.904\n"
     ]
    }
   ],
   "source": [
    "# Convert dataframe into series\n",
    "list1 = [20,10,23,5]\n",
    "list2 = [30,5,29,10]\n",
    "corr, _ = pearsonr(list1, list2)\n",
    "print('Pearson correlation: %.3f' % corr)"
   ]
  },
  {
   "cell_type": "code",
   "execution_count": null,
   "id": "60758744",
   "metadata": {},
   "outputs": [],
   "source": []
  }
 ],
 "metadata": {
  "jupytext": {
   "cell_metadata_filter": "-all",
   "main_language": "python",
   "notebook_metadata_filter": "-all"
  },
  "kernelspec": {
   "display_name": "Python 3",
   "language": "python",
   "name": "python3"
  },
  "language_info": {
   "codemirror_mode": {
    "name": "ipython",
    "version": 3
   },
   "file_extension": ".py",
   "mimetype": "text/x-python",
   "name": "python",
   "nbconvert_exporter": "python",
   "pygments_lexer": "ipython3",
   "version": "3.7.3"
  }
 },
 "nbformat": 4,
 "nbformat_minor": 5
}
