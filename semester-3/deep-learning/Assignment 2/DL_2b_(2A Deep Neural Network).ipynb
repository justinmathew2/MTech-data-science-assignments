{
 "cells": [
  {
   "cell_type": "markdown",
   "metadata": {
    "id": "YbWR5gDk3NAH"
   },
   "source": [
    "# Exercise\n",
    "\n",
    "Modify the code to get a better testing accuracy.\n",
    "- Change the number of hidden units\n",
    "- Increase the number of hidden layers\n",
    "- Use a different optimizer"
   ]
  },
  {
   "cell_type": "markdown",
   "metadata": {
    "id": "s8_UkSWx3M_5"
   },
   "source": [
    "# Deep Neural Network using Keras"
   ]
  },
  {
   "cell_type": "code",
   "execution_count": null,
   "metadata": {
    "colab": {
     "base_uri": "https://localhost:8080/"
    },
    "executionInfo": {
     "elapsed": 724,
     "status": "ok",
     "timestamp": 1709364835073,
     "user": {
      "displayName": "KAJA SAI MANOJ",
      "userId": "14700601486028732329"
     },
     "user_tz": -330
    },
    "id": "qkSYpJxa3M_7",
    "outputId": "c899333e-425b-4e2c-d5af-8daf5f34b74c"
   },
   "outputs": [
    {
     "name": "stdout",
     "output_type": "stream",
     "text": [
      "2.15.0\n"
     ]
    }
   ],
   "source": [
    "import tensorflow as tf\n",
    "\n",
    "from tensorflow.keras import models\n",
    "from tensorflow.keras import layers\n",
    "from tensorflow.keras.optimizers import Adam  # Importing Adam optimizer\n",
    "\n",
    "import random\n",
    "import numpy as np"
   ]
  },
  {
   "cell_type": "code",
   "execution_count": null,
   "metadata": {
    "id": "f8f28Vy33M_9"
   },
   "outputs": [],
   "source": [
    "random.seed(42)         # Initialize the random number generator.\n",
    "np.random.seed(42)      # With the seed reset, the same set of\n",
    "                        # numbers will appear every time.\n",
    "#tf.set_random_seed(42)  # sets the graph-level random seed"
   ]
  },
  {
   "cell_type": "markdown",
   "metadata": {
    "id": "FkRfNEEf3M_-"
   },
   "source": [
    "## Dataset"
   ]
  },
  {
   "cell_type": "code",
   "execution_count": null,
   "metadata": {
    "id": "KolqiXAr3M_-"
   },
   "outputs": [],
   "source": [
    "# Use the MNIST dataset  of Keras.\n",
    "\n",
    "mnist = tf.keras.datasets.mnist\n",
    "\n",
    "(Xtrain, Ytrain) , (Xtest, Ytest) = mnist.load_data()"
   ]
  },
  {
   "cell_type": "code",
   "execution_count": null,
   "metadata": {
    "colab": {
     "base_uri": "https://localhost:8080/",
     "height": 277
    },
    "executionInfo": {
     "elapsed": 1009,
     "status": "ok",
     "timestamp": 1709364836808,
     "user": {
      "displayName": "KAJA SAI MANOJ",
      "userId": "14700601486028732329"
     },
     "user_tz": -330
    },
    "id": "N918eAj63M__",
    "outputId": "8ac04cc4-6fcd-4039-ace2-b88970018fba"
   },
   "outputs": [
    {
     "data": {
      "text/plain": [
       "Text(0.5, 1.0, 'Ground Truth (Test): 7')"
      ]
     },
     "execution_count": 49,
     "metadata": {},
     "output_type": "execute_result"
    },
    {
     "data": {
      "image/png": "[encoded data removed]",
      "text/plain": [
       "<Figure size 500x500 with 2 Axes>"
      ]
     },
     "metadata": {},
     "output_type": "display_data"
    }
   ],
   "source": [
    "import matplotlib.pyplot as plt\n",
    "\n",
    "plt.figure(figsize=[5,5])\n",
    "\n",
    "# Display the first image in training data\n",
    "plt.subplot(121)\n",
    "plt.imshow(Xtrain[0,:,:], cmap='gray')\n",
    "plt.title(\"Ground Truth (Train) : {}\".format(Ytrain[0]))\n",
    "\n",
    "# Display the first image in testing data\n",
    "plt.subplot(122)\n",
    "plt.imshow(Xtest[0,:,:], cmap='gray')\n",
    "plt.title(\"Ground Truth (Test): {}\".format(Ytest[0]))"
   ]
  },
  {
   "cell_type": "code",
   "execution_count": null,
   "metadata": {
    "colab": {
     "base_uri": "https://localhost:8080/"
    },
    "executionInfo": {
     "elapsed": 41,
     "status": "ok",
     "timestamp": 1709364836808,
     "user": {
      "displayName": "KAJA SAI MANOJ",
      "userId": "14700601486028732329"
     },
     "user_tz": -330
    },
    "id": "xMf6t4Rx3M__",
    "outputId": "50c7ed83-2373-482c-a834-4c666eb9378f"
   },
   "outputs": [
    {
     "name": "stdout",
     "output_type": "stream",
     "text": [
      "(60000, 28, 28)\n",
      "(10000, 28, 28)\n",
      "(60000,)\n",
      "(10000,)\n"
     ]
    }
   ],
   "source": [
    "# size of the datsets\n",
    "\n",
    "print(Xtrain.shape)\n",
    "print(Xtest.shape)\n",
    "print(Ytrain.shape)\n",
    "print(Ytest.shape)"
   ]
  },
  {
   "cell_type": "code",
   "execution_count": null,
   "metadata": {
    "colab": {
     "base_uri": "https://localhost:8080/"
    },
    "executionInfo": {
     "elapsed": 40,
     "status": "ok",
     "timestamp": 1709364836809,
     "user": {
      "displayName": "KAJA SAI MANOJ",
      "userId": "14700601486028732329"
     },
     "user_tz": -330
    },
    "id": "f0nv7xVk3M__",
    "outputId": "3965564c-db96-4623-c9c6-2812633b4815"
   },
   "outputs": [
    {
     "name": "stdout",
     "output_type": "stream",
     "text": [
      "Xtrain \n",
      " [  0   0   0   0   0   0   0   0   0   0   0   0   0  24 209 254 254 254\n",
      " 171   0   0   0   0   0   0   0   0   0]\n",
      "Xtest \n",
      " [  0   0   0   0   0   0   0   0 194 254 103   0   0   0   0   0   0   0\n",
      "   0   0 150 254 213   0   0   0   0   0]\n",
      "Ytrain \n",
      " 3\n",
      "Ytest \n",
      " 0\n"
     ]
    }
   ],
   "source": [
    "# print a sample data\n",
    "\n",
    "print('Xtrain \\n', Xtrain[10,10])\n",
    "print('Xtest \\n', Xtest[10,10])\n",
    "print('Ytrain \\n', Ytrain[10,])\n",
    "print('Ytest \\n', Ytest[10,])"
   ]
  },
  {
   "cell_type": "code",
   "execution_count": null,
   "metadata": {
    "id": "QLQ_L5kS3NAA"
   },
   "outputs": [],
   "source": [
    "# Normalize the data\n",
    "# 60000 input images are in the train set.\n",
    "# 10000 input images are in the test set.\n",
    "\n",
    "Xtrain = Xtrain.reshape((60000, 28*28))    # reshape the input set to size 28*28.\n",
    "Xtrain = Xtrain.astype('float32')/255      # normalize to grayscale; set datatype as float32\n",
    "\n",
    "Xtest = Xtest.reshape((10000, 28*28))      # reshape the input set to size 28*28.\n",
    "Xtest = Xtest.astype('float32')/255        # normalize to grayscale; set datatype as float32\n",
    "\n",
    "Ytrain = tf.keras.utils.to_categorical(Ytrain)\n",
    "Ytest = tf.keras.utils.to_categorical(Ytest)"
   ]
  },
  {
   "cell_type": "code",
   "execution_count": null,
   "metadata": {
    "colab": {
     "base_uri": "https://localhost:8080/"
    },
    "executionInfo": {
     "elapsed": 37,
     "status": "ok",
     "timestamp": 1709364836809,
     "user": {
      "displayName": "KAJA SAI MANOJ",
      "userId": "14700601486028732329"
     },
     "user_tz": -330
    },
    "id": "YZq8Lvig3NAA",
    "outputId": "c7385638-46f0-447a-fd85-4a8782d555ae"
   },
   "outputs": [
    {
     "name": "stdout",
     "output_type": "stream",
     "text": [
      "Xtrain \n",
      " 0.0\n",
      "Xtest \n",
      " 0.0\n",
      "Ytrain \n",
      " [0. 0. 0. 1. 0. 0. 0. 0. 0. 0.]\n",
      "Ytest \n",
      " [1. 0. 0. 0. 0. 0. 0. 0. 0. 0.]\n"
     ]
    }
   ],
   "source": [
    "# print a sample data\n",
    "\n",
    "print('Xtrain \\n', Xtrain[10,10])\n",
    "print('Xtest \\n', Xtest[10,10])\n",
    "print('Ytrain \\n', Ytrain[10,])\n",
    "print('Ytest \\n', Ytest[10,])"
   ]
  },
  {
   "cell_type": "markdown",
   "metadata": {
    "id": "xYtnvtl-3NAB"
   },
   "source": [
    "## DNN Model"
   ]
  },
  {
   "cell_type": "markdown",
   "metadata": {
    "id": "c5xySWFr3NAB"
   },
   "source": [
    "Using Keras, create the DNN or Sequential Model"
   ]
  },
  {
   "cell_type": "code",
   "execution_count": null,
   "metadata": {
    "id": "rCwWP8S23NAC"
   },
   "outputs": [],
   "source": [
    "# Create a model object\n",
    "\n",
    "dnnModel = models.Sequential()"
   ]
  },
  {
   "cell_type": "markdown",
   "metadata": {
    "id": "kFEWcUK83NAC"
   },
   "source": [
    "Add dense layers, specifying the number of units in each layer and the activation function used in the layer."
   ]
  },
  {
   "cell_type": "code",
   "execution_count": null,
   "metadata": {
    "colab": {
     "base_uri": "https://localhost:8080/"
    },
    "executionInfo": {
     "elapsed": 33,
     "status": "ok",
     "timestamp": 1709364836809,
     "user": {
      "displayName": "KAJA SAI MANOJ",
      "userId": "14700601486028732329"
     },
     "user_tz": -330
    },
    "id": "aMCslMzv3NAC",
    "outputId": "c9bd39bc-b03c-4475-ac4e-2188bdd67b71"
   },
   "outputs": [
    {
     "name": "stdout",
     "output_type": "stream",
     "text": [
      "Model: \"sequential_3\"\n",
      "_________________________________________________________________\n",
      " Layer (type)                Output Shape              Param #   \n",
      "=================================================================\n",
      " dense_12 (Dense)            (None, 128)               100480    \n",
      "                                                                 \n",
      " dense_13 (Dense)            (None, 128)               16512     \n",
      "                                                                 \n",
      " dense_14 (Dense)            (None, 64)                8256      \n",
      "                                                                 \n",
      " dense_15 (Dense)            (None, 10)                650       \n",
      "                                                                 \n",
      "=================================================================\n",
      "Total params: 125898 (491.79 KB)\n",
      "Trainable params: 125898 (491.79 KB)\n",
      "Non-trainable params: 0 (0.00 Byte)\n",
      "_________________________________________________________________\n"
     ]
    }
   ],
   "source": [
    "# Layer 1 = hidden layer\n",
    "# specify the input size in the first layer.MLP\n",
    "\n",
    "dnnModel.add(layers.Dense(128, activation='relu', input_shape= (28*28,)))  # CHNAGED FROM 50 TO 128\n",
    "\n",
    "# Layer 2 = hidden layer\n",
    "dnnModel.add(layers.Dense(128, activation='relu'))  # CHANGED FROM 60 TO 128\n",
    "\n",
    "# Layer 3 = hidden layer\n",
    "dnnModel.add(layers.Dense(64, activation='relu')) # CHANGED FROM 30 TO 64\n",
    "\n",
    "\n",
    "# Layer 4 = output layer\n",
    "# number of neurons = number of classes = 10\n",
    "dnnModel.add(layers.Dense(10, activation='softmax'))\n",
    "\n",
    "dnnModel.summary()"
   ]
  },
  {
   "cell_type": "code",
   "execution_count": null,
   "metadata": {
    "colab": {
     "base_uri": "https://localhost:8080/",
     "height": 466
    },
    "executionInfo": {
     "elapsed": 25,
     "status": "ok",
     "timestamp": 1709364836809,
     "user": {
      "displayName": "KAJA SAI MANOJ",
      "userId": "14700601486028732329"
     },
     "user_tz": -330
    },
    "id": "oYLbpVPB3NAD",
    "outputId": "aaa2cfa0-eb62-4ca2-b662-f9c642d9894a"
   },
   "outputs": [
    {
     "data": {
      "image/png": "[encoded data removed]",
      "text/plain": [
       "<IPython.core.display.Image object>"
      ]
     },
     "execution_count": 56,
     "metadata": {},
     "output_type": "execute_result"
    }
   ],
   "source": [
    "from tensorflow.keras.utils import plot_model\n",
    "plot_model(dnnModel, to_file='2A DNN.png')\n",
    "from IPython.display import Image\n",
    "Image(filename='2A DNN.png')"
   ]
  },
  {
   "cell_type": "markdown",
   "metadata": {
    "id": "6YrdoKNN3NAD"
   },
   "source": [
    "## Regularization and Optimizations of DNN"
   ]
  },
  {
   "cell_type": "code",
   "execution_count": null,
   "metadata": {
    "id": "zjl9uYvh3NAD"
   },
   "outputs": [],
   "source": [
    "# Configure  the model for training, by using appropriate optimizers and regularizations\n",
    "# Available optimizer: adam, rmsprop, adagrad, sgd\n",
    "# loss:  objective that the model will try to minimize.\n",
    "# Available loss: categorical_crossentropy, binary_crossentropy, mean_squared_error\n",
    "# metrics: List of metrics to be evaluated by the model during training and testing.\n",
    "\n",
    "optimizer = Adam(learning_rate=0.001)  # CHANGING FROM SGD TO ADAM\n",
    "dnnModel.compile(optimizer=optimizer, loss='categorical_crossentropy', metrics=['accuracy'])\n"
   ]
  },
  {
   "cell_type": "markdown",
   "metadata": {
    "id": "sTC_KTzc3NAE"
   },
   "source": [
    "## Train the Model"
   ]
  },
  {
   "cell_type": "code",
   "execution_count": null,
   "metadata": {
    "colab": {
     "base_uri": "https://localhost:8080/"
    },
    "executionInfo": {
     "elapsed": 112503,
     "status": "ok",
     "timestamp": 1709364949290,
     "user": {
      "displayName": "KAJA SAI MANOJ",
      "userId": "14700601486028732329"
     },
     "user_tz": -330
    },
    "id": "4oQEt56P3NAE",
    "outputId": "0b7d022a-0eba-4d25-aeda-68fdd7bdf123"
   },
   "outputs": [
    {
     "name": "stdout",
     "output_type": "stream",
     "text": [
      "Epoch 1/25\n",
      "844/844 [==============================] - 8s 8ms/step - loss: 0.2862 - accuracy: 0.9165 - val_loss: 0.1131 - val_accuracy: 0.9682\n",
      "Epoch 2/25\n",
      "844/844 [==============================] - 4s 5ms/step - loss: 0.1120 - accuracy: 0.9658 - val_loss: 0.1012 - val_accuracy: 0.9692\n",
      "Epoch 3/25\n",
      "844/844 [==============================] - 5s 6ms/step - loss: 0.0793 - accuracy: 0.9748 - val_loss: 0.0848 - val_accuracy: 0.9735\n",
      "Epoch 4/25\n",
      "844/844 [==============================] - 4s 5ms/step - loss: 0.0590 - accuracy: 0.9807 - val_loss: 0.0848 - val_accuracy: 0.9775\n",
      "Epoch 5/25\n",
      "844/844 [==============================] - 4s 5ms/step - loss: 0.0466 - accuracy: 0.9851 - val_loss: 0.1218 - val_accuracy: 0.9617\n",
      "Epoch 6/25\n",
      "844/844 [==============================] - 5s 6ms/step - loss: 0.0361 - accuracy: 0.9879 - val_loss: 0.0962 - val_accuracy: 0.9727\n",
      "Epoch 7/25\n",
      "844/844 [==============================] - 4s 4ms/step - loss: 0.0289 - accuracy: 0.9907 - val_loss: 0.0926 - val_accuracy: 0.9777\n",
      "Epoch 8/25\n",
      "844/844 [==============================] - 4s 4ms/step - loss: 0.0279 - accuracy: 0.9907 - val_loss: 0.0867 - val_accuracy: 0.9795\n",
      "Epoch 9/25\n",
      "844/844 [==============================] - 5s 5ms/step - loss: 0.0260 - accuracy: 0.9908 - val_loss: 0.0967 - val_accuracy: 0.9785\n",
      "Epoch 10/25\n",
      "844/844 [==============================] - 4s 5ms/step - loss: 0.0200 - accuracy: 0.9934 - val_loss: 0.0991 - val_accuracy: 0.9760\n",
      "Epoch 11/25\n",
      "844/844 [==============================] - 8s 10ms/step - loss: 0.0169 - accuracy: 0.9943 - val_loss: 0.0959 - val_accuracy: 0.9782\n",
      "Epoch 12/25\n",
      "844/844 [==============================] - 5s 6ms/step - loss: 0.0205 - accuracy: 0.9934 - val_loss: 0.1054 - val_accuracy: 0.9772\n",
      "Epoch 13/25\n",
      "844/844 [==============================] - 4s 5ms/step - loss: 0.0138 - accuracy: 0.9955 - val_loss: 0.0975 - val_accuracy: 0.9795\n",
      "Epoch 14/25\n",
      "844/844 [==============================] - 4s 5ms/step - loss: 0.0167 - accuracy: 0.9946 - val_loss: 0.1124 - val_accuracy: 0.9770\n",
      "Epoch 15/25\n",
      "844/844 [==============================] - 4s 5ms/step - loss: 0.0128 - accuracy: 0.9956 - val_loss: 0.1140 - val_accuracy: 0.9807\n",
      "Epoch 16/25\n",
      "844/844 [==============================] - 4s 4ms/step - loss: 0.0149 - accuracy: 0.9954 - val_loss: 0.1057 - val_accuracy: 0.9783\n",
      "Epoch 17/25\n",
      "844/844 [==============================] - 4s 5ms/step - loss: 0.0134 - accuracy: 0.9955 - val_loss: 0.1120 - val_accuracy: 0.9802\n",
      "Epoch 18/25\n",
      "844/844 [==============================] - 5s 6ms/step - loss: 0.0105 - accuracy: 0.9966 - val_loss: 0.1139 - val_accuracy: 0.9790\n",
      "Epoch 19/25\n",
      "844/844 [==============================] - 4s 5ms/step - loss: 0.0116 - accuracy: 0.9961 - val_loss: 0.1160 - val_accuracy: 0.9797\n",
      "Epoch 20/25\n",
      "844/844 [==============================] - 4s 5ms/step - loss: 0.0131 - accuracy: 0.9956 - val_loss: 0.1304 - val_accuracy: 0.9768\n",
      "Epoch 21/25\n",
      "844/844 [==============================] - 4s 5ms/step - loss: 0.0095 - accuracy: 0.9967 - val_loss: 0.1136 - val_accuracy: 0.9800\n",
      "Epoch 22/25\n",
      "844/844 [==============================] - 4s 4ms/step - loss: 0.0108 - accuracy: 0.9964 - val_loss: 0.1118 - val_accuracy: 0.9815\n",
      "Epoch 23/25\n",
      "844/844 [==============================] - 4s 5ms/step - loss: 0.0107 - accuracy: 0.9969 - val_loss: 0.1207 - val_accuracy: 0.9788\n",
      "Epoch 24/25\n",
      "844/844 [==============================] - 5s 6ms/step - loss: 0.0073 - accuracy: 0.9976 - val_loss: 0.1327 - val_accuracy: 0.9777\n",
      "Epoch 25/25\n",
      "844/844 [==============================] - 4s 4ms/step - loss: 0.0119 - accuracy: 0.9961 - val_loss: 0.1434 - val_accuracy: 0.9775\n"
     ]
    }
   ],
   "source": [
    "# train the model\n",
    "\n",
    "\n",
    "\n",
    "h  = dnnModel.fit( Xtrain, Ytrain, epochs=25, validation_split=0.1, batch_size=64)"
   ]
  },
  {
   "cell_type": "code",
   "execution_count": null,
   "metadata": {
    "colab": {
     "base_uri": "https://localhost:8080/"
    },
    "executionInfo": {
     "elapsed": 16,
     "status": "ok",
     "timestamp": 1709364949291,
     "user": {
      "displayName": "KAJA SAI MANOJ",
      "userId": "14700601486028732329"
     },
     "user_tz": -330
    },
    "id": "aTf_sJI63NAE",
    "outputId": "0c4eecf4-75d4-4ff8-daa9-e4a8e1cfea13"
   },
   "outputs": [
    {
     "name": "stdout",
     "output_type": "stream",
     "text": [
      "Final training accuracy  0.9961481690406799\n",
      "Final validation accuracy  0.9775000214576721\n"
     ]
    }
   ],
   "source": [
    "#print('Final training loss \\t', h.history['loss'][-1])\n",
    "print('Final training accuracy ', h.history['accuracy'][-1])\n",
    "#print('Final training loss \\t', h.history['val_loss'][-1])\n",
    "print('Final validation accuracy ', h.history['val_accuracy'][-1])"
   ]
  },
  {
   "cell_type": "markdown",
   "metadata": {
    "id": "l_mwFgw33NAF"
   },
   "source": [
    "## Testing the Model"
   ]
  },
  {
   "cell_type": "code",
   "execution_count": null,
   "metadata": {
    "colab": {
     "base_uri": "https://localhost:8080/"
    },
    "executionInfo": {
     "elapsed": 693,
     "status": "ok",
     "timestamp": 1709364949974,
     "user": {
      "displayName": "KAJA SAI MANOJ",
      "userId": "14700601486028732329"
     },
     "user_tz": -330
    },
    "id": "_oo-OZlJ3NAF",
    "outputId": "cd0721b5-6d1a-421a-e835-c4823d3fd2f1"
   },
   "outputs": [
    {
     "name": "stdout",
     "output_type": "stream",
     "text": [
      "313/313 [==============================] - 1s 2ms/step - loss: 0.1269 - accuracy: 0.9767\n"
     ]
    }
   ],
   "source": [
    "# testing the model\n",
    "\n",
    "testLoss, testAccuracy = dnnModel.evaluate( Xtest, Ytest)"
   ]
  },
  {
   "cell_type": "code",
   "execution_count": null,
   "metadata": {
    "colab": {
     "base_uri": "https://localhost:8080/"
    },
    "executionInfo": {
     "elapsed": 9,
     "status": "ok",
     "timestamp": 1709364949975,
     "user": {
      "displayName": "KAJA SAI MANOJ",
      "userId": "14700601486028732329"
     },
     "user_tz": -330
    },
    "id": "okh7143p3NAF",
    "outputId": "bdde0ad3-1e6f-4e04-e4b2-4fff438a97fe"
   },
   "outputs": [
    {
     "name": "stdout",
     "output_type": "stream",
     "text": [
      "Testing loss \t 0.12685568630695343\n",
      "Testing accuracy  0.9767000079154968\n"
     ]
    }
   ],
   "source": [
    "print('Testing loss \\t', testLoss)\n",
    "print('Testing accuracy ', testAccuracy)"
   ]
  },
  {
   "cell_type": "code",
   "execution_count": null,
   "metadata": {
    "colab": {
     "base_uri": "https://localhost:8080/"
    },
    "executionInfo": {
     "elapsed": 1889,
     "status": "ok",
     "timestamp": 1709364951857,
     "user": {
      "displayName": "KAJA SAI MANOJ",
      "userId": "14700601486028732329"
     },
     "user_tz": -330
    },
    "id": "EjuyM9LC3NAF",
    "outputId": "401c7d31-4bc5-47bc-81c9-36fdd7ca2417"
   },
   "outputs": [
    {
     "name": "stdout",
     "output_type": "stream",
     "text": [
      "313/313 [==============================] - 1s 2ms/step\n"
     ]
    }
   ],
   "source": [
    "num_classes = 9\n",
    "\n",
    "#traget names\n",
    "target_names = [\"Class {}\".format(i) for i in range(num_classes)]\n",
    "\n",
    "Ytrue = np.argmax(Ytest,axis = 1)\n",
    "\n",
    "# Predict Labels\n",
    "Ypredicted = dnnModel.predict(Xtest)\n",
    "Ypredicted = np.argmax(np.round(Ypredicted),axis=1)\n"
   ]
  },
  {
   "cell_type": "code",
   "execution_count": null,
   "metadata": {
    "colab": {
     "base_uri": "https://localhost:8080/",
     "height": 482
    },
    "executionInfo": {
     "elapsed": 16,
     "status": "ok",
     "timestamp": 1709364951857,
     "user": {
      "displayName": "KAJA SAI MANOJ",
      "userId": "14700601486028732329"
     },
     "user_tz": -330
    },
    "id": "e_Elu3DT3NAF",
    "outputId": "77312125-29f8-449c-b9a8-c5213e96525d"
   },
   "outputs": [
    {
     "data": {
      "image/png": "[encoded data removed]",
      "text/plain": [
       "<Figure size 640x480 with 1 Axes>"
      ]
     },
     "metadata": {},
     "output_type": "display_data"
    }
   ],
   "source": [
    "import matplotlib.pyplot as plt\n",
    "\n",
    "accuracy = h.history['accuracy']\n",
    "val_accuracy = h.history['val_accuracy']\n",
    "\n",
    "# plot loss and accuracy\n",
    "epochs = range(len(accuracy))\n",
    "\n",
    "plt.style.use('ggplot')\n",
    "plt.plot(epochs, accuracy, 'blue', label='Training accuracy')\n",
    "plt.plot(epochs, val_accuracy, 'red', label='Validation accuracy')\n",
    "plt.yticks((0.9,0.92,0.94,0.96,0.98,1.0))\n",
    "plt.xlabel('Epochs', fontsize=14)\n",
    "plt.ylabel('Accuracy', fontsize=14)\n",
    "plt.title('Training', fontsize=17)\n",
    "plt.legend(loc='lower right')\n",
    "plt.grid(None)\n",
    "\n",
    "plt.show()"
   ]
  },
  {
   "cell_type": "code",
   "execution_count": null,
   "metadata": {
    "colab": {
     "base_uri": "https://localhost:8080/",
     "height": 626
    },
    "executionInfo": {
     "elapsed": 720,
     "status": "ok",
     "timestamp": 1709364952564,
     "user": {
      "displayName": "KAJA SAI MANOJ",
      "userId": "14700601486028732329"
     },
     "user_tz": -330
    },
    "id": "9SkTBrvb3NAG",
    "outputId": "677a7873-3737-4783-9dd5-ac21fc616cd5"
   },
   "outputs": [
    {
     "name": "stdout",
     "output_type": "stream",
     "text": [
      "[[ 973    1    1    0    0    0    1    1    2    1]\n",
      " [   1 1127    2    0    0    2    2    0    1    0]\n",
      " [   6    0 1004    3    6    0    0    5    7    1]\n",
      " [   1    0    3  985    0    5    0    4    9    3]\n",
      " [   2    0    3    0  943    0    2    2    0   30]\n",
      " [   4    1    0   12    1  852    2    3   11    6]\n",
      " [   5    3    0    0    6    5  938    0    1    0]\n",
      " [   2    6    3    1    2    0    0 1001    3   10]\n",
      " [   1    0    4    7    1    3    0    4  950    4]\n",
      " [   2    5    1    2    1    2    0    2    3  991]]\n"
     ]
    },
    {
     "data": {
      "text/plain": [
       "<Axes: >"
      ]
     },
     "execution_count": 64,
     "metadata": {},
     "output_type": "execute_result"
    },
    {
     "data": {
      "image/png": "[encoded data removed]",
      "text/plain": [
       "<Figure size 640x480 with 2 Axes>"
      ]
     },
     "metadata": {},
     "output_type": "display_data"
    }
   ],
   "source": [
    "import seaborn as sn\n",
    "import pandas as pd\n",
    "import matplotlib.pyplot as plt\n",
    "from sklearn.metrics import confusion_matrix\n",
    "\n",
    "cm = confusion_matrix(Ytrue, Ypredicted)\n",
    "print(cm)\n",
    "df_cm = pd.DataFrame(cm)\n",
    "\n",
    "#plt.figure(figsize = (10,7))\n",
    "sn.heatmap(df_cm, annot=True, vmin=-20, vmax=40, cmap=\"Blues\")\n"
   ]
  },
  {
   "cell_type": "code",
   "execution_count": null,
   "metadata": {
    "colab": {
     "base_uri": "https://localhost:8080/"
    },
    "executionInfo": {
     "elapsed": 19,
     "status": "ok",
     "timestamp": 1709364952565,
     "user": {
      "displayName": "KAJA SAI MANOJ",
      "userId": "14700601486028732329"
     },
     "user_tz": -330
    },
    "id": "h5VezRXa3NAG",
    "outputId": "efca4898-a044-4f91-ea90-4802c48eb2a3"
   },
   "outputs": [
    {
     "name": "stdout",
     "output_type": "stream",
     "text": [
      "              precision    recall  f1-score   support\n",
      "\n",
      "           0       0.98      0.99      0.98       980\n",
      "           1       0.99      0.99      0.99      1135\n",
      "           2       0.98      0.97      0.98      1032\n",
      "           3       0.98      0.98      0.98      1010\n",
      "           4       0.98      0.96      0.97       982\n",
      "           5       0.98      0.96      0.97       892\n",
      "           6       0.99      0.98      0.99       958\n",
      "           7       0.98      0.97      0.98      1028\n",
      "           8       0.96      0.98      0.97       974\n",
      "           9       0.95      0.98      0.96      1009\n",
      "\n",
      "    accuracy                           0.98     10000\n",
      "   macro avg       0.98      0.98      0.98     10000\n",
      "weighted avg       0.98      0.98      0.98     10000\n",
      "\n"
     ]
    }
   ],
   "source": [
    "from sklearn.metrics import classification_report\n",
    "\n",
    "print(classification_report(Ytrue, Ypredicted))"
   ]
  },
  {
   "cell_type": "markdown",
   "metadata": {
    "id": "lJk8vhuaJacm"
   },
   "source": [
    "# CONCLUSION\n",
    "\n",
    "\n",
    "---\n",
    "\n",
    "\n",
    "\n",
    "*   By increasing the number of hidden units from 50 to 128\n",
    "*   By increasing the number of hidden layers from 60 to 128\n",
    "*   By increasing the number of additional hidden layers from 30 to 64\n",
    "\n",
    "AND\n",
    "\n",
    "*   Changing the Optimizer from **SGD to ADAM** with learning rate of *0.001*\n",
    "\n",
    "\n",
    "\n",
    "**SGD Optimmizer:**\n",
    "\n",
    "*   Final training accuracy  0.9878148436546326\n",
    "*   Final validation accuracy  0.9786666631698608\n",
    "\n",
    "\n",
    "*   Testing loss \t 0.11252103000879288\n",
    "*   Testing accuracy  0.965499997138977\n",
    "\n",
    "\n",
    "\n",
    "**ADAM Optimizer**\n",
    "\n",
    "*   Final training accuracy  0.9961481690406799\n",
    "*   Final validation accuracy  0.9775000214576721\n",
    "\n",
    "\n",
    "*   Testing loss \t 0.12685568630695343\n",
    "*   Testing accuracy  0.9767000079154968\n",
    "\n",
    "\n",
    "We can improve the training accuracy by **0.9 %** testing accuracy by **1.6 %**\n",
    "\n",
    "\n",
    "\n",
    "\n",
    "\n",
    "\n",
    "\n",
    "\n"
   ]
  }
 ],
 "metadata": {
  "colab": {
   "provenance": []
  },
  "kernelspec": {
   "display_name": "Python 3 (ipykernel)",
   "language": "python",
   "name": "python3"
  },
  "language_info": {
   "codemirror_mode": {
    "name": "ipython",
    "version": 3
   },
   "file_extension": ".py",
   "mimetype": "text/x-python",
   "name": "python",
   "nbconvert_exporter": "python",
   "pygments_lexer": "ipython3",
   "version": "3.9.13"
  }
 },
 "nbformat": 4,
 "nbformat_minor": 1
}
