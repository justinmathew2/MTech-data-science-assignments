{
  "cells": [
    {
      "cell_type": "markdown",
      "metadata": {
        "id": "bFyBLlKlISt0"
      },
      "source": [
        "# <center>        **Natural Language Processing - ASSIGNMENT 1**</center>"
      ]
    },
    {
      "cell_type": "markdown",
      "metadata": {
        "id": "dTIq5trLJq2-"
      },
      "source": [
        "DatasetLink: https://www.kaggle.com/datasets/thedevastator/medical-conversation-corpus-100k\n",
        "\n",
        "\n",
        "\n",
        "**Problem Statement:**\n",
        "\n",
        "The goal of Part I of the task is to use raw textual data in language models for recommendation based application.\n",
        "\n",
        "The goal of Part II of task is to implement comprehensive preprocessing steps for a given dataset, enhancing the quality and relevance of the textual information. The preprocessed text is then transformed into a feature-rich representation using a chosen vectorization method for further use in the application to perform similarity analysis."
      ]
    },
    {
      "cell_type": "markdown",
      "metadata": {
        "id": "64GKei8_KQrs"
      },
      "source": [
        "# **Part I**\n",
        "\n",
        "**Sentence comparison using N-gram:**\n",
        "\n",
        "Let a search engine powered by language model recommend which of the below sentences are most relevant w.r.t to given training corpus. Design a probabilistic language model to compare below test sentences for recommendation using Bigram. Use all the instances in the dataset as a training corpus.\n",
        "\n",
        "Test Sentence 1:\n",
        "\n",
        "I get pain on my forehead and on both sides of my eyes everyday morning\n",
        "\n",
        "\n",
        "Test Sentence 2:\n",
        "\n",
        "The newly released iPhone has excellent features"
      ]
    },
    {
      "cell_type": "code",
      "execution_count": 1,
      "metadata": {
        "colab": {
          "base_uri": "https://localhost:8080/"
        },
        "id": "3M0zDJPsqdqt",
        "outputId": "895b327e-0c7c-43ff-97e3-d6cd1b1dbff9"
      },
      "outputs": [
        {
          "output_type": "stream",
          "name": "stderr",
          "text": [
            "[nltk_data] Downloading package punkt to /root/nltk_data...\n",
            "[nltk_data]   Unzipping tokenizers/punkt.zip.\n",
            "[nltk_data] Downloading package stopwords to /root/nltk_data...\n",
            "[nltk_data]   Unzipping corpora/stopwords.zip.\n",
            "[nltk_data] Downloading package wordnet to /root/nltk_data...\n"
          ]
        }
      ],
      "source": [
        "# Importing necessary Libraries\n",
        "import nltk\n",
        "nltk.download('punkt')\n",
        "nltk.download('stopwords')\n",
        "nltk.download('wordnet')\n",
        "from nltk import bigrams\n",
        "from nltk.corpus import stopwords\n",
        "from gensim.models import Word2Vec\n",
        "from nltk.tokenize import word_tokenize\n",
        "from nltk.stem import PorterStemmer, WordNetLemmatizer\n",
        "from nltk.probability import FreqDist, ConditionalFreqDist\n",
        "\n",
        "import matplotlib.pyplot as plt\n",
        "from sklearn.decomposition import PCA\n",
        "from sklearn.metrics.pairwise import cosine_similarity"
      ]
    },
    {
      "cell_type": "code",
      "execution_count": 2,
      "metadata": {
        "colab": {
          "base_uri": "https://localhost:8080/"
        },
        "id": "CtcILnpeuRHI",
        "outputId": "a20f03b8-080a-44c1-8cf8-83783356acf2"
      },
      "outputs": [
        {
          "output_type": "stream",
          "name": "stderr",
          "text": [
            "Skipping line 9051: unexpected end of data\n"
          ]
        }
      ],
      "source": [
        "# Load the dataset\n",
        "import pandas as pd\n",
        "\n",
        "# Read the CSV file\n",
        "df = pd.read_csv('train.csv', engine='python',  on_bad_lines='warn', encoding='utf-8')\n",
        "training_corpus = df['Conversation'].tolist()"
      ]
    },
    {
      "cell_type": "code",
      "execution_count": 3,
      "metadata": {
        "id": "JHQzp1A4vrA_"
      },
      "outputs": [],
      "source": [
        "# Test sentences\n",
        "test_sentence_1 = \"I get pain on my forehead and on both sides of my eyes everyday morning\"\n",
        "test_sentence_2 = \"The newly released iPhone has excellent features\""
      ]
    },
    {
      "cell_type": "code",
      "execution_count": 4,
      "metadata": {
        "id": "V8ATwMewxYUg"
      },
      "outputs": [],
      "source": [
        "# Tokenize the training corpus into bigrams\n",
        "corpus_bigrams = [bigram for sentence in training_corpus for bigram in list(bigrams(nltk.word_tokenize(str(sentence).lower())))]"
      ]
    },
    {
      "cell_type": "code",
      "execution_count": 5,
      "metadata": {
        "id": "srh25oMXzvYQ"
      },
      "outputs": [],
      "source": [
        "# Create a frequency distribution for bigrams\n",
        "bigram_freq_dist = FreqDist(corpus_bigrams)"
      ]
    },
    {
      "cell_type": "code",
      "execution_count": 6,
      "metadata": {
        "id": "rP47ixsUxqeQ"
      },
      "outputs": [],
      "source": [
        "# Create a conditional frequency distribution for bigrams\n",
        "cond_freq_dist = ConditionalFreqDist(corpus_bigrams)"
      ]
    },
    {
      "cell_type": "code",
      "execution_count": 7,
      "metadata": {
        "id": "_JkmSQLyzSDV"
      },
      "outputs": [],
      "source": [
        "def calculate_sentence_probability(sentence):\n",
        "    sentence_bigrams = list(bigrams(nltk.word_tokenize(str(sentence).lower())))\n",
        "    probability = 1.0\n",
        "\n",
        "    for bigram in sentence_bigrams:\n",
        "        word1, word2 = bigram\n",
        "        probability *= (cond_freq_dist[word1][word2] + 1) / (bigram_freq_dist[word1] + len(bigram_freq_dist))\n",
        "\n",
        "    return probability"
      ]
    },
    {
      "cell_type": "code",
      "execution_count": 8,
      "metadata": {
        "id": "UNwKODVozkM9"
      },
      "outputs": [],
      "source": [
        "# Calculate probabilities for test sentences\n",
        "probability_test_sentence_1 = calculate_sentence_probability(test_sentence_1)\n",
        "probability_test_sentence_2 = calculate_sentence_probability(test_sentence_2)"
      ]
    },
    {
      "cell_type": "code",
      "execution_count": 9,
      "metadata": {
        "colab": {
          "base_uri": "https://localhost:8080/"
        },
        "id": "hvdLAO2SznPE",
        "outputId": "f31a91b5-2f8c-4e30-b7d1-3cba4afcc303"
      },
      "outputs": [
        {
          "output_type": "stream",
          "name": "stdout",
          "text": [
            "Recommendation: Test Sentence 2\n"
          ]
        }
      ],
      "source": [
        "# Compare and recommend\n",
        "if probability_test_sentence_1 > probability_test_sentence_2:\n",
        "    print(\"Recommendation: Test Sentence 1\")\n",
        "else:\n",
        "    print(\"Recommendation: Test Sentence 2\")"
      ]
    },
    {
      "cell_type": "markdown",
      "metadata": {
        "id": "vNuVGflfYX2G"
      },
      "source": [
        "# **Observation:**\n",
        "\n",
        "\n",
        "*   The code recommends **Test Sentence 2** is more relevant. Despite being a medical conversation corpus, the code recommends a non-medical sentence.\n",
        "*   Medical conversations are complex and may involve specific terminologies not well-captured by simple bigram models.\n",
        "\n",
        "# **Inferences:**\n",
        "\n",
        "\n",
        "*   The complexity of medical language, including specialized terms and expressions, might not be effectively captured by the basic bigram model.\n",
        "*   In summary, the output suggests that the basic bigram model may not effectively prioritize medical context.\n",
        "\n",
        "\n",
        "\n"
      ]
    },
    {
      "cell_type": "markdown",
      "metadata": {
        "id": "4rmL6lsm-B40"
      },
      "source": [
        "# **Part II**"
      ]
    },
    {
      "cell_type": "markdown",
      "metadata": {
        "id": "utIWrj5f-hqX"
      },
      "source": [
        "i) Text Preprocessing:\n",
        "  \n",
        "\n",
        "*   Tokenization\n",
        "*   Lowercasing\n",
        "*   Stop Words Removal\n",
        "*   Stemming\n",
        "*   Lemmatization"
      ]
    },
    {
      "cell_type": "code",
      "execution_count": 10,
      "metadata": {
        "id": "9WjNExZB2-Sd"
      },
      "outputs": [],
      "source": [
        "text_data = df['Conversation'].astype(str)\n",
        "\n",
        "# Tokenization\n",
        "tokenized_data = text_data.apply(lambda x: word_tokenize(x))\n",
        "\n",
        "# Lowercasing\n",
        "lowercased_data = tokenized_data.apply(lambda x: [word.lower() for word in x])\n",
        "\n",
        "# Stop Words Removal\n",
        "stop_words = set(stopwords.words('english'))\n",
        "filtered_data = lowercased_data.apply(lambda x: [word for word in x if word not in stop_words])\n",
        "\n",
        "# Stemming\n",
        "stemmer = PorterStemmer()\n",
        "stemmed_data = filtered_data.apply(lambda x: [stemmer.stem(word) for word in x])\n",
        "\n",
        "# Lemmatization\n",
        "lemmatizer = WordNetLemmatizer()\n",
        "lemmatized_data = filtered_data.apply(lambda x: [lemmatizer.lemmatize(word) for word in x])\n"
      ]
    },
    {
      "cell_type": "markdown",
      "metadata": {
        "id": "qPDeGfscx9Kh"
      },
      "source": [
        "# **Observations and Inferences:**\n",
        "\n",
        "**Tokenization:**\n",
        "\n",
        "Observation: The word_tokenize function is used to split each sentence into a list of words.\n",
        "\n",
        "Inference: Tokenization is a crucial step to break down text into its fundamental units (words), making it easier to process and analyze.\n",
        "\n",
        "**Lowercasing:**\n",
        "\n",
        "Observation: All words are converted to lowercase using a list comprehension.\n",
        "\n",
        "Inference: Lowercasing helps in standardizing the text, reducing the complexity by treating the same words with different cases as identical. This ensures consistent analysis.\n",
        "\n",
        "**Stop Words Removal:**\n",
        "\n",
        "Observation: Stop words (common words like \"the,\" \"is,\" etc.) are removed from the tokenized and lowercased data.\n",
        "\n",
        "Inference: Removing stop words is common in text preprocessing to eliminate frequently occurring words that may not contribute much to the meaning of the text. This can improve the efficiency of subsequent analyses.\n",
        "\n",
        "**Stemming:**\n",
        "\n",
        "Observation: The Porter stemming algorithm is applied to reduce words to their root or base form.\n",
        "\n",
        "Inference: Stemming helps in simplifying words to their root, but it may result in the loss of some semantic meaning. It is useful for tasks where word variations can be treated as the same.\n",
        "\n",
        "**Lemmatization:**\n",
        "\n",
        "Observation: The WordNet lemmatizer is used to reduce words to their base or dictionary form.\n",
        "\n",
        "Inference: Lemmatization is more sophisticated than stemming, aiming to bring words to their base form while preserving their semantic meaning. It's beneficial for tasks where maintaining semantic accuracy is crucial.\n",
        "\n",
        "\n"
      ]
    },
    {
      "cell_type": "markdown",
      "metadata": {
        "id": "4WEzXOv-PSyC"
      },
      "source": [
        "ii) Feature Extraction: (2 Marks)\n",
        "        Use the pre-processed data from previous step and implement the below vectorization methods to extract features.\n",
        "\n",
        "Word Embedding using Skip Gram"
      ]
    },
    {
      "cell_type": "code",
      "execution_count": 11,
      "metadata": {
        "id": "IXpfhGdE-kN9",
        "colab": {
          "base_uri": "https://localhost:8080/"
        },
        "outputId": "674cb1b8-66e5-4f6d-ccc5-c97a46d60de9"
      },
      "outputs": [
        {
          "output_type": "stream",
          "name": "stdout",
          "text": [
            "[ 3.67459357e-02  9.30271626e-01 -1.60657898e-01  3.98588270e-01\n",
            "  3.91248256e-01 -3.86515528e-01  2.43822873e-01  4.49829400e-01\n",
            " -1.98785722e-01 -1.89597085e-01 -1.16693743e-01 -3.47867221e-01\n",
            " -1.38955072e-01 -4.56411123e-01  1.73400179e-01 -1.43731773e-01\n",
            "  2.94648826e-01 -4.55985427e-01 -5.93998611e-01 -5.08199990e-01\n",
            "  1.14783593e-01  1.80330556e-02  4.84414816e-01 -2.58707672e-01\n",
            " -4.13945943e-01 -4.76539820e-01 -3.56875695e-02 -6.43022880e-02\n",
            "  1.02536708e-01 -1.80116042e-01  3.37297022e-01 -2.43157953e-01\n",
            "  1.69192374e-01 -2.60989070e-01 -7.25398660e-01 -1.01667002e-01\n",
            "  1.66664293e-04  8.52463171e-02 -3.07411402e-01 -7.35494018e-01\n",
            " -4.03106809e-01  1.86151683e-01  1.52966261e-01  6.70547262e-02\n",
            "  9.60185900e-02 -3.19315642e-01  7.04939216e-02  1.12810165e-01\n",
            "  1.54209323e-02  6.65269375e-01  1.42356306e-01 -5.21358788e-01\n",
            " -4.65184823e-02 -3.74995023e-02 -5.37968695e-01 -3.69161874e-01\n",
            "  2.44297266e-01  7.75934234e-02 -5.30318081e-01 -5.46432063e-02\n",
            " -3.36511642e-01 -1.44146373e-02  2.24866763e-01  2.69327126e-02\n",
            " -6.41247988e-01  2.63402253e-01  1.20073862e-01  8.49565387e-01\n",
            " -4.95154798e-01  7.52521098e-01 -8.22130442e-02  3.96574199e-01\n",
            "  4.28741336e-01  2.61159956e-01 -2.62938291e-01 -2.51123399e-01\n",
            " -1.14307217e-01  6.79644465e-01 -2.82710165e-01 -1.95616987e-02\n",
            " -3.85762811e-01 -1.39032200e-01 -3.20599914e-01  2.05321640e-01\n",
            "  2.90353239e-01 -2.68542226e-02  6.69729561e-02 -1.55095696e-01\n",
            "  2.00638384e-01  9.11446452e-01 -3.09978556e-02  1.21522181e-01\n",
            " -1.47270352e-01  5.63077450e-01  4.40949768e-01 -7.51401335e-02\n",
            " -8.13867822e-02 -5.83300352e-01 -1.49295524e-01 -6.73441961e-02]\n"
          ]
        }
      ],
      "source": [
        "# Train Word2Vec model (Skip Gram)\n",
        "model = Word2Vec(sentences=lemmatized_data, vector_size=100, window=5, sg=1, min_count=1)\n",
        "\n",
        "# Get the vector representation for each word\n",
        "word_vectors = model.wv\n",
        "\n",
        "# Example: Get the vector for the word pain\n",
        "vector_for_word = word_vectors['pain']\n",
        "print(vector_for_word)"
      ]
    },
    {
      "cell_type": "markdown",
      "metadata": {
        "id": "RDGkRWTR2nJi"
      },
      "source": [
        "# **Observations and Inference:**\n",
        "\n",
        "**Word2Vec Training:**\n",
        "\n",
        "Observation: The Word2Vec model is trained using the Skip-Gram approach on the preprocessed and lemmatized text data.\n",
        "\n",
        "Inference: Skip-Gram is chosen as it aims to predict the context words given a target word. This can capture semantic relationships between words.\n",
        "\n",
        "**Vector Size and Hyperparameters:**\n",
        "\n",
        "Observation: The vector size is set to 100, and other hyperparameters like the window size and minimum count are also specified.\n",
        "\n",
        "Inference: The choice of hyperparameters depends on the specific task and the characteristics of the text data. Adjusting these parameters may impact the quality of the learned word representations.\n",
        "\n",
        "**Word Vector Retrieval:**\n",
        "\n",
        "Observation: The WordVectorsKeyedVectors object (word_vectors) is obtained from the trained Word2Vec model.\n",
        "\n",
        "Inference: This object contains the vector representations for each word. These vectors capture semantic relationships and context information based on the training data.\n",
        "\n",
        "**Vector Representation for a Word:**\n",
        "\n",
        "Observation: The vector representation for the word 'pain' is retrieved and printed.\n",
        "\n",
        "Inference: The vector is a 100-dimensional representation of the word 'pain' in the learned semantic space. This vector can be used for tasks like word similarity, analogy, or as input features for downstream machine learning models.\n",
        "\n",
        "\n",
        "The model captures semantic relationships, enabling it to understand the context and meaning of words based on the patterns observed in the training data. Experimenting with different hyperparameter settings and observing the impact on the learned word representations can help fine-tune the model for optimal performance.\n",
        "\n",
        "\n",
        "\n"
      ]
    },
    {
      "cell_type": "markdown",
      "metadata": {
        "id": "aeYcvteJP3pL"
      },
      "source": [
        "iii) Similarity Analysis: (3 Marks)\n",
        "\n",
        "Use the vectorized representation from previous step and implement a method to identify and print the names of top two similar words that exhibit significant similarity. Justify your choice of similarity metric and feature design. Visualize a subset of vector embedding in 2D semantic space suitable for this use case. HINT: (Use PCA for Dimensionality reduction)"
      ]
    },
    {
      "cell_type": "code",
      "execution_count": 12,
      "metadata": {
        "id": "ABf1pctePx3k",
        "colab": {
          "base_uri": "https://localhost:8080/",
          "height": 600
        },
        "outputId": "9ce9c8de-bf2f-4481-a419-53658c9f74a6"
      },
      "outputs": [
        {
          "output_type": "display_data",
          "data": {
            "text/plain": [
              "<Figure size 800x600 with 1 Axes>"
            ],
            "image/png": "[encoded data removed]"
          },
          "metadata": {}
        },
        {
          "output_type": "stream",
          "name": "stdout",
          "text": [
            "Top 2 similar words to 'pain':\n",
            "discomfort (Similarity: 0.8420)\n",
            "throbbing (Similarity: 0.7835)\n"
          ]
        }
      ],
      "source": [
        "# PCA for dimensionality reduction to visualize in 2D\n",
        "pca = PCA(n_components=2)\n",
        "word_vectors_2d = pca.fit_transform(model.wv.vectors)\n",
        "\n",
        "# Visualize a subset of words in 2D semantic space\n",
        "subset_words = ['pain', 'headache', 'fever', 'cough', 'medicine']\n",
        "subset_indices = [model.wv.key_to_index[word] for word in subset_words]\n",
        "\n",
        "plt.figure(figsize=(8, 6))\n",
        "for i, word in enumerate(subset_words):\n",
        "    plt.scatter(word_vectors_2d[subset_indices[i], 0], word_vectors_2d[subset_indices[i], 1], label=word)\n",
        "\n",
        "plt.legend()\n",
        "plt.title('2D Semantic Space Visualization')\n",
        "plt.show()\n",
        "\n",
        "# Similarity Analysis\n",
        "def top_similar_words(word, word_vectors, top_n=2):\n",
        "    similarities = []\n",
        "    for other_word in word_vectors.index_to_key:\n",
        "        if other_word != word:\n",
        "            similarity = word_vectors.similarity(word, other_word)\n",
        "            similarities.append((other_word, similarity))\n",
        "\n",
        "    # Sort by similarity in descending order\n",
        "    similarities.sort(key=lambda x: x[1], reverse=True)\n",
        "\n",
        "    # Print the top similar words\n",
        "    print(f\"Top {top_n} similar words to '{word}':\")\n",
        "    for i in range(min(top_n, len(similarities))):\n",
        "        print(f\"{similarities[i][0]} (Similarity: {similarities[i][1]:.4f})\")\n",
        "\n",
        "\n",
        "chosen_word = 'pain'\n",
        "top_similar_words(chosen_word, word_vectors)\n"
      ]
    },
    {
      "cell_type": "markdown",
      "metadata": {
        "id": "fUprdee5-GHI"
      },
      "source": [
        "# **Observations and Inferences:**\n",
        "\n",
        "**PCA Dimensionality Reduction:**\n",
        "\n",
        "Observation: Principal Component Analysis (PCA) is applied to reduce the dimensionality of the word vectors to 2D.\n",
        "\n",
        "Inference: PCA is commonly used for dimensionality reduction, allowing visualization of high-dimensional data in a lower-dimensional space. It captures the most significant variations in the word vectors.\n",
        "\n",
        "**2D Semantic Space Visualization:**\n",
        "\n",
        "Observation: A subset of words ('pain', 'headache', 'fever', 'cough', 'medicine') is visualized in a 2D semantic space.\n",
        "\n",
        "Inference: This plot provides insights into the relative positions of these words in the learned semantic space. Words that are close to each other in this space may have similar contextual meanings.\n",
        "\n",
        "**Similarity Analysis Function:**\n",
        "\n",
        "Observation: A function top_similar_words is defined to find and print the top similar words to a chosen word.\n",
        "\n",
        "Inference: This function calculates the cosine similarity between the chosen word and all other words in the vocabulary. It then sorts the words based on similarity, printing the top N similar words.\n",
        "\n",
        "**Similarity Analysis for 'pain':**\n",
        "\n",
        "Observation: The function is applied to find and print the top similar words to the chosen word 'pain'.\n",
        "\n",
        "Inference: The output provides words that are most similar to 'pain' based on the learned word vectors. This can be useful for understanding the semantic associations captured by the model.\n",
        "\n",
        "\n",
        "The code aims to visualize a subset of words in a 2D semantic space using PCA and provides a function for similarity analysis. The 2D visualization can offer a qualitative understanding of the relationships between selected words. The similarity analysis function allows users to explore semantic similarities between words, leveraging the trained Word2Vec model.\n",
        "\n",
        "\n",
        "\n",
        "\n",
        "\n"
      ]
    }
  ],
  "metadata": {
    "colab": {
      "gpuType": "T4",
      "provenance": []
    },
    "kernelspec": {
      "display_name": "Python 3 (ipykernel)",
      "language": "python",
      "name": "python3"
    },
    "language_info": {
      "codemirror_mode": {
        "name": "ipython",
        "version": 3
      },
      "file_extension": ".py",
      "mimetype": "text/x-python",
      "name": "python",
      "nbconvert_exporter": "python",
      "pygments_lexer": "ipython3",
      "version": "3.9.13"
    }
  },
  "nbformat": 4,
  "nbformat_minor": 0
}