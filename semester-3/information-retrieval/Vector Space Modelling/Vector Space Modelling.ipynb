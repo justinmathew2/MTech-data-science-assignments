{
 "cells": [
  {
   "cell_type": "markdown",
   "metadata": {},
   "source": [
    "# This code implementation is a\"Basic Document Similarity Search\". It demonstrates how the Vector Space Model with TF-IDF can be used to calculate the similarity between a query and a set of documents. \n",
    "\n",
    "\n",
    "By comparing the TF-IDF vectors using cosine similarity, the code identifies the most similar document to the query from the given collection."
   ]
  },
  {
   "cell_type": "markdown",
   "metadata": {},
   "source": [
    "# Implementation without library"
   ]
  },
  {
   "cell_type": "code",
   "execution_count": 16,
   "metadata": {},
   "outputs": [],
   "source": [
    "import math"
   ]
  },
  {
   "cell_type": "code",
   "execution_count": 17,
   "metadata": {},
   "outputs": [],
   "source": [
    "# Function to calculate term frequency (TF)\n",
    "def calculate_tf(term, document):\n",
    "    term_frequency = document.count(term)\n",
    "    return term_frequency\n"
   ]
  },
  {
   "cell_type": "code",
   "execution_count": 18,
   "metadata": {},
   "outputs": [],
   "source": [
    "# Function to calculate inverse document frequency (IDF)\n",
    "def calculate_idf(term, documents):\n",
    "    total_documents = len(documents)\n",
    "    documents_with_term = sum(1 for doc in documents if term in doc)\n",
    "    if documents_with_term > 0:\n",
    "        inverse_document_frequency = math.log(total_documents / documents_with_term)\n",
    "    else:\n",
    "        inverse_document_frequency = 0\n",
    "    return inverse_document_frequency"
   ]
  },
  {
   "cell_type": "code",
   "execution_count": 19,
   "metadata": {},
   "outputs": [],
   "source": [
    "# Function to calculate TF-IDF for a term in a document\n",
    "def calculate_tfidf(term, document, documents):\n",
    "    tf = calculate_tf(term, document)\n",
    "    idf = calculate_idf(term, documents)\n",
    "    tfidf = tf * idf\n",
    "    return tfidf\n",
    "\n"
   ]
  },
  {
   "cell_type": "code",
   "execution_count": 37,
   "metadata": {},
   "outputs": [],
   "source": [
    "# Sample documents\n",
    "documents = [\n",
    "    \"This is my first document.\",\n",
    "    \"This document is the second document.\",\n",
    "    \"And this is the third one.\",\n",
    "    \"Is this the first document?\"\n",
    "]\n",
    "\n",
    "# Sample query\n",
    "query = \"This is the first document.\"\n"
   ]
  },
  {
   "cell_type": "code",
   "execution_count": 38,
   "metadata": {},
   "outputs": [],
   "source": [
    "# Calculate TF-IDF for each term in the query\n",
    "query_terms = query.lower().split()\n",
    "query_tfidf = []\n",
    "for term in query_terms:\n",
    "    tfidf = calculate_tfidf(term, query, documents)\n",
    "    query_tfidf.append(tfidf)\n"
   ]
  },
  {
   "cell_type": "code",
   "execution_count": 40,
   "metadata": {},
   "outputs": [
    {
     "data": {
      "text/plain": [
       "[0.0, 0.0, 0.28768207245178085, 0.6931471805599453, 0.6931471805599453]"
      ]
     },
     "execution_count": 40,
     "metadata": {},
     "output_type": "execute_result"
    }
   ],
   "source": [
    "query_tfidf"
   ]
  },
  {
   "cell_type": "code",
   "execution_count": 41,
   "metadata": {},
   "outputs": [],
   "source": [
    "# Calculate TF-IDF for each term in the documents\n",
    "documents_tfidf = []\n",
    "for doc in documents:\n",
    "    doc_terms = doc.lower().split()\n",
    "    doc_tfidf = []\n",
    "    for term in query_terms:\n",
    "        tfidf = calculate_tfidf(term, doc, documents)\n",
    "        doc_tfidf.append(tfidf)\n",
    "    documents_tfidf.append(doc_tfidf)\n",
    "\n"
   ]
  },
  {
   "cell_type": "code",
   "execution_count": null,
   "metadata": {},
   "outputs": [],
   "source": []
  },
  {
   "cell_type": "code",
   "execution_count": 42,
   "metadata": {},
   "outputs": [],
   "source": [
    "# Compare the query TF-IDF with document TF-IDF using cosine similarity\n",
    "similarities = []\n",
    "for doc_tfidf in documents_tfidf:\n",
    "    dot_product = sum(x * y for x, y in zip(query_tfidf, doc_tfidf))\n",
    "    query_norm = math.sqrt(sum(x ** 2 for x in query_tfidf))\n",
    "    doc_norm = math.sqrt(sum(x ** 2 for x in doc_tfidf))\n",
    "    cosine_similarity = dot_product / (query_norm * doc_norm)\n",
    "    similarities.append(cosine_similarity)\n",
    "\n"
   ]
  },
  {
   "cell_type": "code",
   "execution_count": 44,
   "metadata": {},
   "outputs": [
    {
     "name": "stdout",
     "output_type": "stream",
     "text": [
      "Query: This is the first document.\n",
      "Most Similar Document: This is my first document.\n"
     ]
    }
   ],
   "source": [
    "# Retrieve the most similar document\n",
    "most_similar_index = similarities.index(max(similarities))\n",
    "most_similar_document = documents[most_similar_index]\n",
    "\n",
    "print(\"Query:\", query)\n",
    "print(\"Most Similar Document:\", most_similar_document)"
   ]
  },
  {
   "cell_type": "markdown",
   "metadata": {},
   "source": [
    "# Implementation with library"
   ]
  },
  {
   "cell_type": "code",
   "execution_count": 45,
   "metadata": {},
   "outputs": [],
   "source": [
    "from sklearn.feature_extraction.text import TfidfVectorizer\n",
    "from sklearn.metrics.pairwise import cosine_similarity\n"
   ]
  },
  {
   "cell_type": "code",
   "execution_count": 46,
   "metadata": {},
   "outputs": [],
   "source": [
    "# Sample documents\n",
    "documents = [\n",
    "    \"This is the first document.\",\n",
    "    \"This document is the second document.\",\n",
    "    \"And this is the third one.\",\n",
    "    \"Is this the first document?\"\n",
    "]\n",
    "\n"
   ]
  },
  {
   "cell_type": "code",
   "execution_count": 47,
   "metadata": {},
   "outputs": [],
   "source": [
    "# Sample query\n",
    "query = \"This is the first document.\"\n"
   ]
  },
  {
   "cell_type": "code",
   "execution_count": 49,
   "metadata": {},
   "outputs": [
    {
     "name": "stdout",
     "output_type": "stream",
     "text": [
      "Query: This is the first document.\n",
      "Most Similar Document: This is the first document.\n"
     ]
    }
   ],
   "source": [
    "# Create an instance of TfidfVectorizer\n",
    "vectorizer = TfidfVectorizer()\n",
    "\n",
    "# Compute the TF-IDF matrix for the documents\n",
    "tfidf_matrix = vectorizer.fit_transform(documents)\n",
    "\n",
    "# Compute the TF-IDF matrix for the query\n",
    "query_tfidf = vectorizer.transform([query])\n",
    "\n",
    "# Calculate cosine similarity between the query and documents\n",
    "similarities = cosine_similarity(query_tfidf, tfidf_matrix)\n",
    "\n",
    "# Retrieve the most similar document\n",
    "most_similar_index = similarities.argmax()\n",
    "most_similar_document = documents[most_similar_index]\n",
    "\n",
    "print(\"Query:\", query)\n",
    "print(\"Most Similar Document:\", most_similar_document)"
   ]
  },
  {
   "cell_type": "markdown",
   "metadata": {},
   "source": [
    "## Doing with and without Normalisation"
   ]
  },
  {
   "cell_type": "code",
   "execution_count": 50,
   "metadata": {},
   "outputs": [
    {
     "name": "stdout",
     "output_type": "stream",
     "text": [
      "Without Normalization:\n",
      "Query: The bright sun is shining.\n",
      "Similarities: [[0.83491976 0.40334597 0.31705854 0.07167612]]\n",
      "\n",
      "With Log Normalization:\n",
      "Query: The bright sun is shining.\n",
      "Similarities: [[0.83491976 0.37655846 0.28220736 0.07167612]]\n"
     ]
    }
   ],
   "source": [
    "from sklearn.feature_extraction.text import TfidfVectorizer\n",
    "from sklearn.metrics.pairwise import cosine_similarity\n",
    "\n",
    "# Sample documents\n",
    "documents = [\n",
    "    \"The sun is shining brightly.\",\n",
    "    \"The sun is a star at the center of the solar system.\",\n",
    "    \"The moon reflects the light of the sun.\",\n",
    "    \"Stars are distant suns in the universe.\"\n",
    "]\n",
    "\n",
    "# Sample query\n",
    "query = \"The bright sun is shining.\"\n",
    "\n",
    "# Create an instance of TfidfVectorizer without normalization\n",
    "vectorizer_no_norm = TfidfVectorizer(norm=None)\n",
    "\n",
    "# Compute the TF-IDF matrix without normalization\n",
    "tfidf_matrix_no_norm = vectorizer_no_norm.fit_transform(documents)\n",
    "\n",
    "# Compute the TF-IDF matrix for the query without normalization\n",
    "query_tfidf_no_norm = vectorizer_no_norm.transform([query])\n",
    "\n",
    "# Calculate cosine similarity between the query and documents without normalization\n",
    "similarities_no_norm = cosine_similarity(query_tfidf_no_norm, tfidf_matrix_no_norm)\n",
    "\n",
    "# Create an instance of TfidfVectorizer with log normalization\n",
    "vectorizer_log_norm = TfidfVectorizer(norm='l2', sublinear_tf=True)\n",
    "\n",
    "# Compute the TF-IDF matrix with log normalization\n",
    "tfidf_matrix_log_norm = vectorizer_log_norm.fit_transform(documents)\n",
    "\n",
    "# Compute the TF-IDF matrix for the query with log normalization\n",
    "query_tfidf_log_norm = vectorizer_log_norm.transform([query])\n",
    "\n",
    "# Calculate cosine similarity between the query and documents with log normalization\n",
    "similarities_log_norm = cosine_similarity(query_tfidf_log_norm, tfidf_matrix_log_norm)\n",
    "\n",
    "print(\"Without Normalization:\")\n",
    "print(\"Query:\", query)\n",
    "print(\"Similarities:\", similarities_no_norm)\n",
    "print()\n",
    "\n",
    "print(\"With Log Normalization:\")\n",
    "print(\"Query:\", query)\n",
    "print(\"Similarities:\", similarities_log_norm)\n"
   ]
  },
  {
   "cell_type": "markdown",
   "metadata": {},
   "source": [
    "##  ------------------------------------------------------------ THANK YOU --------------------------------------------------"
   ]
  },
  {
   "cell_type": "code",
   "execution_count": null,
   "metadata": {},
   "outputs": [],
   "source": []
  }
 ],
 "metadata": {
  "kernelspec": {
   "display_name": "Python 3",
   "language": "python",
   "name": "python3"
  },
  "language_info": {
   "codemirror_mode": {
    "name": "ipython",
    "version": 3
   },
   "file_extension": ".py",
   "mimetype": "text/x-python",
   "name": "python",
   "nbconvert_exporter": "python",
   "pygments_lexer": "ipython3",
   "version": "3.8.3"
  }
 },
 "nbformat": 4,
 "nbformat_minor": 4
}
