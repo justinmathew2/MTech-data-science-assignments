{
 "cells": [
  {
   "cell_type": "markdown",
   "id": "f5c43346",
   "metadata": {
    "id": "f5c43346"
   },
   "source": [
    "# Exercise\n",
    "\n",
    "Modify the code as per the below instructions\n",
    "- Use a different dataset, such that it shows both trend and seasonality. The data can be univariate or multivariate.\n",
    "- Modify the architecture, as below\n",
    "    - CNN with 2 conv layers. Rest is as per our choice.\n",
    "    - RNN with one layer\n",
    "- Compare the results of MLP (as given), CNN and RNN."
   ]
  },
  {
   "cell_type": "code",
   "execution_count": null,
   "id": "1abf41ee",
   "metadata": {
    "id": "1abf41ee"
   },
   "outputs": [],
   "source": [
    "# import libraries\n",
    "import numpy as np\n",
    "from numpy import array\n",
    "\n",
    "from keras.models import Sequential\n",
    "from keras.layers import Dense, Conv1D, MaxPooling1D, Flatten, SimpleRNN, Reshape"
   ]
  },
  {
   "cell_type": "markdown",
   "id": "bdc30eec",
   "metadata": {
    "id": "bdc30eec"
   },
   "source": [
    "## Transform univariate time series to supervised learning problem"
   ]
  },
  {
   "cell_type": "code",
   "execution_count": null,
   "id": "7122894b",
   "metadata": {
    "id": "7122894b"
   },
   "outputs": [],
   "source": [
    "# split a univariate sequence into samples\n",
    "def split_sequence(sequence, n_steps):\n",
    "    X, y = list(), list()\n",
    "    for i in range(len(sequence)):\n",
    "        # find the end of this pattern\n",
    "        end_ix = i + n_steps\n",
    "        # check if we are beyond the sequence\n",
    "        if end_ix > len(sequence)-1:\n",
    "            break\n",
    "        # gather input and output parts of the pattern\n",
    "        seq_x, seq_y = sequence[i:end_ix], sequence[end_ix]\n",
    "        X.append(seq_x)\n",
    "        y.append(seq_y)\n",
    "    return array(X), array(y)\n"
   ]
  },
  {
   "cell_type": "markdown",
   "id": "63agwYj6cUsn",
   "metadata": {
    "id": "63agwYj6cUsn"
   },
   "source": [
    "# generate synthetic data with trend and seasonality"
   ]
  },
  {
   "cell_type": "code",
   "execution_count": null,
   "id": "i2Idt_JDcb4e",
   "metadata": {
    "id": "i2Idt_JDcb4e"
   },
   "outputs": [],
   "source": [
    "def generate_data(n_points, trend_slope=1, amplitude=10, period=10):\n",
    "    time = np.arange(n_points)\n",
    "    trend = trend_slope * time\n",
    "    seasonality = amplitude * np.sin(2 * np.pi * time / period)\n",
    "    noise = np.random.normal(0, 1, size=n_points)\n",
    "    return trend + seasonality + noise"
   ]
  },
  {
   "cell_type": "code",
   "execution_count": null,
   "id": "f2b931ee",
   "metadata": {
    "colab": {
     "base_uri": "https://localhost:8080/"
    },
    "executionInfo": {
     "elapsed": 478,
     "status": "ok",
     "timestamp": 1709371987191,
     "user": {
      "displayName": "KAJA SAI MANOJ",
      "userId": "14700601486028732329"
     },
     "user_tz": -330
    },
    "id": "f2b931ee",
    "outputId": "32a32b6c-d615-47ff-ccf7-494ee1d5d08e"
   },
   "outputs": [
    {
     "name": "stdout",
     "output_type": "stream",
     "text": [
      "(97, 3) (97,)\n",
      "[-0.07137565 11.05221843 18.34039207] 18.757240735821938\n",
      "[11.05221843 18.34039207 18.75724074] 12.305459507581466\n",
      "[18.34039207 18.75724074 12.30545951] -1.4332539850034978\n",
      "[18.75724074 12.30545951 -1.43325399] -10.082928689859365\n",
      "[ 12.30545951  -1.43325399 -10.08292869] -19.489364102985096\n",
      "[ -1.43325399 -10.08292869 -19.4893641 ] -17.234523973441593\n",
      "[-10.08292869 -19.4893641  -17.23452397] -11.58582739630309\n",
      "[-19.4893641  -17.23452397 -11.5858274 ] 0.7919657308163794\n",
      "[-17.23452397 -11.5858274    0.79196573] 13.005179152119917\n",
      "[-11.5858274    0.79196573  13.00517915] 20.337990547910696\n",
      "[ 0.79196573 13.00517915 20.33799055] 19.439480881525263\n",
      "[13.00517915 20.33799055 19.43948088] 13.34580948346777\n",
      "[20.33799055 19.43948088 13.34580948] 1.7559622318284556\n",
      "[19.43948088 13.34580948  1.75596223] -9.959077336256131\n",
      "[13.34580948  1.75596223 -9.95907734] -17.659297610525595\n",
      "[  1.75596223  -9.95907734 -17.65929761] -18.170746707948627\n",
      "[ -9.95907734 -17.65929761 -18.17074671] -10.612948422449007\n",
      "[-17.65929761 -18.17074671 -10.61294842] 1.3539476426343793\n",
      "[-18.17074671 -10.61294842   1.35394764] 13.77566837000086\n",
      "[-10.61294842   1.35394764  13.77566837] 20.32105822673252\n",
      "[ 1.35394764 13.77566837 20.32105823] 21.50524620211869\n",
      "[13.77566837 20.32105823 21.5052462 ] 13.704130458751507\n",
      "[20.32105823 21.5052462  13.70413046] 1.1671634280194794\n",
      "[21.5052462  13.70413046  1.16716343] -7.612600640769938\n",
      "[13.70413046  1.16716343 -7.61260064] -15.5777747732538\n",
      "[  1.16716343  -7.61260064 -15.57777477] -16.298688541077752\n",
      "[ -7.61260064 -15.57777477 -16.29868854] -8.966017426687426\n",
      "[-15.57777477 -16.29868854  -8.96601743] 4.025816431074576\n",
      "[-16.29868854  -8.96601743   4.02581643] 14.09084998435284\n",
      "[-8.96601743  4.02581643 14.09084998] 20.222253167575417\n",
      "[ 4.02581643 14.09084998 20.22225317] 22.32203310797151\n",
      "[14.09084998 20.22225317 22.32203311] 16.329414446390416\n",
      "[20.22225317 22.32203311 16.32941445] 3.552787979594496\n",
      "[22.32203311 16.32941445  3.55278798] -7.929657752406626\n",
      "[16.32941445  3.55278798 -7.92965775] -15.9254115291526\n",
      "[  3.55278798  -7.92965775 -15.92541153] -15.488303386506239\n",
      "[ -7.92965775 -15.92541153 -15.48830339] -9.430444267378096\n",
      "[-15.92541153 -15.48830339  -9.43044427] 4.35821991341054\n",
      "[-15.48830339  -9.43044427   4.35821991] 17.126568587825044\n",
      "[-9.43044427  4.35821991 17.12656859] 22.90746731863375\n",
      "[ 4.35821991 17.12656859 22.90746732] 23.00399396839003\n",
      "[17.12656859 22.90746732 23.00399397] 16.579873137658613\n",
      "[22.90746732 23.00399397 16.57987314] 4.539858749873645\n",
      "[23.00399397 16.57987314  4.53985875] -8.053543104488377\n",
      "[16.57987314  4.53985875 -8.0535431 ] -16.32948117842807\n",
      "[  4.53985875  -8.0535431  -16.32948118] -14.688523429341943\n",
      "[ -8.0535431  -16.32948118 -14.68852343] -5.690856934391625\n",
      "[-16.32948118 -14.68852343  -5.69085693] 7.130437647748369\n",
      "[-14.68852343  -5.69085693   7.13043765] 17.084287537045114\n",
      "[-5.69085693  7.13043765 17.08428754] 24.250749428094856\n",
      "[ 7.13043765 17.08428754 24.25074943] 24.198765724061737\n",
      "[17.08428754 24.25074943 24.19876572] 18.069260113871465\n",
      "[24.25074943 24.19876572 18.06926011] 6.2844881397130905\n",
      "[24.19876572 18.06926011  6.28448814] -7.635782286254335\n",
      "[18.06926011  6.28448814 -7.63578229] -13.90394386622928\n",
      "[  6.28448814  -7.63578229 -13.90394387] -12.768112787292011\n",
      "[ -7.63578229 -13.90394387 -12.76811279] -4.228437225178663\n",
      "[-13.90394387 -12.76811279  -4.22843723] 5.290285232918323\n",
      "[-12.76811279  -4.22843723   5.29028523] 18.068951156781427\n",
      "[-4.22843723  5.29028523 18.06895116] 26.12138508148431\n",
      "[ 5.29028523 18.06895116 26.12138508] 26.369712935717054\n",
      "[18.06895116 26.12138508 26.36971294] 18.28927662615834\n",
      "[26.12138508 26.36971294 18.28927663] 6.609507636483007\n",
      "[26.36971294 18.28927663  6.60950764] -6.15484852106467\n",
      "[18.28927663  6.60950764 -6.15484852] -12.317078689740251\n",
      "[  6.60950764  -6.15484852 -12.31707869] -11.859843919761728\n",
      "[ -6.15484852 -12.31707869 -11.85984392] -3.8900065860454904\n",
      "[-12.31707869 -11.85984392  -3.89000659] 7.703393757842761\n",
      "[-11.85984392  -3.89000659   7.70339376] 18.833210542873086\n",
      "[-3.89000659  7.70339376 18.83321054] 28.311050137377553\n",
      "[ 7.70339376 18.83321054 28.31105014] 27.769491518688078\n",
      "[18.83321054 28.31105014 27.76949152] 19.640246338982134\n",
      "[28.31105014 27.76949152 19.64024634] 7.963696830511964\n",
      "[27.76949152 19.64024634  7.96369683] -5.784214098399138\n",
      "[19.64024634  7.96369683 -5.7842141 ] -11.677635660040684\n",
      "[  7.96369683  -5.7842141  -11.67763566] -11.2299533284901\n",
      "[ -5.7842141  -11.67763566 -11.22995333] -3.4000770180954047\n",
      "[-11.67763566 -11.22995333  -3.40007702] 6.654190696658224\n",
      "[-11.22995333  -3.40007702   6.6541907 ] 21.469409849498433\n",
      "[-3.40007702  6.6541907  21.46940985] 28.29518309960691\n",
      "[ 6.6541907  21.46940985 28.2951831 ] 27.72109020048694\n",
      "[21.46940985 28.2951831  27.7210902 ] 19.850193364839075\n",
      "[28.2951831  27.7210902  19.85019336] 8.751844556930868\n",
      "[27.7210902  19.85019336  8.75184456] -2.7509682083914075\n",
      "[19.85019336  8.75184456 -2.75096821] -8.497012579947297\n",
      "[ 8.75184456 -2.75096821 -8.49701258] -8.975180984551994\n",
      "[-2.75096821 -8.49701258 -8.97518098] -3.6003942384050367\n",
      "[-8.49701258 -8.97518098 -3.60039424] 9.116054714417016\n",
      "[-8.97518098 -3.60039424  9.11605471] 19.953962538784978\n",
      "[-3.60039424  9.11605471 19.95396254] 29.32560278766112\n",
      "[ 9.11605471 19.95396254 29.32560279] 27.461843384281526\n",
      "[19.95396254 29.32560279 27.46184338] 20.197320552748756\n",
      "[29.32560279 27.46184338 20.19732055] 9.912517419529978\n",
      "[27.46184338 20.19732055  9.91251742] -3.090522295030342\n",
      "[20.19732055  9.91251742 -3.0905223 ] -9.332079468898058\n",
      "[ 9.91251742 -3.0905223  -9.33207947] -9.395788080930561\n",
      "[-3.0905223  -9.33207947 -9.39578808] -2.1259247467704085\n"
     ]
    }
   ],
   "source": [
    "# generate synthetic data\n",
    "n_points = 100\n",
    "raw_seq = generate_data(n_points, trend_slope=0.1, amplitude=20, period=10)\n",
    "\n",
    "# choose a number of time steps\n",
    "n_steps = 3\n",
    "\n",
    "# transform to a supervised learning problem\n",
    "X, y = split_sequence(raw_seq, n_steps)\n",
    "print(X.shape, y.shape)\n",
    "\n",
    "# show each sample\n",
    "for i in range(len(X)):\n",
    "    print(X[i], y[i])"
   ]
  },
  {
   "cell_type": "code",
   "execution_count": null,
   "id": "24c958e3",
   "metadata": {
    "colab": {
     "base_uri": "https://localhost:8080/"
    },
    "executionInfo": {
     "elapsed": 5,
     "status": "ok",
     "timestamp": 1709371987192,
     "user": {
      "displayName": "KAJA SAI MANOJ",
      "userId": "14700601486028732329"
     },
     "user_tz": -330
    },
    "id": "24c958e3",
    "outputId": "1abe3ab8-14be-47b9-ece3-a2a378f82251"
   },
   "outputs": [
    {
     "name": "stdout",
     "output_type": "stream",
     "text": [
      "(97, 3, 1)\n"
     ]
    }
   ],
   "source": [
    "# transform input from [samples, features] to [samples, timesteps, features]\n",
    "X = X.reshape(X.shape[0], X.shape[1], 1)\n",
    "print(X.shape)"
   ]
  },
  {
   "cell_type": "markdown",
   "id": "7cbb0b84",
   "metadata": {
    "id": "7cbb0b84"
   },
   "source": [
    "## Model"
   ]
  },
  {
   "cell_type": "code",
   "execution_count": null,
   "id": "656a4db6",
   "metadata": {
    "colab": {
     "base_uri": "https://localhost:8080/"
    },
    "executionInfo": {
     "elapsed": 4,
     "status": "ok",
     "timestamp": 1709371987192,
     "user": {
      "displayName": "KAJA SAI MANOJ",
      "userId": "14700601486028732329"
     },
     "user_tz": -330
    },
    "id": "656a4db6",
    "outputId": "8f4f1026-a514-4090-a873-392dbdef2967"
   },
   "outputs": [
    {
     "name": "stdout",
     "output_type": "stream",
     "text": [
      "Model: \"sequential_13\"\n",
      "_________________________________________________________________\n",
      " Layer (type)                Output Shape              Param #   \n",
      "=================================================================\n",
      " dense_16 (Dense)            (None, 100)               400       \n",
      "                                                                 \n",
      " dense_17 (Dense)            (None, 1)                 101       \n",
      "                                                                 \n",
      "=================================================================\n",
      "Total params: 501 (1.96 KB)\n",
      "Trainable params: 501 (1.96 KB)\n",
      "Non-trainable params: 0 (0.00 Byte)\n",
      "_________________________________________________________________\n"
     ]
    }
   ],
   "source": [
    "# MLP with an input layer\n",
    "\n",
    "mlp_model = Sequential()\n",
    "mlp_model.add(Dense(100, activation= 'relu' , input_dim=n_steps))\n",
    "mlp_model.add(Dense(1))\n",
    "mlp_model.summary()\n",
    "\n",
    "# configure the model\n",
    "mlp_model.compile(optimizer= 'adam' , loss= 'mse' )\n"
   ]
  },
  {
   "cell_type": "code",
   "execution_count": null,
   "id": "a190f01c",
   "metadata": {
    "id": "a190f01c"
   },
   "outputs": [],
   "source": [
    "# Training MLP model # fit model\n",
    "\n",
    "mlp_history = mlp_model.fit(X, y, epochs=1000, verbose=0)"
   ]
  },
  {
   "cell_type": "code",
   "execution_count": null,
   "id": "R4_Mu9oWdIB3",
   "metadata": {
    "colab": {
     "base_uri": "https://localhost:8080/"
    },
    "executionInfo": {
     "elapsed": 417,
     "status": "ok",
     "timestamp": 1709372203486,
     "user": {
      "displayName": "KAJA SAI MANOJ",
      "userId": "14700601486028732329"
     },
     "user_tz": -330
    },
    "id": "R4_Mu9oWdIB3",
    "outputId": "1ec61298-f86c-4b2f-c285-8bbaf643c367"
   },
   "outputs": [
    {
     "name": "stdout",
     "output_type": "stream",
     "text": [
      "Model: \"sequential_15\"\n",
      "_________________________________________________________________\n",
      " Layer (type)                Output Shape              Param #   \n",
      "=================================================================\n",
      " conv1d_25 (Conv1D)          (None, 3, 64)             192       \n",
      "                                                                 \n",
      " max_pooling1d_25 (MaxPooli  (None, 3, 64)             0         \n",
      " ng1D)                                                           \n",
      "                                                                 \n",
      " conv1d_26 (Conv1D)          (None, 3, 32)             4128      \n",
      "                                                                 \n",
      " max_pooling1d_26 (MaxPooli  (None, 3, 32)             0         \n",
      " ng1D)                                                           \n",
      "                                                                 \n",
      " flatten_8 (Flatten)         (None, 96)                0         \n",
      "                                                                 \n",
      " reshape_2 (Reshape)         (None, 3, 32)             0         \n",
      "                                                                 \n",
      " simple_rnn_11 (SimpleRNN)   (None, 50)                4150      \n",
      "                                                                 \n",
      " dense_19 (Dense)            (None, 1)                 51        \n",
      "                                                                 \n",
      "=================================================================\n",
      "Total params: 8521 (33.29 KB)\n",
      "Trainable params: 8521 (33.29 KB)\n",
      "Non-trainable params: 0 (0.00 Byte)\n",
      "_________________________________________________________________\n"
     ]
    }
   ],
   "source": [
    "# CNN with 2 conv layers and an RNN\n",
    "cnn_rnn_model = Sequential([\n",
    "    Conv1D(filters=64, kernel_size=2, activation='relu', input_shape=(n_steps, 1), padding = 'same'),\n",
    "    MaxPooling1D(pool_size=1),\n",
    "    Conv1D(filters=32, kernel_size=2, activation='relu', padding = 'same'),\n",
    "    MaxPooling1D(pool_size=1),\n",
    "    Flatten(),  # Flatten layer to convert output shape\n",
    "    Reshape((n_steps, 32)),\n",
    "    SimpleRNN(units=50, activation='relu'),\n",
    "    Dense(1)\n",
    "])\n",
    "cnn_rnn_model.summary()\n",
    "\n",
    "# configure the CNN with RNN model\n",
    "cnn_rnn_model.compile(optimizer='adam', loss='mse')"
   ]
  },
  {
   "cell_type": "code",
   "execution_count": null,
   "id": "0ruJaqhsdUfC",
   "metadata": {
    "id": "0ruJaqhsdUfC"
   },
   "outputs": [],
   "source": [
    "# Train CNN with RNN model\n",
    "cnn_rnn_history = cnn_rnn_model.fit(X, y, epochs=1000, verbose=0)"
   ]
  },
  {
   "cell_type": "code",
   "execution_count": null,
   "id": "eb13a2fd",
   "metadata": {
    "colab": {
     "base_uri": "https://localhost:8080/"
    },
    "executionInfo": {
     "elapsed": 391,
     "status": "ok",
     "timestamp": 1709372222348,
     "user": {
      "displayName": "KAJA SAI MANOJ",
      "userId": "14700601486028732329"
     },
     "user_tz": -330
    },
    "id": "eb13a2fd",
    "outputId": "922bf768-cd23-451f-9fd1-cd12190d72a0"
   },
   "outputs": [
    {
     "name": "stdout",
     "output_type": "stream",
     "text": [
      "MLP prediction: [[15.889226]]\n",
      "CNN with RNN prediction: [[15.235919]]\n"
     ]
    }
   ],
   "source": [
    "# demonstrate prediction\n",
    "x_input = np.array([generate_data(n_steps)[-n_steps:]])  # Use last n_steps as input\n",
    "x_input = x_input.reshape((1, n_steps, 1))\n",
    "\n",
    "mlp_yhat = mlp_model.predict(x_input, verbose=0)\n",
    "cnn_rnn_yhat = cnn_rnn_model.predict(x_input, verbose=0)\n",
    "\n",
    "print(\"MLP prediction:\", mlp_yhat)\n",
    "print(\"CNN with RNN prediction:\", cnn_rnn_yhat)"
   ]
  },
  {
   "cell_type": "code",
   "execution_count": null,
   "id": "2t3ts2QfdPKP",
   "metadata": {
    "id": "2t3ts2QfdPKP"
   },
   "outputs": [],
   "source": []
  }
 ],
 "metadata": {
  "colab": {
   "provenance": []
  },
  "kernelspec": {
   "display_name": "Python 3 (ipykernel)",
   "language": "python",
   "name": "python3"
  },
  "language_info": {
   "codemirror_mode": {
    "name": "ipython",
    "version": 3
   },
   "file_extension": ".py",
   "mimetype": "text/x-python",
   "name": "python",
   "nbconvert_exporter": "python",
   "pygments_lexer": "ipython3",
   "version": "3.9.13"
  }
 },
 "nbformat": 4,
 "nbformat_minor": 5
}
