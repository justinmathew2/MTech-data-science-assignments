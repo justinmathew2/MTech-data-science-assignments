{
 "cells": [
  {
   "cell_type": "markdown",
   "id": "064b986f",
   "metadata": {},
   "source": [
    "To demonstrate Discretization by Binning methods \n",
    "Distance Binning and Frequency Binning"
   ]
  },
  {
   "cell_type": "code",
   "execution_count": 1,
   "id": "8006fe19",
   "metadata": {},
   "outputs": [],
   "source": [
    "import pandas as pd\n",
    "import numpy as np"
   ]
  },
  {
   "cell_type": "code",
   "execution_count": 2,
   "id": "4babdfff",
   "metadata": {},
   "outputs": [
    {
     "name": "stdout",
     "output_type": "stream",
     "text": [
      "     Gender  Age  Co_Morbid  Admit_date Discharge_date  Remdesivir_Given  \\\n",
      "0         M   46          1  01-09-2021     15-09-2021                 0   \n",
      "1         M   51          1  03-09-2021     15-09-2021                 1   \n",
      "2         F   82          1  06-09-2021     15-09-2021                 1   \n",
      "3         M   51          1  08-09-2021     15-09-2021                 0   \n",
      "4         M   66          1  09-09-2021     15-09-2021                 0   \n",
      "...     ...  ...        ...         ...            ...               ...   \n",
      "1227      F   76          1  25-04-2021     26-04-2021                 0   \n",
      "1228      F   27          0  16-04-2021     26-04-2021                 0   \n",
      "1229      M   65          1  14-04-2021     25-04-2021                 0   \n",
      "1230      F   76          1  15-04-2021     24-04-2021                 0   \n",
      "1231      F   32          0  19-04-2021     24-04-2021                 1   \n",
      "\n",
      "      DaysOfStay  DischargeType  Covid_Severity Covid_SeverityDescription  \\\n",
      "0             14              1               3                    Severe   \n",
      "1             12              2               3                    Severe   \n",
      "2              9              2               3                    Severe   \n",
      "3              7              1               2                  Moderate   \n",
      "4              6              1               1                      Mild   \n",
      "...          ...            ...             ...                       ...   \n",
      "1227           1              2               2                  Moderate   \n",
      "1228          10              2               1                      Mild   \n",
      "1229          11              2               4              Undetermined   \n",
      "1230           9              1               3                    Severe   \n",
      "1231           5              1               2                  Moderate   \n",
      "\n",
      "     DischargeTypeCategorical  \n",
      "0                   Recovered  \n",
      "1                     Expired  \n",
      "2                     Expired  \n",
      "3                   Recovered  \n",
      "4                   Recovered  \n",
      "...                       ...  \n",
      "1227                  Expired  \n",
      "1228                  Expired  \n",
      "1229                  Expired  \n",
      "1230                Recovered  \n",
      "1231                Recovered  \n",
      "\n",
      "[1232 rows x 11 columns]\n"
     ]
    }
   ],
   "source": [
    "df = pd.read_csv(\"Covid_data.csv\")\n",
    "print(df)"
   ]
  },
  {
   "cell_type": "code",
   "execution_count": 3,
   "id": "1a7c2ed4",
   "metadata": {},
   "outputs": [
    {
     "name": "stdout",
     "output_type": "stream",
     "text": [
      "1\n",
      "91\n"
     ]
    }
   ],
   "source": [
    "# 1. Distance binning Or equal width partitioning\n",
    "# Formula -> interval = (max-min) / Number of Bins \n",
    "# number of bins=4\n",
    "# Let us consider the 'Age' continuous value column for binning\n",
    "min_value = df['Age'].min()\n",
    "max_value = df['Age'].max()\n",
    "print(min_value)\n",
    "print(max_value)"
   ]
  },
  {
   "cell_type": "code",
   "execution_count": 4,
   "id": "2507af44",
   "metadata": {},
   "outputs": [
    {
     "name": "stdout",
     "output_type": "stream",
     "text": [
      "[ 1.  23.5 46.  68.5 91. ]\n"
     ]
    }
   ],
   "source": [
    "\n",
    "# linspace returns evenly spaced numbers over a specified interval. \n",
    "# Returns num evenly spaced samples, calculated over the interval [start, stop].\n",
    "#np.linspace(2.0, 3.0, num=5)\n",
    "#array([2.  , 2.25, 2.5 , 2.75, 3.  ])\n",
    "#np.linspace(2.0, 3.0, num=5, endpoint=False)\n",
    "#array([2. ,  2.2,  2.4,  2.6,  2.8])\n",
    "#np.linspace(2.0, 3.0, num=5, retstep=True)\n",
    "#(array([2.  ,  2.25,  2.5 ,  2.75,  3.  ]), 0.25)\n",
    "\n",
    "\n",
    "bins = np.linspace(min_value,max_value,5)\n",
    "print(bins)"
   ]
  },
  {
   "cell_type": "code",
   "execution_count": 5,
   "id": "13173c64",
   "metadata": {},
   "outputs": [],
   "source": [
    "labels = ['Juvenile', 'Adult', 'Middle Age', 'Senior Citizen'];"
   ]
  },
  {
   "cell_type": "code",
   "execution_count": 6,
   "id": "d506c745",
   "metadata": {},
   "outputs": [
    {
     "name": "stdout",
     "output_type": "stream",
     "text": [
      "0                Adult\n",
      "1           Middle Age\n",
      "2       Senior Citizen\n",
      "3           Middle Age\n",
      "4           Middle Age\n",
      "             ...      \n",
      "1227    Senior Citizen\n",
      "1228             Adult\n",
      "1229        Middle Age\n",
      "1230    Senior Citizen\n",
      "1231             Adult\n",
      "Name: bins_dist, Length: 1232, dtype: category\n",
      "Categories (4, object): ['Juvenile' < 'Adult' < 'Middle Age' < 'Senior Citizen']\n"
     ]
    }
   ],
   "source": [
    "# We can use the cut() function to convert the numeric values of the column Age into the categorical values.\n",
    "# We need to specify the bins and the labels.\n",
    "df['bins_dist'] = pd.cut(df['Age'], bins=bins, labels=labels, include_lowest=True)\n",
    "print(df['bins_dist'])\n",
    "# print(df['bins_dist'].values.tolist())"
   ]
  },
  {
   "cell_type": "markdown",
   "id": "479a6f5d",
   "metadata": {},
   "source": [
    "If you want equal distribution of the items in your bins, use qcut . \n",
    "If you want to define your own numeric bin ranges, then use cut"
   ]
  },
  {
   "cell_type": "code",
   "execution_count": 12,
   "id": "235de968",
   "metadata": {},
   "outputs": [
    {
     "data": {
      "text/plain": [
       "(0                Adult\n",
       " 1                Adult\n",
       " 2       Senior Citizen\n",
       " 3                Adult\n",
       " 4           Middle Age\n",
       "              ...      \n",
       " 1227    Senior Citizen\n",
       " 1228          Juvenile\n",
       " 1229        Middle Age\n",
       " 1230    Senior Citizen\n",
       " 1231          Juvenile\n",
       " Name: Age, Length: 1232, dtype: category\n",
       " Categories (4, object): ['Juvenile' < 'Adult' < 'Middle Age' < 'Senior Citizen'],\n",
       " array([ 1., 37., 54., 66., 91.]))"
      ]
     },
     "execution_count": 12,
     "metadata": {},
     "output_type": "execute_result"
    }
   ],
   "source": [
    "# 2. Frequency Binning\n",
    "# qcut() - Discretize variable into equal-sized buckets based on rank or based on sample quantiles.\n",
    "\n",
    "pd.qcut(df['Age'], q=4, precision=1, labels=labels,retbins=True)\n",
    "\n",
    "#df['bin_freq'] = pd.qcut(df['Age'], q=4, precision=1, labels=labels)\n",
    "#print(df['bin_freq'])\n",
    "#print(df['bin_freq'].values.tolist())"
   ]
  }
 ],
 "metadata": {
  "jupytext": {
   "cell_metadata_filter": "-all",
   "main_language": "python",
   "notebook_metadata_filter": "-all"
  },
  "kernelspec": {
   "display_name": "Python 3 (ipykernel)",
   "language": "python",
   "name": "python3"
  },
  "language_info": {
   "codemirror_mode": {
    "name": "ipython",
    "version": 3
   },
   "file_extension": ".py",
   "mimetype": "text/x-python",
   "name": "python",
   "nbconvert_exporter": "python",
   "pygments_lexer": "ipython3",
   "version": "3.9.13"
  }
 },
 "nbformat": 4,
 "nbformat_minor": 5
}
