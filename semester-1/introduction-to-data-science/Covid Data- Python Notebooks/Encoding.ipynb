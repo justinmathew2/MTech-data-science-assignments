{
 "cells": [
  {
   "cell_type": "code",
   "execution_count": 1,
   "id": "d460df14",
   "metadata": {},
   "outputs": [],
   "source": [
    "# Demonstrate One-hot encoding and Label encoding in Python\n",
    "# 1. Importing the Libraries\n",
    "import pandas as pd\n",
    "import numpy as np"
   ]
  },
  {
   "cell_type": "code",
   "execution_count": 2,
   "id": "1e49cc13",
   "metadata": {},
   "outputs": [
    {
     "name": "stdout",
     "output_type": "stream",
     "text": [
      "     Gender  Age  Co_Morbid  Admit_date Discharge_date  Remdesivir_Given  \\\n",
      "0         M   46          1  01-09-2021     15-09-2021                 0   \n",
      "1         M   51          1  03-09-2021     15-09-2021                 1   \n",
      "2         F   82          1  06-09-2021     15-09-2021                 1   \n",
      "3         M   51          1  08-09-2021     15-09-2021                 0   \n",
      "4         M   66          1  09-09-2021     15-09-2021                 0   \n",
      "...     ...  ...        ...         ...            ...               ...   \n",
      "1227      F   76          1  25-04-2021     26-04-2021                 0   \n",
      "1228      F   27          0  16-04-2021     26-04-2021                 0   \n",
      "1229      M   65          1  14-04-2021     25-04-2021                 0   \n",
      "1230      F   76          1  15-04-2021     24-04-2021                 0   \n",
      "1231      F   32          0  19-04-2021     24-04-2021                 1   \n",
      "\n",
      "      DaysOfStay  DischargeType  Covid_Severity Covid_SeverityDescription  \\\n",
      "0             14              1               3                    Severe   \n",
      "1             12              2               3                    Severe   \n",
      "2              9              2               3                    Severe   \n",
      "3              7              1               2                  Moderate   \n",
      "4              6              1               1                      Mild   \n",
      "...          ...            ...             ...                       ...   \n",
      "1227           1              2               2                  Moderate   \n",
      "1228          10              2               1                      Mild   \n",
      "1229          11              2               4              Undetermined   \n",
      "1230           9              1               3                    Severe   \n",
      "1231           5              1               2                  Moderate   \n",
      "\n",
      "     DischargeTypeCategorical  \n",
      "0                   Recovered  \n",
      "1                     Expired  \n",
      "2                     Expired  \n",
      "3                   Recovered  \n",
      "4                   Recovered  \n",
      "...                       ...  \n",
      "1227                  Expired  \n",
      "1228                  Expired  \n",
      "1229                  Expired  \n",
      "1230                Recovered  \n",
      "1231                Recovered  \n",
      "\n",
      "[1232 rows x 11 columns]\n"
     ]
    }
   ],
   "source": [
    "# 2. Reading the file\n",
    "df = pd.read_csv(\"Covid_data.csv\")\n",
    "print(df)"
   ]
  },
  {
   "cell_type": "code",
   "execution_count": 3,
   "id": "1080a0eb",
   "metadata": {},
   "outputs": [
    {
     "name": "stdout",
     "output_type": "stream",
     "text": [
      "0       1\n",
      "1       1\n",
      "2       0\n",
      "3       1\n",
      "4       1\n",
      "       ..\n",
      "1227    0\n",
      "1228    0\n",
      "1229    1\n",
      "1230    0\n",
      "1231    0\n",
      "Name: Gender, Length: 1232, dtype: int32\n"
     ]
    }
   ],
   "source": [
    "#3. Apply Label encoding to the field 'Gender'\n",
    "# Import LabelEncoder\n",
    "from sklearn.preprocessing import LabelEncoder\n",
    "le = LabelEncoder()  \n",
    "df['Gender']=le.fit_transform(df['Gender'])\n",
    "print(df['Gender'])"
   ]
  },
  {
   "cell_type": "code",
   "execution_count": 4,
   "id": "8d30b063",
   "metadata": {},
   "outputs": [
    {
     "name": "stdout",
     "output_type": "stream",
     "text": [
      "0       2\n",
      "1       2\n",
      "2       2\n",
      "3       1\n",
      "4       0\n",
      "       ..\n",
      "1227    1\n",
      "1228    0\n",
      "1229    3\n",
      "1230    2\n",
      "1231    1\n",
      "Name: Covid_Severity, Length: 1232, dtype: int32\n"
     ]
    }
   ],
   "source": [
    "# For Covid_Severity field\n",
    "le = LabelEncoder()  \n",
    "df['Covid_Severity']=le.fit_transform(df['Covid_SeverityDescription'])\n",
    "print(df['Covid_Severity'])"
   ]
  },
  {
   "cell_type": "code",
   "execution_count": 5,
   "id": "35e9b381",
   "metadata": {},
   "outputs": [
    {
     "name": "stdout",
     "output_type": "stream",
     "text": [
      "1    739\n",
      "0    493\n",
      "Name: Gender, dtype: int64\n",
      "      Age  Co_Morbid  Admit_date Discharge_date  Remdesivir_Given  DaysOfStay  \\\n",
      "0      46          1  01-09-2021     15-09-2021                 0          14   \n",
      "1      51          1  03-09-2021     15-09-2021                 1          12   \n",
      "2      82          1  06-09-2021     15-09-2021                 1           9   \n",
      "3      51          1  08-09-2021     15-09-2021                 0           7   \n",
      "4      66          1  09-09-2021     15-09-2021                 0           6   \n",
      "...   ...        ...         ...            ...               ...         ...   \n",
      "1227   76          1  25-04-2021     26-04-2021                 0           1   \n",
      "1228   27          0  16-04-2021     26-04-2021                 0          10   \n",
      "1229   65          1  14-04-2021     25-04-2021                 0          11   \n",
      "1230   76          1  15-04-2021     24-04-2021                 0           9   \n",
      "1231   32          0  19-04-2021     24-04-2021                 1           5   \n",
      "\n",
      "      DischargeType  Covid_Severity Covid_SeverityDescription  \\\n",
      "0                 1               2                    Severe   \n",
      "1                 2               2                    Severe   \n",
      "2                 2               2                    Severe   \n",
      "3                 1               1                  Moderate   \n",
      "4                 1               0                      Mild   \n",
      "...             ...             ...                       ...   \n",
      "1227              2               1                  Moderate   \n",
      "1228              2               0                      Mild   \n",
      "1229              2               3              Undetermined   \n",
      "1230              1               2                    Severe   \n",
      "1231              1               1                  Moderate   \n",
      "\n",
      "     DischargeTypeCategorical  Gender_0  Gender_1  \n",
      "0                   Recovered         0         1  \n",
      "1                     Expired         0         1  \n",
      "2                     Expired         1         0  \n",
      "3                   Recovered         0         1  \n",
      "4                   Recovered         0         1  \n",
      "...                       ...       ...       ...  \n",
      "1227                  Expired         1         0  \n",
      "1228                  Expired         1         0  \n",
      "1229                  Expired         0         1  \n",
      "1230                Recovered         1         0  \n",
      "1231                Recovered         1         0  \n",
      "\n",
      "[1232 rows x 12 columns]\n"
     ]
    }
   ],
   "source": [
    "# Represent Gender using One-Hot Encoding\n",
    "# importing one hot encoder \n",
    "print(df['Gender'].value_counts())\n",
    "from sklearn.preprocessing import OneHotEncoder\n",
    "one_hot_encoded_data = pd.get_dummies(df, columns = ['Gender'])\n",
    "print(one_hot_encoded_data)"
   ]
  },
  {
   "cell_type": "code",
   "execution_count": 6,
   "id": "01c18944",
   "metadata": {},
   "outputs": [
    {
     "name": "stdout",
     "output_type": "stream",
     "text": [
      "2    396\n",
      "3    390\n",
      "0    250\n",
      "1    196\n",
      "Name: Covid_Severity, dtype: int64\n",
      "      Gender  Age  Co_Morbid  Admit_date Discharge_date  Remdesivir_Given  \\\n",
      "0          1   46          1  01-09-2021     15-09-2021                 0   \n",
      "1          1   51          1  03-09-2021     15-09-2021                 1   \n",
      "2          0   82          1  06-09-2021     15-09-2021                 1   \n",
      "3          1   51          1  08-09-2021     15-09-2021                 0   \n",
      "4          1   66          1  09-09-2021     15-09-2021                 0   \n",
      "...      ...  ...        ...         ...            ...               ...   \n",
      "1227       0   76          1  25-04-2021     26-04-2021                 0   \n",
      "1228       0   27          0  16-04-2021     26-04-2021                 0   \n",
      "1229       1   65          1  14-04-2021     25-04-2021                 0   \n",
      "1230       0   76          1  15-04-2021     24-04-2021                 0   \n",
      "1231       0   32          0  19-04-2021     24-04-2021                 1   \n",
      "\n",
      "      DaysOfStay  DischargeType Covid_SeverityDescription  \\\n",
      "0             14              1                    Severe   \n",
      "1             12              2                    Severe   \n",
      "2              9              2                    Severe   \n",
      "3              7              1                  Moderate   \n",
      "4              6              1                      Mild   \n",
      "...          ...            ...                       ...   \n",
      "1227           1              2                  Moderate   \n",
      "1228          10              2                      Mild   \n",
      "1229          11              2              Undetermined   \n",
      "1230           9              1                    Severe   \n",
      "1231           5              1                  Moderate   \n",
      "\n",
      "     DischargeTypeCategorical  Covid_Severity_0  Covid_Severity_1  \\\n",
      "0                   Recovered                 0                 0   \n",
      "1                     Expired                 0                 0   \n",
      "2                     Expired                 0                 0   \n",
      "3                   Recovered                 0                 1   \n",
      "4                   Recovered                 1                 0   \n",
      "...                       ...               ...               ...   \n",
      "1227                  Expired                 0                 1   \n",
      "1228                  Expired                 1                 0   \n",
      "1229                  Expired                 0                 0   \n",
      "1230                Recovered                 0                 0   \n",
      "1231                Recovered                 0                 1   \n",
      "\n",
      "      Covid_Severity_2  Covid_Severity_3  \n",
      "0                    1                 0  \n",
      "1                    1                 0  \n",
      "2                    1                 0  \n",
      "3                    0                 0  \n",
      "4                    0                 0  \n",
      "...                ...               ...  \n",
      "1227                 0                 0  \n",
      "1228                 0                 0  \n",
      "1229                 0                 1  \n",
      "1230                 1                 0  \n",
      "1231                 0                 0  \n",
      "\n",
      "[1232 rows x 14 columns]\n"
     ]
    }
   ],
   "source": [
    "# One hot encoding for Covid_Severity field\n",
    "print(df['Covid_Severity'].value_counts())\n",
    "from sklearn.preprocessing import OneHotEncoder\n",
    "one_hot_encoded_data = pd.get_dummies(df, columns = ['Covid_Severity'])\n",
    "print(one_hot_encoded_data)"
   ]
  },
  {
   "cell_type": "markdown",
   "id": "d5c1946f",
   "metadata": {},
   "source": [
    "For multiple columns\n",
    "one_hot_encoded_data = pd.get_dummies(df, columns = ['Covid_Severity', 'Gender'])\n",
    "print(one_hot_encoded_data)"
   ]
  }
 ],
 "metadata": {
  "jupytext": {
   "cell_metadata_filter": "-all",
   "main_language": "python",
   "notebook_metadata_filter": "-all"
  },
  "kernelspec": {
   "display_name": "Python 3",
   "language": "python",
   "name": "python3"
  },
  "language_info": {
   "codemirror_mode": {
    "name": "ipython",
    "version": 3
   },
   "file_extension": ".py",
   "mimetype": "text/x-python",
   "name": "python",
   "nbconvert_exporter": "python",
   "pygments_lexer": "ipython3",
   "version": "3.7.3"
  }
 },
 "nbformat": 4,
 "nbformat_minor": 5
}
